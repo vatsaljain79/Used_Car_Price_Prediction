{
 "cells": [
  {
   "cell_type": "code",
   "execution_count": 26,
   "metadata": {
    "colab": {
     "base_uri": "https://localhost:8080/"
    },
    "id": "pwvlZf8FdIvv",
    "outputId": "2f110493-89f7-4ffe-ec22-9190ad343a2f"
   },
   "outputs": [
    {
     "name": "stdout",
     "output_type": "stream",
     "text": [
      "fatal: destination path 'Used_car_prediction' already exists and is not an empty directory.\n"
     ]
    }
   ],
   "source": [
    "# For Cloning to Google Colab\n",
    "!git clone https://github.com/vatsaljain79/Used_car_prediction"
   ]
  },
  {
   "cell_type": "code",
   "execution_count": null,
   "metadata": {
    "colab": {
     "base_uri": "https://localhost:8080/"
    },
    "id": "Ztrngq90dIvw",
    "outputId": "212329da-a5eb-403c-c1c5-c50d02e97455"
   },
   "outputs": [
    {
     "name": "stdout",
     "output_type": "stream",
     "text": [
      "Requirement already satisfied: tabulate in /usr/local/lib/python3.10/dist-packages (0.9.0)\n",
      "Requirement already satisfied: catboost in /usr/local/lib/python3.10/dist-packages (1.2.7)\n",
      "Requirement already satisfied: graphviz in /usr/local/lib/python3.10/dist-packages (from catboost) (0.20.3)\n",
      "Requirement already satisfied: matplotlib in /usr/local/lib/python3.10/dist-packages (from catboost) (3.8.0)\n",
      "Requirement already satisfied: numpy<2.0,>=1.16.0 in /usr/local/lib/python3.10/dist-packages (from catboost) (1.26.4)\n",
      "Requirement already satisfied: pandas>=0.24 in /usr/local/lib/python3.10/dist-packages (from catboost) (2.2.2)\n",
      "Requirement already satisfied: scipy in /usr/local/lib/python3.10/dist-packages (from catboost) (1.13.1)\n",
      "Requirement already satisfied: plotly in /usr/local/lib/python3.10/dist-packages (from catboost) (5.24.1)\n",
      "Requirement already satisfied: six in /usr/local/lib/python3.10/dist-packages (from catboost) (1.16.0)\n",
      "Requirement already satisfied: python-dateutil>=2.8.2 in /usr/local/lib/python3.10/dist-packages (from pandas>=0.24->catboost) (2.8.2)\n",
      "Requirement already satisfied: pytz>=2020.1 in /usr/local/lib/python3.10/dist-packages (from pandas>=0.24->catboost) (2024.2)\n",
      "Requirement already satisfied: tzdata>=2022.7 in /usr/local/lib/python3.10/dist-packages (from pandas>=0.24->catboost) (2024.2)\n",
      "Requirement already satisfied: contourpy>=1.0.1 in /usr/local/lib/python3.10/dist-packages (from matplotlib->catboost) (1.3.1)\n",
      "Requirement already satisfied: cycler>=0.10 in /usr/local/lib/python3.10/dist-packages (from matplotlib->catboost) (0.12.1)\n",
      "Requirement already satisfied: fonttools>=4.22.0 in /usr/local/lib/python3.10/dist-packages (from matplotlib->catboost) (4.55.0)\n",
      "Requirement already satisfied: kiwisolver>=1.0.1 in /usr/local/lib/python3.10/dist-packages (from matplotlib->catboost) (1.4.7)\n",
      "Requirement already satisfied: packaging>=20.0 in /usr/local/lib/python3.10/dist-packages (from matplotlib->catboost) (24.2)\n",
      "Requirement already satisfied: pillow>=6.2.0 in /usr/local/lib/python3.10/dist-packages (from matplotlib->catboost) (11.0.0)\n",
      "Requirement already satisfied: pyparsing>=2.3.1 in /usr/local/lib/python3.10/dist-packages (from matplotlib->catboost) (3.2.0)\n",
      "Requirement already satisfied: tenacity>=6.2.0 in /usr/local/lib/python3.10/dist-packages (from plotly->catboost) (9.0.0)\n",
      "Requirement already satisfied: xgboost in /usr/local/lib/python3.10/dist-packages (2.1.2)\n",
      "Requirement already satisfied: numpy in /usr/local/lib/python3.10/dist-packages (from xgboost) (1.26.4)\n",
      "Requirement already satisfied: nvidia-nccl-cu12 in /usr/local/lib/python3.10/dist-packages (from xgboost) (2.23.4)\n",
      "Requirement already satisfied: scipy in /usr/local/lib/python3.10/dist-packages (from xgboost) (1.13.1)\n",
      "Requirement already satisfied: lightgbm in /usr/local/lib/python3.10/dist-packages (4.5.0)\n",
      "Requirement already satisfied: numpy>=1.17.0 in /usr/local/lib/python3.10/dist-packages (from lightgbm) (1.26.4)\n",
      "Requirement already satisfied: scipy in /usr/local/lib/python3.10/dist-packages (from lightgbm) (1.13.1)\n",
      "Requirement already satisfied: tensorflow in /usr/local/lib/python3.10/dist-packages (2.17.1)\n",
      "Requirement already satisfied: absl-py>=1.0.0 in /usr/local/lib/python3.10/dist-packages (from tensorflow) (1.4.0)\n",
      "Requirement already satisfied: astunparse>=1.6.0 in /usr/local/lib/python3.10/dist-packages (from tensorflow) (1.6.3)\n",
      "Requirement already satisfied: flatbuffers>=24.3.25 in /usr/local/lib/python3.10/dist-packages (from tensorflow) (24.3.25)\n",
      "Requirement already satisfied: gast!=0.5.0,!=0.5.1,!=0.5.2,>=0.2.1 in /usr/local/lib/python3.10/dist-packages (from tensorflow) (0.6.0)\n",
      "Requirement already satisfied: google-pasta>=0.1.1 in /usr/local/lib/python3.10/dist-packages (from tensorflow) (0.2.0)\n",
      "Requirement already satisfied: h5py>=3.10.0 in /usr/local/lib/python3.10/dist-packages (from tensorflow) (3.12.1)\n",
      "Requirement already satisfied: libclang>=13.0.0 in /usr/local/lib/python3.10/dist-packages (from tensorflow) (18.1.1)\n",
      "Requirement already satisfied: ml-dtypes<0.5.0,>=0.3.1 in /usr/local/lib/python3.10/dist-packages (from tensorflow) (0.4.1)\n",
      "Requirement already satisfied: opt-einsum>=2.3.2 in /usr/local/lib/python3.10/dist-packages (from tensorflow) (3.4.0)\n",
      "Requirement already satisfied: packaging in /usr/local/lib/python3.10/dist-packages (from tensorflow) (24.2)\n",
      "Requirement already satisfied: protobuf!=4.21.0,!=4.21.1,!=4.21.2,!=4.21.3,!=4.21.4,!=4.21.5,<5.0.0dev,>=3.20.3 in /usr/local/lib/python3.10/dist-packages (from tensorflow) (4.25.5)\n",
      "Requirement already satisfied: requests<3,>=2.21.0 in /usr/local/lib/python3.10/dist-packages (from tensorflow) (2.32.3)\n",
      "Requirement already satisfied: setuptools in /usr/local/lib/python3.10/dist-packages (from tensorflow) (75.1.0)\n",
      "Requirement already satisfied: six>=1.12.0 in /usr/local/lib/python3.10/dist-packages (from tensorflow) (1.16.0)\n",
      "Requirement already satisfied: termcolor>=1.1.0 in /usr/local/lib/python3.10/dist-packages (from tensorflow) (2.5.0)\n",
      "Requirement already satisfied: typing-extensions>=3.6.6 in /usr/local/lib/python3.10/dist-packages (from tensorflow) (4.12.2)\n",
      "Requirement already satisfied: wrapt>=1.11.0 in /usr/local/lib/python3.10/dist-packages (from tensorflow) (1.16.0)\n",
      "Requirement already satisfied: grpcio<2.0,>=1.24.3 in /usr/local/lib/python3.10/dist-packages (from tensorflow) (1.68.0)\n",
      "Requirement already satisfied: tensorboard<2.18,>=2.17 in /usr/local/lib/python3.10/dist-packages (from tensorflow) (2.17.1)\n",
      "Requirement already satisfied: keras>=3.2.0 in /usr/local/lib/python3.10/dist-packages (from tensorflow) (3.5.0)\n",
      "Requirement already satisfied: tensorflow-io-gcs-filesystem>=0.23.1 in /usr/local/lib/python3.10/dist-packages (from tensorflow) (0.37.1)\n",
      "Requirement already satisfied: numpy<2.0.0,>=1.23.5 in /usr/local/lib/python3.10/dist-packages (from tensorflow) (1.26.4)\n",
      "Requirement already satisfied: wheel<1.0,>=0.23.0 in /usr/local/lib/python3.10/dist-packages (from astunparse>=1.6.0->tensorflow) (0.45.0)\n",
      "Requirement already satisfied: rich in /usr/local/lib/python3.10/dist-packages (from keras>=3.2.0->tensorflow) (13.9.4)\n",
      "Requirement already satisfied: namex in /usr/local/lib/python3.10/dist-packages (from keras>=3.2.0->tensorflow) (0.0.8)\n",
      "Requirement already satisfied: optree in /usr/local/lib/python3.10/dist-packages (from keras>=3.2.0->tensorflow) (0.13.1)\n",
      "Requirement already satisfied: charset-normalizer<4,>=2 in /usr/local/lib/python3.10/dist-packages (from requests<3,>=2.21.0->tensorflow) (3.4.0)\n",
      "Requirement already satisfied: idna<4,>=2.5 in /usr/local/lib/python3.10/dist-packages (from requests<3,>=2.21.0->tensorflow) (3.10)\n",
      "Requirement already satisfied: urllib3<3,>=1.21.1 in /usr/local/lib/python3.10/dist-packages (from requests<3,>=2.21.0->tensorflow) (2.2.3)\n",
      "Requirement already satisfied: certifi>=2017.4.17 in /usr/local/lib/python3.10/dist-packages (from requests<3,>=2.21.0->tensorflow) (2024.8.30)\n",
      "Requirement already satisfied: markdown>=2.6.8 in /usr/local/lib/python3.10/dist-packages (from tensorboard<2.18,>=2.17->tensorflow) (3.7)\n",
      "Requirement already satisfied: tensorboard-data-server<0.8.0,>=0.7.0 in /usr/local/lib/python3.10/dist-packages (from tensorboard<2.18,>=2.17->tensorflow) (0.7.2)\n",
      "Requirement already satisfied: werkzeug>=1.0.1 in /usr/local/lib/python3.10/dist-packages (from tensorboard<2.18,>=2.17->tensorflow) (3.1.3)\n",
      "Requirement already satisfied: MarkupSafe>=2.1.1 in /usr/local/lib/python3.10/dist-packages (from werkzeug>=1.0.1->tensorboard<2.18,>=2.17->tensorflow) (3.0.2)\n",
      "Requirement already satisfied: markdown-it-py>=2.2.0 in /usr/local/lib/python3.10/dist-packages (from rich->keras>=3.2.0->tensorflow) (3.0.0)\n",
      "Requirement already satisfied: pygments<3.0.0,>=2.13.0 in /usr/local/lib/python3.10/dist-packages (from rich->keras>=3.2.0->tensorflow) (2.18.0)\n",
      "Requirement already satisfied: mdurl~=0.1 in /usr/local/lib/python3.10/dist-packages (from markdown-it-py>=2.2.0->rich->keras>=3.2.0->tensorflow) (0.1.2)\n"
     ]
    }
   ],
   "source": [
    "# For google colab\n",
    "!pip install tabulate\n",
    "!pip install catboost\n",
    "!pip install xgboost\n",
    "!pip install lightgbm\n",
    "!pip install tensorflow"
   ]
  },
  {
   "cell_type": "markdown",
   "metadata": {
    "id": "3YL88CLMdIvx"
   },
   "source": [
    "## Importing Required Libraries"
   ]
  },
  {
   "cell_type": "code",
   "execution_count": 28,
   "metadata": {
    "id": "nVZzO34WdIvy"
   },
   "outputs": [],
   "source": [
    "# General Libraries\n",
    "import pandas as pd\n",
    "import numpy as np\n",
    "import matplotlib.pyplot as plt\n",
    "import seaborn as sns\n",
    "import re\n",
    "import datetime\n",
    "import warnings\n",
    "from tabulate import tabulate\n",
    "\n",
    "# Suppress Warnings\n",
    "from pandas.errors import SettingWithCopyWarning\n",
    "warnings.filterwarnings(\"ignore\", category=UserWarning)\n",
    "warnings.simplefilter(action='ignore', category=SettingWithCopyWarning)\n",
    "warnings.filterwarnings(\"ignore\", category=RuntimeWarning)\n",
    "\n",
    "# Preprocessing\n",
    "from sklearn.preprocessing import LabelEncoder, StandardScaler, PolynomialFeatures\n",
    "from sklearn.decomposition import PCA\n",
    "\n",
    "# Model Selection\n",
    "from sklearn.model_selection import train_test_split, KFold\n",
    "\n",
    "# Metrics\n",
    "from sklearn.metrics import mean_squared_error, r2_score\n",
    "\n",
    "# Machine Learning Models\n",
    "from sklearn.linear_model import LinearRegression, Ridge, Lasso, ElasticNet\n",
    "from sklearn.tree import DecisionTreeRegressor\n",
    "from sklearn.ensemble import (\n",
    "    RandomForestRegressor, GradientBoostingRegressor, StackingRegressor,\n",
    "    ExtraTreesRegressor, VotingRegressor\n",
    ")\n",
    "from sklearn.neighbors import KNeighborsRegressor\n",
    "from sklearn.svm import SVR\n",
    "from sklearn.neural_network import MLPRegressor\n",
    "\n",
    "# Gradient Boosting Models\n",
    "from xgboost import XGBRegressor\n",
    "from lightgbm import LGBMRegressor\n",
    "from catboost import CatBoostRegressor, Pool\n",
    "\n",
    "# Deep Learning Models\n",
    "from tensorflow import keras\n",
    "from keras import Sequential, layers\n",
    "from keras.metrics import RootMeanSquaredError\n",
    "from tensorflow.keras.layers import Dense\n",
    "from tensorflow.keras.optimizers import Adam\n",
    "from tensorflow.keras.callbacks import EarlyStopping\n"
   ]
  },
  {
   "cell_type": "markdown",
   "metadata": {
    "id": "iFT_L_bQdIvy"
   },
   "source": [
    "## Loading and Displaying the Dataset\n",
    "\n",
    "This code loads the dataset from the specified CSV file and then displays the first few rows of the DataFrame in a tabular format using the `tabulate` function.\n"
   ]
  },
  {
   "cell_type": "code",
   "execution_count": 29,
   "metadata": {
    "colab": {
     "base_uri": "https://localhost:8080/"
    },
    "id": "0vc0n_7edIvy",
    "outputId": "343d26d3-94e4-47b4-facd-ae59b8eb94bb"
   },
   "outputs": [
    {
     "name": "stdout",
     "output_type": "stream",
     "text": [
      "+---+------------+----+---------+---------------+------------+--------+-----------+-----------------------------------------------------------------------+--------------------------------+---------+---------+---------------+-------------+-------+\n",
      "|   | Unnamed: 0 | id |  brand  |     model     | model_year | milage | fuel_type |                                engine                                 |          transmission          | ext_col | int_col |   accident    | clean_title | price |\n",
      "+---+------------+----+---------+---------------+------------+--------+-----------+-----------------------------------------------------------------------+--------------------------------+---------+---------+---------------+-------------+-------+\n",
      "| 0 |     0      | 0  |  Ford   | F-150 Lariat  |    2018    | 74349  | Gasoline  |             375.0HP 3.5L V6 Cylinder Engine Gasoline Fuel             |          10-Speed A/T          |  Blue   |  Gray   | None reported |     Yes     | 11000 |\n",
      "| 1 |     1      | 1  |   BMW   |     335 i     |    2007    | 80000  | Gasoline  |         300.0HP 3.0L Straight 6 Cylinder Engine Gasoline Fuel         |          6-Speed M/T           |  Black  |  Black  | None reported |     Yes     | 8250  |\n",
      "| 2 |     2      | 2  | Jaguar  |   XF Luxury   |    2009    | 91491  | Gasoline  |             300.0HP 4.2L 8 Cylinder Engine Gasoline Fuel              |          6-Speed A/T           | Purple  |  Beige  | None reported |     Yes     | 15000 |\n",
      "| 3 |     3      | 3  |   BMW   | X7 xDrive40i  |    2022    |  2437  |  Hybrid   | 335.0HP 3.0L Straight 6 Cylinder Engine Gasoline/Mild Electric Hybrid | Transmission w/Dual Shift Mode |  Gray   |  Brown  | None reported |     Yes     | 63500 |\n",
      "| 4 |     4      | 4  | Pontiac | Firebird Base |    2001    | 111000 | Gasoline  |             200.0HP 3.8L V6 Cylinder Engine Gasoline Fuel             |              A/T               |  White  |  Black  | None reported |     Yes     | 7850  |\n",
      "+---+------------+----+---------+---------------+------------+--------+-----------+-----------------------------------------------------------------------+--------------------------------+---------+---------+---------------+-------------+-------+\n"
     ]
    }
   ],
   "source": [
    "# Load the dataset\n",
    "data_url = '/content/Used_car_prediction/training_data.csv'\n",
    "df = pd.read_csv(data_url)\n",
    "\n",
    "# Display the first few rows in a tabular format\n",
    "print(tabulate(df.head(), headers='keys', tablefmt='pretty'))\n"
   ]
  },
  {
   "cell_type": "markdown",
   "metadata": {
    "id": "rUBoc__GdIvz"
   },
   "source": [
    "## Printing the Price Range\n",
    "\n",
    "This code calculates and prints the maximum and minimum prices present in the 'price' column of the dataset.\n"
   ]
  },
  {
   "cell_type": "code",
   "execution_count": 30,
   "metadata": {
    "colab": {
     "base_uri": "https://localhost:8080/"
    },
    "id": "yAZZTMLqdIvz",
    "outputId": "b19acbee-45f2-457b-c428-646c61ef45b7"
   },
   "outputs": [
    {
     "name": "stdout",
     "output_type": "stream",
     "text": [
      "Max and Min price present in the dataset\n",
      "Max Price: 2954083\n",
      "Min Price: 2000\n"
     ]
    }
   ],
   "source": [
    "# Print the range of prices\n",
    "print(\"Max and Min price present in the dataset\")\n",
    "print(\"Max Price:\", max(df['price']))\n",
    "print(\"Min Price:\", min(df['price']))"
   ]
  },
  {
   "cell_type": "markdown",
   "metadata": {
    "id": "x9Km9WbUdIvz"
   },
   "source": [
    "## Cleaning Missing Data and Checking for NaNs\n",
    "\n",
    "This code drops the 'Unnamed: 0' column (if it exists) and replaces any occurrences of `–` or `None` with `NaN`. It then checks for any missing values (NaN) in the DataFrame and prints the count of missing values for each column.\n"
   ]
  },
  {
   "cell_type": "code",
   "execution_count": 31,
   "metadata": {
    "colab": {
     "base_uri": "https://localhost:8080/"
    },
    "id": "nYDAL77ydIvz",
    "outputId": "085645a8-b74e-4630-f127-5cef7ed8c996"
   },
   "outputs": [
    {
     "name": "stdout",
     "output_type": "stream",
     "text": [
      "Number of NaN values present:\n",
      "id                0\n",
      "brand             0\n",
      "model             0\n",
      "model_year        0\n",
      "milage            0\n",
      "fuel_type       278\n",
      "engine          312\n",
      "transmission      6\n",
      "ext_col          40\n",
      "int_col         954\n",
      "accident          0\n",
      "clean_title       0\n",
      "price             0\n",
      "dtype: int64\n"
     ]
    }
   ],
   "source": [
    "if 'Unnamed: 0' in df.columns:\n",
    "    df = df.drop(columns='Unnamed: 0')\n",
    "\n",
    "# Replace '–' and None with NaN (if '–' or 'None' is used as a placeholder for missing data)\n",
    "df.replace('–', np.nan, inplace=True)\n",
    "df.replace([None], np.nan, inplace=True)\n",
    "\n",
    "# Check for any missing values\n",
    "print(\"Number of NaN values present:\")\n",
    "print(df.isna().sum())  # Count all NaN values in each column\n"
   ]
  },
  {
   "cell_type": "markdown",
   "metadata": {
    "id": "HK6S4YMldIv0"
   },
   "source": [
    "## Filling Missing Values\n",
    "\n",
    "This function replaces `-1`, `None`, and `–` in the DataFrame with `NaN`, then fills missing values with the **mean** for numeric columns and the **mode** for categorical columns. Finally, it prints the column names to confirm the data structure.\n"
   ]
  },
  {
   "cell_type": "code",
   "execution_count": 32,
   "metadata": {
    "colab": {
     "base_uri": "https://localhost:8080/"
    },
    "id": "K4vm64wldIv0",
    "outputId": "8448b9f8-0d95-46cc-894e-bff4d4c2d458"
   },
   "outputs": [
    {
     "name": "stdout",
     "output_type": "stream",
     "text": [
      "List of columns present in the dataset\n",
      "['id', 'brand', 'model', 'model_year', 'milage', 'fuel_type', 'engine', 'transmission', 'ext_col', 'int_col', 'accident', 'clean_title', 'price']\n"
     ]
    }
   ],
   "source": [
    "def fill_nan_with_mean_or_mode(df):\n",
    "    # Replacing all instances of -1, None, and '–' with np.nan\n",
    "    df.replace([-1, None, '–'], np.nan, inplace=True)\n",
    "\n",
    "    # Fill NaN values with mean for numeric columns and mode for categorical columns\n",
    "    for col in df.columns:\n",
    "        if df[col].dtype in ['float64', 'int64']:\n",
    "            mean = df[col].mean()\n",
    "            df[col]=df[col].fillna(mean)\n",
    "        else:\n",
    "            mode = df[col].mode()[0]\n",
    "            df[col]=df[col].fillna(mode)\n",
    "    return df\n",
    "\n",
    "df = fill_nan_with_mean_or_mode(df)\n",
    "print(\"List of columns present in the dataset\")\n",
    "print(list(df.columns))"
   ]
  },
  {
   "cell_type": "markdown",
   "metadata": {
    "id": "CToabOaRdIv0"
   },
   "source": [
    "## Collecting Unique Values Information\n",
    "\n",
    "This code collects the number of unique values in each column of the DataFrame and stores the information in a list of lists. It then prints the unique values count for each column in a tabular format.\n",
    "\n"
   ]
  },
  {
   "cell_type": "code",
   "execution_count": 33,
   "metadata": {
    "colab": {
     "base_uri": "https://localhost:8080/"
    },
    "id": "SPUUIsBSdIv0",
    "outputId": "032ff378-262c-4c03-df3e-8f4f91ff9f6c"
   },
   "outputs": [
    {
     "name": "stdout",
     "output_type": "stream",
     "text": [
      "+--------------+----------------------+\n",
      "|    Column    | No. of Unique Values |\n",
      "+--------------+----------------------+\n",
      "|      id      |        50000         |\n",
      "|    brand     |          53          |\n",
      "|    model     |         1825         |\n",
      "|  model_year  |          34          |\n",
      "|    milage    |         3174         |\n",
      "|  fuel_type   |          6           |\n",
      "|    engine    |         1058         |\n",
      "| transmission |          45          |\n",
      "|   ext_col    |         257          |\n",
      "|   int_col    |         122          |\n",
      "|   accident   |          2           |\n",
      "| clean_title  |          1           |\n",
      "|    price     |         1479         |\n",
      "+--------------+----------------------+\n"
     ]
    }
   ],
   "source": [
    "# Collect unique values information in a list of lists\n",
    "unique_values_info = []\n",
    "\n",
    "for col in df.columns:\n",
    "    unique_count = len(df[col].unique())\n",
    "    unique_values_info.append([col, unique_count])\n",
    "\n",
    "# Print the unique values information in tabular format\n",
    "print(tabulate(unique_values_info, headers=[\"Column\", \"No. of Unique Values\"], tablefmt=\"pretty\"))\n"
   ]
  },
  {
   "cell_type": "markdown",
   "metadata": {
    "id": "g6-FZi2zdIv0"
   },
   "source": [
    "## Dropping the 'clean_title' Column\n",
    "\n",
    "This code removes the 'clean_title' column from the DataFrame as it is always set to 1.\n"
   ]
  },
  {
   "cell_type": "code",
   "execution_count": 34,
   "metadata": {
    "id": "Ki157tPGdIv0"
   },
   "outputs": [],
   "source": [
    "# Drop the 'clean_title' column\n",
    "df.drop(['clean_title'], axis=1, inplace=True)"
   ]
  },
  {
   "cell_type": "markdown",
   "metadata": {
    "id": "TC0dePZBdIv0"
   },
   "source": [
    "## Removing Duplicate Rows\n",
    "\n",
    "This code calculates the number of duplicate rows in the DataFrame (ignoring the 'id' column) and removes them. It prints the size of the DataFrame before and after removing duplicates, along with the number of duplicates found.\n"
   ]
  },
  {
   "cell_type": "code",
   "execution_count": 35,
   "metadata": {
    "colab": {
     "base_uri": "https://localhost:8080/"
    },
    "id": "WX7REC8edIv0",
    "outputId": "563b9d4f-fff9-4e46-aa8d-5785baa9c63f"
   },
   "outputs": [
    {
     "name": "stdout",
     "output_type": "stream",
     "text": [
      "Size before removing duplicates: 50000\n",
      "Number of duplicate rows (ignoring 'id'): 1\n",
      "Size after removing duplicates: 49999\n"
     ]
    }
   ],
   "source": [
    "# Get the size of the dataframe before removing duplicates\n",
    "size_before = df.shape[0]\n",
    "\n",
    "# Drop the 'id' column for duplicate checking\n",
    "df.drop(columns=['id'],inplace=True)\n",
    "\n",
    "# Find and remove duplicate rows (ignoring the 'id' column)\n",
    "duplicates = df.duplicated()\n",
    "num_duplicates = duplicates.sum()\n",
    "\n",
    "# Print the number of duplicate rows and the size before removal\n",
    "print(f\"Size before removing duplicates: {size_before}\")\n",
    "print(f\"Number of duplicate rows (ignoring 'id'): {num_duplicates}\")\n",
    "\n",
    "# Remove duplicate rows from the original dataframe\n",
    "df = df[~duplicates]\n",
    "\n",
    "# Print the size after removing duplicates\n",
    "size_after = df.shape[0]\n",
    "print(f\"Size after removing duplicates: {size_after}\")\n",
    "\n"
   ]
  },
  {
   "cell_type": "markdown",
   "metadata": {
    "id": "8PhyR6PqdIv0"
   },
   "source": [
    "## Calculating Price Statistics by Brand\n",
    "\n",
    "This code groups the DataFrame by the 'brand' column, calculates the mean and standard deviation of the 'price' for each brand, and replaces any NaN values in the standard deviation with 0. The result is sorted by mean price in descending order and printed in a tabular format.\n"
   ]
  },
  {
   "cell_type": "code",
   "execution_count": 36,
   "metadata": {
    "colab": {
     "base_uri": "https://localhost:8080/"
    },
    "id": "-BcI_rGRdIv0",
    "outputId": "525070dd-5cdb-47fe-be32-9f151f9a00d7"
   },
   "outputs": [
    {
     "name": "stdout",
     "output_type": "stream",
     "text": [
      "Mean and Standard Deviation of price for each brand (sorted by mean price):\n",
      "+---------------+--------------------+--------------------+\n",
      "|     Brand     |     Mean Price     | Standard Deviation |\n",
      "+---------------+--------------------+--------------------+\n",
      "|    Bugatti    |     1950995.0      |        0.0         |\n",
      "|    Ferrari    | 155434.67088607594 | 132101.7169753634  |\n",
      "|  Lamborghini  | 148357.00862068965 | 207259.80252273992 |\n",
      "|  Rolls-Royce  | 129946.64444444445 | 153718.60242205253 |\n",
      "|     Aston     | 113097.73913043478 | 110478.22351967725 |\n",
      "|    Bentley    | 107137.3893129771  | 109213.81089871496 |\n",
      "|    McLaren    | 106330.85365853658 | 87446.49653747168  |\n",
      "|     Lucid     |      84185.0       | 22295.076810811843 |\n",
      "|    Rivian     | 81864.88461538461  | 30400.452919424635 |\n",
      "|    Porsche    | 63766.89294503692  | 106996.39720638318 |\n",
      "|    Maybach    | 60333.333333333336 | 6783.865662978104  |\n",
      "|   Maserati    | 58046.188976377955 | 79720.04999108284  |\n",
      "|    Genesis    | 51541.579185520364 | 64974.851842143304 |\n",
      "|     Tesla     | 49536.60784313725  | 33804.566622833096 |\n",
      "|     Land      | 47731.06246605106  | 47450.239913856145 |\n",
      "| Mercedes-Benz | 47246.63347639485  | 82724.02555939386  |\n",
      "|     Alfa      | 46358.10769230769  | 49139.77317566449  |\n",
      "|      RAM      | 45406.42170022371  | 102252.72171920634 |\n",
      "|   Chevrolet   | 44294.26220703125  | 115178.9647150634  |\n",
      "|      GMC      | 41316.61201629328  | 134809.5928095294  |\n",
      "|      BMW      | 40425.07809495637  |  40104.3129176583  |\n",
      "|     Ford      | 38015.525064683054 | 42965.70857050883  |\n",
      "|     Audi      | 37397.35101289135  |  87790.1408028385  |\n",
      "|   Cadillac    | 36342.10925539318  | 43473.93752152254  |\n",
      "|     Lotus     | 35657.181818181816 | 19450.339672191752 |\n",
      "|    Jaguar     | 34568.11292962357  | 44656.41771951355  |\n",
      "|    Hummer     | 31990.19135802469  | 231236.55050399795 |\n",
      "|     Lexus     | 30867.77026378897  | 38192.480730615374 |\n",
      "|     Jeep      | 30622.700290979632 | 52835.50393836107  |\n",
      "|   INFINITI    | 29691.198857142856 | 30847.43181020672  |\n",
      "|    Toyota     | 29392.06156716418  | 80346.25951401558  |\n",
      "|      Kia      | 29328.58282208589  | 25535.19006246919  |\n",
      "|     Acura     | 28356.28966789668  | 128748.84005145179 |\n",
      "|     Dodge     | 28335.550755939526 | 39797.481750878105 |\n",
      "|    Lincoln    | 27904.209563994373 | 30331.561268652986 |\n",
      "|     Buick     | 27830.14150943396  | 29287.156500829005 |\n",
      "|     Volvo     | 27700.95933014354  | 25030.533144676236 |\n",
      "|    Nissan     | 24153.342036553524 |  33797.3105291529  |\n",
      "|     Mazda     | 24104.967095851214 | 26959.489676111014 |\n",
      "|    Subaru     | 22785.77306002928  | 29337.843750210493 |\n",
      "|  Volkswagen   | 22504.555746140653 |  26077.2231738147  |\n",
      "|    Hyundai    |     18679.6736     | 12441.88593505247  |\n",
      "|     Honda     | 18663.92119089317  | 18137.946005468395 |\n",
      "|   Chrysler    | 18464.34051724138  | 49901.71854773887  |\n",
      "|    Pontiac    | 17483.10714285714  | 20776.947331080897 |\n",
      "|     MINI      | 15333.984984984985 | 12041.100107964174 |\n",
      "|    Mercury    | 14591.368421052632 | 7191.092253696207  |\n",
      "|     FIAT      |      14196.2       | 3887.940240575427  |\n",
      "|    Saturn     | 13860.482142857143 | 10216.03241076775  |\n",
      "|  Mitsubishi   | 13716.778443113772 | 12544.691872401985 |\n",
      "|     Scion     |      13212.5       | 16511.254757273127 |\n",
      "|    Suzuki     |      11099.75      | 5093.4337059263535 |\n",
      "|   Plymouth    |       3850.0       |        0.0         |\n",
      "+---------------+--------------------+--------------------+\n"
     ]
    }
   ],
   "source": [
    "# Group by 'brand' and calculate both mean and standard deviation of price\n",
    "brand_price_stats = df.groupby('brand')['price'].agg(['mean', 'std'])\n",
    "\n",
    "# Replace NaN in 'std' with 0\n",
    "brand_price_stats['std'] = brand_price_stats['std'].fillna(0)\n",
    "\n",
    "# Sort the result by mean price in descending order\n",
    "brand_price_stats_sorted = brand_price_stats.sort_values(by='mean', ascending=False)\n",
    "\n",
    "# Print the mean and standard deviation for each brand in a tabular format\n",
    "print(\"Mean and Standard Deviation of price for each brand (sorted by mean price):\")\n",
    "print(tabulate(brand_price_stats_sorted, headers=[\"Brand\", \"Mean Price\", \"Standard Deviation\"], tablefmt=\"pretty\"))\n",
    "\n",
    "\n"
   ]
  },
  {
   "cell_type": "markdown",
   "metadata": {
    "id": "c96NyudbdIv1"
   },
   "source": [
    "## Visualizing Mean Price Distribution by Brand and Year\n",
    "\n",
    "This code calculates the mean price for each combination of 'brand' and 'model_year' and then creates a bar plot to visualize the mean price distribution. The plot separates the data by model year, with separate bars for each year within each brand, and is styled using the 'viridis' color palette.\n"
   ]
  },
  {
   "cell_type": "code",
   "execution_count": 37,
   "metadata": {
    "colab": {
     "base_uri": "https://localhost:8080/",
     "height": 526
    },
    "id": "u3tc-cxQdIv1",
    "outputId": "f7c6bf10-9b1d-4a99-e9ab-59fb39f29b7b"
   },
   "outputs": [
    {
     "data": {
      "image/png": "[encoded data removed]",
      "text/plain": [
       "<Figure size 1292.49x600 with 1 Axes>"
      ]
     },
     "metadata": {},
     "output_type": "display_data"
    }
   ],
   "source": [
    "brand_year_mean_price = df.groupby(['brand', 'model_year'])['price'].mean().reset_index()\n",
    "\n",
    "# Using a catplot with separate columns for each model year\n",
    "sns.catplot(x='brand', y='price', hue='model_year', kind='bar', data=brand_year_mean_price, palette='viridis', height=6, aspect=2)\n",
    "\n",
    "plt.title('Mean Price Distribution by Brand and Year', fontsize=16)\n",
    "plt.xlabel('Brand', fontsize=12)\n",
    "plt.ylabel('Mean Price', fontsize=12)\n",
    "plt.xticks(rotation=45, ha='right')\n",
    "\n",
    "plt.tight_layout()\n",
    "plt.show()"
   ]
  },
  {
   "cell_type": "markdown",
   "metadata": {
    "id": "uwxXLDjJdIv1"
   },
   "source": [
    "## Plotting Average Price per Year\n",
    "\n",
    "This code calculates the average price for each model year and then plots the data with a line graph. The x-axis represents the model years, and the y-axis shows the average price, with markers for each data point.\n"
   ]
  },
  {
   "cell_type": "code",
   "execution_count": 38,
   "metadata": {
    "colab": {
     "base_uri": "https://localhost:8080/",
     "height": 585
    },
    "id": "D33JUUludIv1",
    "outputId": "24a145fa-c0e8-4664-e2f1-b6807d9f8be1"
   },
   "outputs": [
    {
     "data": {
      "image/png": "[encoded data removed]",
      "text/plain": [
       "<Figure size 1000x600 with 1 Axes>"
      ]
     },
     "metadata": {},
     "output_type": "display_data"
    }
   ],
   "source": [
    "# Group by 'model_year' and calculate the mean price for each year\n",
    "year_wise_avg_price = df.groupby('model_year')['price'].mean()\n",
    "\n",
    "# Plotting the average price for each year\n",
    "plt.figure(figsize=(10, 6))\n",
    "plt.plot(year_wise_avg_price.index, year_wise_avg_price.values, marker='o', linestyle='-', color='b')\n",
    "plt.title(\"Average Price per Year\")\n",
    "plt.xlabel(\"Model Year\")\n",
    "plt.ylabel(\"Average Price\")\n",
    "plt.grid(True)\n",
    "plt.xticks(rotation=45)\n",
    "plt.show()"
   ]
  },
  {
   "cell_type": "markdown",
   "metadata": {
    "id": "bjmzXJxCdIv1"
   },
   "source": [
    "## Removing Outliers and Plotting Average Price per Year\n",
    "\n",
    "This code first removes rows with 'model_year' less than 1990, considering them as outliers. Then, it calculates the average price for each model year and plots the data using a line graph, with model years on the x-axis and average prices on the y-axis.\n"
   ]
  },
  {
   "cell_type": "code",
   "execution_count": 39,
   "metadata": {
    "colab": {
     "base_uri": "https://localhost:8080/",
     "height": 585
    },
    "id": "Q8ggd0VtdIv1",
    "outputId": "61fa3dfa-ebce-4523-a3f7-c62f385d8c5c"
   },
   "outputs": [
    {
     "data": {
      "image/png": "[encoded data removed]",
      "text/plain": [
       "<Figure size 1000x600 with 1 Axes>"
      ]
     },
     "metadata": {},
     "output_type": "display_data"
    }
   ],
   "source": [
    "# Removing the rows with model_year less than 1990 as outliers\n",
    "df = df[df['model_year'] >= 1990]\n",
    "\n",
    "# Group by 'model_year' and calculate the mean price for each year\n",
    "year_wise_avg_price = df.groupby('model_year')['price'].mean()\n",
    "\n",
    "# Plotting the average price for each year\n",
    "plt.figure(figsize=(10, 6))\n",
    "plt.plot(year_wise_avg_price.index, year_wise_avg_price.values, marker='o', linestyle='-', color='b')\n",
    "plt.title(\"Average Price per Year\")\n",
    "plt.xlabel(\"Model Year\")\n",
    "plt.ylabel(\"Average Price\")\n",
    "plt.grid(True)\n",
    "plt.xticks(rotation=45)\n",
    "plt.show()"
   ]
  },
  {
   "cell_type": "markdown",
   "metadata": {
    "id": "A1x0YnH4dIv1"
   },
   "source": [
    "## Encoding Categorical Columns Based on Mean Price\n",
    "\n",
    "This code calculates the mean price for each category in the 'brand', 'model', 'transmission', 'ext_col', and 'int_col' columns, then maps these categories to their corresponding mean prices. For the 'ext_col' and 'int_col', categories are ranked based on average price, with higher average prices receiving higher encoded values. This encoding is applied to the DataFrame to transform the categorical columns into numeric values based on their price.\n"
   ]
  },
  {
   "cell_type": "code",
   "execution_count": 40,
   "metadata": {
    "colab": {
     "base_uri": "https://localhost:8080/",
     "height": 379
    },
    "id": "n-yleVfKdIv1",
    "outputId": "a24e5eb3-57b7-4a6e-c128-de012d22d0d0"
   },
   "outputs": [
    {
     "data": {
      "application/vnd.google.colaboratory.intrinsic+json": {
       "summary": "{\n  \"name\": \"df\",\n  \"rows\": 49994,\n  \"fields\": [\n    {\n      \"column\": \"brand\",\n      \"properties\": {\n        \"dtype\": \"number\",\n        \"std\": 16714.69130462755,\n        \"min\": 3850.0,\n        \"max\": 1950995.0,\n        \"num_unique_values\": 53,\n        \"samples\": [\n          24104.967095851214,\n          129946.64444444445,\n          84185.0\n        ],\n        \"semantic_type\": \"\",\n        \"description\": \"\"\n      }\n    },\n    {\n      \"column\": \"model\",\n      \"properties\": {\n        \"dtype\": \"number\",\n        \"std\": 28889.73970194539,\n        \"min\": 3850.0,\n        \"max\": 1950995.0,\n        \"num_unique_values\": 1813,\n        \"samples\": [\n          26060.666666666668,\n          34365.74074074074,\n          24048.933333333334\n        ],\n        \"semantic_type\": \"\",\n        \"description\": \"\"\n      }\n    },\n    {\n      \"column\": \"model_year\",\n      \"properties\": {\n        \"dtype\": \"number\",\n        \"std\": 5,\n        \"min\": 1992,\n        \"max\": 2024,\n        \"num_unique_values\": 33,\n        \"samples\": [\n          2024,\n          2006,\n          1998\n        ],\n        \"semantic_type\": \"\",\n        \"description\": \"\"\n      }\n    },\n    {\n      \"column\": \"milage\",\n      \"properties\": {\n        \"dtype\": \"number\",\n        \"std\": 50465,\n        \"min\": 100,\n        \"max\": 405000,\n        \"num_unique_values\": 3173,\n        \"samples\": [\n          81323,\n          34068,\n          89352\n        ],\n        \"semantic_type\": \"\",\n        \"description\": \"\"\n      }\n    },\n    {\n      \"column\": \"fuel_type\",\n      \"properties\": {\n        \"dtype\": \"category\",\n        \"num_unique_values\": 6,\n        \"samples\": [\n          \"Gasoline\",\n          \"Hybrid\",\n          \"not supported\"\n        ],\n        \"semantic_type\": \"\",\n        \"description\": \"\"\n      }\n    },\n    {\n      \"column\": \"engine\",\n      \"properties\": {\n        \"dtype\": \"category\",\n        \"num_unique_values\": 1058,\n        \"samples\": [\n          \"310.0HP 4.6L 8 Cylinder Engine Gasoline Fuel\",\n          \"321.0HP 3.6L V6 Cylinder Engine Gasoline Fuel\",\n          \"563.0HP 6.6L 12 Cylinder Engine Gasoline Fuel\"\n        ],\n        \"semantic_type\": \"\",\n        \"description\": \"\"\n      }\n    },\n    {\n      \"column\": \"transmission\",\n      \"properties\": {\n        \"dtype\": \"number\",\n        \"std\": 17380.857098943143,\n        \"min\": 14817.090214067279,\n        \"max\": 1950995.0,\n        \"num_unique_values\": 45,\n        \"samples\": [\n          195863.33333333334,\n          53324.825,\n          160183.1188118812\n        ],\n        \"semantic_type\": \"\",\n        \"description\": \"\"\n      }\n    },\n    {\n      \"column\": \"ext_col\",\n      \"properties\": {\n        \"dtype\": \"number\",\n        \"std\": 10692.143603209046,\n        \"min\": 11005.333333333334,\n        \"max\": 541139.0,\n        \"num_unique_values\": 255,\n        \"samples\": [\n          32063.0,\n          30863.857502095558,\n          64577.916666666664\n        ],\n        \"semantic_type\": \"\",\n        \"description\": \"\"\n      }\n    },\n    {\n      \"column\": \"int_col\",\n      \"properties\": {\n        \"dtype\": \"number\",\n        \"std\": 10586.036435227796,\n        \"min\": 12280.75,\n        \"max\": 261447.5,\n        \"num_unique_values\": 121,\n        \"samples\": [\n          49715.07142857143,\n          23195.333333333332,\n          41713.2479338843\n        ],\n        \"semantic_type\": \"\",\n        \"description\": \"\"\n      }\n    },\n    {\n      \"column\": \"accident\",\n      \"properties\": {\n        \"dtype\": \"category\",\n        \"num_unique_values\": 2,\n        \"samples\": [\n          \"At least 1 accident or damage reported\",\n          \"None reported\"\n        ],\n        \"semantic_type\": \"\",\n        \"description\": \"\"\n      }\n    },\n    {\n      \"column\": \"price\",\n      \"properties\": {\n        \"dtype\": \"number\",\n        \"std\": 73580,\n        \"min\": 2000,\n        \"max\": 2954083,\n        \"num_unique_values\": 1479,\n        \"samples\": [\n          73600,\n          210000\n        ],\n        \"semantic_type\": \"\",\n        \"description\": \"\"\n      }\n    }\n  ]\n}",
       "type": "dataframe",
       "variable_name": "df"
      },
      "text/html": [
       "\n",
       "  <div id=\"df-63dd7aa8-1742-4ea0-aebc-e3efb5648f12\" class=\"colab-df-container\">\n",
       "    <div>\n",
       "<style scoped>\n",
       "    .dataframe tbody tr th:only-of-type {\n",
       "        vertical-align: middle;\n",
       "    }\n",
       "\n",
       "    .dataframe tbody tr th {\n",
       "        vertical-align: top;\n",
       "    }\n",
       "\n",
       "    .dataframe thead th {\n",
       "        text-align: right;\n",
       "    }\n",
       "</style>\n",
       "<table border=\"1\" class=\"dataframe\">\n",
       "  <thead>\n",
       "    <tr style=\"text-align: right;\">\n",
       "      <th></th>\n",
       "      <th>brand</th>\n",
       "      <th>model</th>\n",
       "      <th>model_year</th>\n",
       "      <th>milage</th>\n",
       "      <th>fuel_type</th>\n",
       "      <th>engine</th>\n",
       "      <th>transmission</th>\n",
       "      <th>ext_col</th>\n",
       "      <th>int_col</th>\n",
       "      <th>accident</th>\n",
       "      <th>price</th>\n",
       "    </tr>\n",
       "  </thead>\n",
       "  <tbody>\n",
       "    <tr>\n",
       "      <th>0</th>\n",
       "      <td>38001.538101</td>\n",
       "      <td>42945.437500</td>\n",
       "      <td>2018</td>\n",
       "      <td>74349</td>\n",
       "      <td>Gasoline</td>\n",
       "      <td>375.0HP 3.5L V6 Cylinder Engine Gasoline Fuel</td>\n",
       "      <td>60253.480436</td>\n",
       "      <td>37618.940971</td>\n",
       "      <td>26823.721317</td>\n",
       "      <td>None reported</td>\n",
       "      <td>11000</td>\n",
       "    </tr>\n",
       "    <tr>\n",
       "      <th>1</th>\n",
       "      <td>40425.078095</td>\n",
       "      <td>15631.257009</td>\n",
       "      <td>2007</td>\n",
       "      <td>80000</td>\n",
       "      <td>Gasoline</td>\n",
       "      <td>300.0HP 3.0L Straight 6 Cylinder Engine Gasoli...</td>\n",
       "      <td>33160.346062</td>\n",
       "      <td>38909.767582</td>\n",
       "      <td>41152.659789</td>\n",
       "      <td>None reported</td>\n",
       "      <td>8250</td>\n",
       "    </tr>\n",
       "    <tr>\n",
       "      <th>2</th>\n",
       "      <td>34568.112930</td>\n",
       "      <td>14397.047619</td>\n",
       "      <td>2009</td>\n",
       "      <td>91491</td>\n",
       "      <td>Gasoline</td>\n",
       "      <td>300.0HP 4.2L 8 Cylinder Engine Gasoline Fuel</td>\n",
       "      <td>24772.562000</td>\n",
       "      <td>26274.906977</td>\n",
       "      <td>27616.857511</td>\n",
       "      <td>None reported</td>\n",
       "      <td>15000</td>\n",
       "    </tr>\n",
       "    <tr>\n",
       "      <th>3</th>\n",
       "      <td>40425.078095</td>\n",
       "      <td>69502.713415</td>\n",
       "      <td>2022</td>\n",
       "      <td>2437</td>\n",
       "      <td>Hybrid</td>\n",
       "      <td>335.0HP 3.0L Straight 6 Cylinder Engine Gasoli...</td>\n",
       "      <td>45805.581953</td>\n",
       "      <td>45251.596186</td>\n",
       "      <td>50007.954017</td>\n",
       "      <td>None reported</td>\n",
       "      <td>63500</td>\n",
       "    </tr>\n",
       "    <tr>\n",
       "      <th>4</th>\n",
       "      <td>17483.107143</td>\n",
       "      <td>10793.000000</td>\n",
       "      <td>2001</td>\n",
       "      <td>111000</td>\n",
       "      <td>Gasoline</td>\n",
       "      <td>200.0HP 3.8L V6 Cylinder Engine Gasoline Fuel</td>\n",
       "      <td>30210.769350</td>\n",
       "      <td>37761.358637</td>\n",
       "      <td>41152.659789</td>\n",
       "      <td>None reported</td>\n",
       "      <td>7850</td>\n",
       "    </tr>\n",
       "  </tbody>\n",
       "</table>\n",
       "</div>\n",
       "    <div class=\"colab-df-buttons\">\n",
       "\n",
       "  <div class=\"colab-df-container\">\n",
       "    <button class=\"colab-df-convert\" onclick=\"convertToInteractive('df-63dd7aa8-1742-4ea0-aebc-e3efb5648f12')\"\n",
       "            title=\"Convert this dataframe to an interactive table.\"\n",
       "            style=\"display:none;\">\n",
       "\n",
       "  <svg xmlns=\"http://www.w3.org/2000/svg\" height=\"24px\" viewBox=\"0 -960 960 960\">\n",
       "    <path d=\"M120-120v-720h720v720H120Zm60-500h600v-160H180v160Zm220 220h160v-160H400v160Zm0 220h160v-160H400v160ZM180-400h160v-160H180v160Zm440 0h160v-160H620v160ZM180-180h160v-160H180v160Zm440 0h160v-160H620v160Z\"/>\n",
       "  </svg>\n",
       "    </button>\n",
       "\n",
       "  <style>\n",
       "    .colab-df-container {\n",
       "      display:flex;\n",
       "      gap: 12px;\n",
       "    }\n",
       "\n",
       "    .colab-df-convert {\n",
       "      background-color: #E8F0FE;\n",
       "      border: none;\n",
       "      border-radius: 50%;\n",
       "      cursor: pointer;\n",
       "      display: none;\n",
       "      fill: #1967D2;\n",
       "      height: 32px;\n",
       "      padding: 0 0 0 0;\n",
       "      width: 32px;\n",
       "    }\n",
       "\n",
       "    .colab-df-convert:hover {\n",
       "      background-color: #E2EBFA;\n",
       "      box-shadow: 0px 1px 2px rgba(60, 64, 67, 0.3), 0px 1px 3px 1px rgba(60, 64, 67, 0.15);\n",
       "      fill: #174EA6;\n",
       "    }\n",
       "\n",
       "    .colab-df-buttons div {\n",
       "      margin-bottom: 4px;\n",
       "    }\n",
       "\n",
       "    [theme=dark] .colab-df-convert {\n",
       "      background-color: #3B4455;\n",
       "      fill: #D2E3FC;\n",
       "    }\n",
       "\n",
       "    [theme=dark] .colab-df-convert:hover {\n",
       "      background-color: #434B5C;\n",
       "      box-shadow: 0px 1px 3px 1px rgba(0, 0, 0, 0.15);\n",
       "      filter: drop-shadow(0px 1px 2px rgba(0, 0, 0, 0.3));\n",
       "      fill: #FFFFFF;\n",
       "    }\n",
       "  </style>\n",
       "\n",
       "    <script>\n",
       "      const buttonEl =\n",
       "        document.querySelector('#df-63dd7aa8-1742-4ea0-aebc-e3efb5648f12 button.colab-df-convert');\n",
       "      buttonEl.style.display =\n",
       "        google.colab.kernel.accessAllowed ? 'block' : 'none';\n",
       "\n",
       "      async function convertToInteractive(key) {\n",
       "        const element = document.querySelector('#df-63dd7aa8-1742-4ea0-aebc-e3efb5648f12');\n",
       "        const dataTable =\n",
       "          await google.colab.kernel.invokeFunction('convertToInteractive',\n",
       "                                                    [key], {});\n",
       "        if (!dataTable) return;\n",
       "\n",
       "        const docLinkHtml = 'Like what you see? Visit the ' +\n",
       "          '<a target=\"_blank\" href=https://colab.research.google.com/notebooks/data_table.ipynb>data table notebook</a>'\n",
       "          + ' to learn more about interactive tables.';\n",
       "        element.innerHTML = '';\n",
       "        dataTable['output_type'] = 'display_data';\n",
       "        await google.colab.output.renderOutput(dataTable, element);\n",
       "        const docLink = document.createElement('div');\n",
       "        docLink.innerHTML = docLinkHtml;\n",
       "        element.appendChild(docLink);\n",
       "      }\n",
       "    </script>\n",
       "  </div>\n",
       "\n",
       "\n",
       "<div id=\"df-eca4479b-45ac-4446-abe8-672e3827fbf4\">\n",
       "  <button class=\"colab-df-quickchart\" onclick=\"quickchart('df-eca4479b-45ac-4446-abe8-672e3827fbf4')\"\n",
       "            title=\"Suggest charts\"\n",
       "            style=\"display:none;\">\n",
       "\n",
       "<svg xmlns=\"http://www.w3.org/2000/svg\" height=\"24px\"viewBox=\"0 0 24 24\"\n",
       "     width=\"24px\">\n",
       "    <g>\n",
       "        <path d=\"M19 3H5c-1.1 0-2 .9-2 2v14c0 1.1.9 2 2 2h14c1.1 0 2-.9 2-2V5c0-1.1-.9-2-2-2zM9 17H7v-7h2v7zm4 0h-2V7h2v10zm4 0h-2v-4h2v4z\"/>\n",
       "    </g>\n",
       "</svg>\n",
       "  </button>\n",
       "\n",
       "<style>\n",
       "  .colab-df-quickchart {\n",
       "      --bg-color: #E8F0FE;\n",
       "      --fill-color: #1967D2;\n",
       "      --hover-bg-color: #E2EBFA;\n",
       "      --hover-fill-color: #174EA6;\n",
       "      --disabled-fill-color: #AAA;\n",
       "      --disabled-bg-color: #DDD;\n",
       "  }\n",
       "\n",
       "  [theme=dark] .colab-df-quickchart {\n",
       "      --bg-color: #3B4455;\n",
       "      --fill-color: #D2E3FC;\n",
       "      --hover-bg-color: #434B5C;\n",
       "      --hover-fill-color: #FFFFFF;\n",
       "      --disabled-bg-color: #3B4455;\n",
       "      --disabled-fill-color: #666;\n",
       "  }\n",
       "\n",
       "  .colab-df-quickchart {\n",
       "    background-color: var(--bg-color);\n",
       "    border: none;\n",
       "    border-radius: 50%;\n",
       "    cursor: pointer;\n",
       "    display: none;\n",
       "    fill: var(--fill-color);\n",
       "    height: 32px;\n",
       "    padding: 0;\n",
       "    width: 32px;\n",
       "  }\n",
       "\n",
       "  .colab-df-quickchart:hover {\n",
       "    background-color: var(--hover-bg-color);\n",
       "    box-shadow: 0 1px 2px rgba(60, 64, 67, 0.3), 0 1px 3px 1px rgba(60, 64, 67, 0.15);\n",
       "    fill: var(--button-hover-fill-color);\n",
       "  }\n",
       "\n",
       "  .colab-df-quickchart-complete:disabled,\n",
       "  .colab-df-quickchart-complete:disabled:hover {\n",
       "    background-color: var(--disabled-bg-color);\n",
       "    fill: var(--disabled-fill-color);\n",
       "    box-shadow: none;\n",
       "  }\n",
       "\n",
       "  .colab-df-spinner {\n",
       "    border: 2px solid var(--fill-color);\n",
       "    border-color: transparent;\n",
       "    border-bottom-color: var(--fill-color);\n",
       "    animation:\n",
       "      spin 1s steps(1) infinite;\n",
       "  }\n",
       "\n",
       "  @keyframes spin {\n",
       "    0% {\n",
       "      border-color: transparent;\n",
       "      border-bottom-color: var(--fill-color);\n",
       "      border-left-color: var(--fill-color);\n",
       "    }\n",
       "    20% {\n",
       "      border-color: transparent;\n",
       "      border-left-color: var(--fill-color);\n",
       "      border-top-color: var(--fill-color);\n",
       "    }\n",
       "    30% {\n",
       "      border-color: transparent;\n",
       "      border-left-color: var(--fill-color);\n",
       "      border-top-color: var(--fill-color);\n",
       "      border-right-color: var(--fill-color);\n",
       "    }\n",
       "    40% {\n",
       "      border-color: transparent;\n",
       "      border-right-color: var(--fill-color);\n",
       "      border-top-color: var(--fill-color);\n",
       "    }\n",
       "    60% {\n",
       "      border-color: transparent;\n",
       "      border-right-color: var(--fill-color);\n",
       "    }\n",
       "    80% {\n",
       "      border-color: transparent;\n",
       "      border-right-color: var(--fill-color);\n",
       "      border-bottom-color: var(--fill-color);\n",
       "    }\n",
       "    90% {\n",
       "      border-color: transparent;\n",
       "      border-bottom-color: var(--fill-color);\n",
       "    }\n",
       "  }\n",
       "</style>\n",
       "\n",
       "  <script>\n",
       "    async function quickchart(key) {\n",
       "      const quickchartButtonEl =\n",
       "        document.querySelector('#' + key + ' button');\n",
       "      quickchartButtonEl.disabled = true;  // To prevent multiple clicks.\n",
       "      quickchartButtonEl.classList.add('colab-df-spinner');\n",
       "      try {\n",
       "        const charts = await google.colab.kernel.invokeFunction(\n",
       "            'suggestCharts', [key], {});\n",
       "      } catch (error) {\n",
       "        console.error('Error during call to suggestCharts:', error);\n",
       "      }\n",
       "      quickchartButtonEl.classList.remove('colab-df-spinner');\n",
       "      quickchartButtonEl.classList.add('colab-df-quickchart-complete');\n",
       "    }\n",
       "    (() => {\n",
       "      let quickchartButtonEl =\n",
       "        document.querySelector('#df-eca4479b-45ac-4446-abe8-672e3827fbf4 button');\n",
       "      quickchartButtonEl.style.display =\n",
       "        google.colab.kernel.accessAllowed ? 'block' : 'none';\n",
       "    })();\n",
       "  </script>\n",
       "</div>\n",
       "\n",
       "    </div>\n",
       "  </div>\n"
      ],
      "text/plain": [
       "          brand         model  model_year  milage fuel_type  \\\n",
       "0  38001.538101  42945.437500        2018   74349  Gasoline   \n",
       "1  40425.078095  15631.257009        2007   80000  Gasoline   \n",
       "2  34568.112930  14397.047619        2009   91491  Gasoline   \n",
       "3  40425.078095  69502.713415        2022    2437    Hybrid   \n",
       "4  17483.107143  10793.000000        2001  111000  Gasoline   \n",
       "\n",
       "                                              engine  transmission  \\\n",
       "0      375.0HP 3.5L V6 Cylinder Engine Gasoline Fuel  60253.480436   \n",
       "1  300.0HP 3.0L Straight 6 Cylinder Engine Gasoli...  33160.346062   \n",
       "2       300.0HP 4.2L 8 Cylinder Engine Gasoline Fuel  24772.562000   \n",
       "3  335.0HP 3.0L Straight 6 Cylinder Engine Gasoli...  45805.581953   \n",
       "4      200.0HP 3.8L V6 Cylinder Engine Gasoline Fuel  30210.769350   \n",
       "\n",
       "        ext_col       int_col       accident  price  \n",
       "0  37618.940971  26823.721317  None reported  11000  \n",
       "1  38909.767582  41152.659789  None reported   8250  \n",
       "2  26274.906977  27616.857511  None reported  15000  \n",
       "3  45251.596186  50007.954017  None reported  63500  \n",
       "4  37761.358637  41152.659789  None reported   7850  "
      ]
     },
     "execution_count": 40,
     "metadata": {},
     "output_type": "execute_result"
    }
   ],
   "source": [
    "# Target Encoding\n",
    "\n",
    "# For 'brand'\n",
    "mean_price_by_brand = df.groupby('brand')['price'].mean()\n",
    "brand_mapping = mean_price_by_brand.to_dict()\n",
    "df['brand'] = df['brand'].map(brand_mapping)\n",
    "\n",
    "# For 'model'\n",
    "mean_price_by_model = df.groupby('model')['price'].mean()\n",
    "model_mapping = mean_price_by_model.to_dict()\n",
    "df['model'] = df['model'].map(model_mapping)\n",
    "\n",
    "# For 'transmission'\n",
    "mean_price_by_transmission = df.groupby('transmission')['price'].mean()\n",
    "transmission_mapping = mean_price_by_transmission.to_dict()\n",
    "df['transmission'] = df['transmission'].map(transmission_mapping)\n",
    "\n",
    "# For 'ext_col' and 'int_col'\n",
    "ext_col_avg_price = df.groupby('ext_col')['price'].mean().sort_values()\n",
    "int_col_avg_price = df.groupby('int_col')['price'].mean().sort_values()\n",
    "\n",
    "ext_col_mapping = ext_col_avg_price.to_dict()\n",
    "int_col_mapping = int_col_avg_price.to_dict()\n",
    "\n",
    "df['ext_col'] = df['ext_col'].map(ext_col_mapping)\n",
    "df['int_col'] = df['int_col'].map(int_col_mapping)\n",
    "\n",
    "df.head()\n"
   ]
  },
  {
   "cell_type": "markdown",
   "metadata": {
    "id": "M64BSBrPdIv1"
   },
   "source": [
    "## Calculating the Age of Model Year\n",
    "\n",
    "This code calculates the age of each car model by subtracting the model year from the current year. The 'model_year' column is then updated with the calculated age of the car. The mapping is created dynamically using the current year.\n"
   ]
  },
  {
   "cell_type": "code",
   "execution_count": 41,
   "metadata": {
    "colab": {
     "base_uri": "https://localhost:8080/",
     "height": 293
    },
    "id": "B_7nqjBGdIv1",
    "outputId": "06e1eabb-442c-4ec1-d511-09f654b3888c"
   },
   "outputs": [
    {
     "data": {
      "application/vnd.google.colaboratory.intrinsic+json": {
       "summary": "{\n  \"name\": \"df\",\n  \"rows\": 49994,\n  \"fields\": [\n    {\n      \"column\": \"brand\",\n      \"properties\": {\n        \"dtype\": \"number\",\n        \"std\": 16714.69130462755,\n        \"min\": 3850.0,\n        \"max\": 1950995.0,\n        \"num_unique_values\": 53,\n        \"samples\": [\n          24104.967095851214,\n          129946.64444444445,\n          84185.0\n        ],\n        \"semantic_type\": \"\",\n        \"description\": \"\"\n      }\n    },\n    {\n      \"column\": \"model\",\n      \"properties\": {\n        \"dtype\": \"number\",\n        \"std\": 28889.73970194539,\n        \"min\": 3850.0,\n        \"max\": 1950995.0,\n        \"num_unique_values\": 1813,\n        \"samples\": [\n          26060.666666666668,\n          34365.74074074074,\n          24048.933333333334\n        ],\n        \"semantic_type\": \"\",\n        \"description\": \"\"\n      }\n    },\n    {\n      \"column\": \"age\",\n      \"properties\": {\n        \"dtype\": \"number\",\n        \"std\": 5,\n        \"min\": 1,\n        \"max\": 33,\n        \"num_unique_values\": 33,\n        \"samples\": [\n          1,\n          19,\n          27\n        ],\n        \"semantic_type\": \"\",\n        \"description\": \"\"\n      }\n    },\n    {\n      \"column\": \"milage\",\n      \"properties\": {\n        \"dtype\": \"number\",\n        \"std\": 50465,\n        \"min\": 100,\n        \"max\": 405000,\n        \"num_unique_values\": 3173,\n        \"samples\": [\n          81323,\n          34068,\n          89352\n        ],\n        \"semantic_type\": \"\",\n        \"description\": \"\"\n      }\n    },\n    {\n      \"column\": \"fuel_type\",\n      \"properties\": {\n        \"dtype\": \"category\",\n        \"num_unique_values\": 6,\n        \"samples\": [\n          \"Gasoline\",\n          \"Hybrid\",\n          \"not supported\"\n        ],\n        \"semantic_type\": \"\",\n        \"description\": \"\"\n      }\n    },\n    {\n      \"column\": \"engine\",\n      \"properties\": {\n        \"dtype\": \"category\",\n        \"num_unique_values\": 1058,\n        \"samples\": [\n          \"310.0HP 4.6L 8 Cylinder Engine Gasoline Fuel\",\n          \"321.0HP 3.6L V6 Cylinder Engine Gasoline Fuel\",\n          \"563.0HP 6.6L 12 Cylinder Engine Gasoline Fuel\"\n        ],\n        \"semantic_type\": \"\",\n        \"description\": \"\"\n      }\n    },\n    {\n      \"column\": \"transmission\",\n      \"properties\": {\n        \"dtype\": \"number\",\n        \"std\": 17380.857098943143,\n        \"min\": 14817.090214067279,\n        \"max\": 1950995.0,\n        \"num_unique_values\": 45,\n        \"samples\": [\n          195863.33333333334,\n          53324.825,\n          160183.1188118812\n        ],\n        \"semantic_type\": \"\",\n        \"description\": \"\"\n      }\n    },\n    {\n      \"column\": \"ext_col\",\n      \"properties\": {\n        \"dtype\": \"number\",\n        \"std\": 10692.143603209046,\n        \"min\": 11005.333333333334,\n        \"max\": 541139.0,\n        \"num_unique_values\": 255,\n        \"samples\": [\n          32063.0,\n          30863.857502095558,\n          64577.916666666664\n        ],\n        \"semantic_type\": \"\",\n        \"description\": \"\"\n      }\n    },\n    {\n      \"column\": \"int_col\",\n      \"properties\": {\n        \"dtype\": \"number\",\n        \"std\": 10586.036435227796,\n        \"min\": 12280.75,\n        \"max\": 261447.5,\n        \"num_unique_values\": 121,\n        \"samples\": [\n          49715.07142857143,\n          23195.333333333332,\n          41713.2479338843\n        ],\n        \"semantic_type\": \"\",\n        \"description\": \"\"\n      }\n    },\n    {\n      \"column\": \"accident\",\n      \"properties\": {\n        \"dtype\": \"category\",\n        \"num_unique_values\": 2,\n        \"samples\": [\n          \"At least 1 accident or damage reported\",\n          \"None reported\"\n        ],\n        \"semantic_type\": \"\",\n        \"description\": \"\"\n      }\n    },\n    {\n      \"column\": \"price\",\n      \"properties\": {\n        \"dtype\": \"number\",\n        \"std\": 73580,\n        \"min\": 2000,\n        \"max\": 2954083,\n        \"num_unique_values\": 1479,\n        \"samples\": [\n          73600,\n          210000\n        ],\n        \"semantic_type\": \"\",\n        \"description\": \"\"\n      }\n    }\n  ]\n}",
       "type": "dataframe",
       "variable_name": "df"
      },
      "text/html": [
       "\n",
       "  <div id=\"df-4354f1fb-b83b-4a95-9421-deb1cb11d13b\" class=\"colab-df-container\">\n",
       "    <div>\n",
       "<style scoped>\n",
       "    .dataframe tbody tr th:only-of-type {\n",
       "        vertical-align: middle;\n",
       "    }\n",
       "\n",
       "    .dataframe tbody tr th {\n",
       "        vertical-align: top;\n",
       "    }\n",
       "\n",
       "    .dataframe thead th {\n",
       "        text-align: right;\n",
       "    }\n",
       "</style>\n",
       "<table border=\"1\" class=\"dataframe\">\n",
       "  <thead>\n",
       "    <tr style=\"text-align: right;\">\n",
       "      <th></th>\n",
       "      <th>brand</th>\n",
       "      <th>model</th>\n",
       "      <th>age</th>\n",
       "      <th>milage</th>\n",
       "      <th>fuel_type</th>\n",
       "      <th>engine</th>\n",
       "      <th>transmission</th>\n",
       "      <th>ext_col</th>\n",
       "      <th>int_col</th>\n",
       "      <th>accident</th>\n",
       "      <th>price</th>\n",
       "    </tr>\n",
       "  </thead>\n",
       "  <tbody>\n",
       "    <tr>\n",
       "      <th>0</th>\n",
       "      <td>38001.538101</td>\n",
       "      <td>42945.437500</td>\n",
       "      <td>7</td>\n",
       "      <td>74349</td>\n",
       "      <td>Gasoline</td>\n",
       "      <td>375.0HP 3.5L V6 Cylinder Engine Gasoline Fuel</td>\n",
       "      <td>60253.480436</td>\n",
       "      <td>37618.940971</td>\n",
       "      <td>26823.721317</td>\n",
       "      <td>None reported</td>\n",
       "      <td>11000</td>\n",
       "    </tr>\n",
       "    <tr>\n",
       "      <th>1</th>\n",
       "      <td>40425.078095</td>\n",
       "      <td>15631.257009</td>\n",
       "      <td>18</td>\n",
       "      <td>80000</td>\n",
       "      <td>Gasoline</td>\n",
       "      <td>300.0HP 3.0L Straight 6 Cylinder Engine Gasoli...</td>\n",
       "      <td>33160.346062</td>\n",
       "      <td>38909.767582</td>\n",
       "      <td>41152.659789</td>\n",
       "      <td>None reported</td>\n",
       "      <td>8250</td>\n",
       "    </tr>\n",
       "    <tr>\n",
       "      <th>2</th>\n",
       "      <td>34568.112930</td>\n",
       "      <td>14397.047619</td>\n",
       "      <td>16</td>\n",
       "      <td>91491</td>\n",
       "      <td>Gasoline</td>\n",
       "      <td>300.0HP 4.2L 8 Cylinder Engine Gasoline Fuel</td>\n",
       "      <td>24772.562000</td>\n",
       "      <td>26274.906977</td>\n",
       "      <td>27616.857511</td>\n",
       "      <td>None reported</td>\n",
       "      <td>15000</td>\n",
       "    </tr>\n",
       "    <tr>\n",
       "      <th>3</th>\n",
       "      <td>40425.078095</td>\n",
       "      <td>69502.713415</td>\n",
       "      <td>3</td>\n",
       "      <td>2437</td>\n",
       "      <td>Hybrid</td>\n",
       "      <td>335.0HP 3.0L Straight 6 Cylinder Engine Gasoli...</td>\n",
       "      <td>45805.581953</td>\n",
       "      <td>45251.596186</td>\n",
       "      <td>50007.954017</td>\n",
       "      <td>None reported</td>\n",
       "      <td>63500</td>\n",
       "    </tr>\n",
       "    <tr>\n",
       "      <th>4</th>\n",
       "      <td>17483.107143</td>\n",
       "      <td>10793.000000</td>\n",
       "      <td>24</td>\n",
       "      <td>111000</td>\n",
       "      <td>Gasoline</td>\n",
       "      <td>200.0HP 3.8L V6 Cylinder Engine Gasoline Fuel</td>\n",
       "      <td>30210.769350</td>\n",
       "      <td>37761.358637</td>\n",
       "      <td>41152.659789</td>\n",
       "      <td>None reported</td>\n",
       "      <td>7850</td>\n",
       "    </tr>\n",
       "  </tbody>\n",
       "</table>\n",
       "</div>\n",
       "    <div class=\"colab-df-buttons\">\n",
       "\n",
       "  <div class=\"colab-df-container\">\n",
       "    <button class=\"colab-df-convert\" onclick=\"convertToInteractive('df-4354f1fb-b83b-4a95-9421-deb1cb11d13b')\"\n",
       "            title=\"Convert this dataframe to an interactive table.\"\n",
       "            style=\"display:none;\">\n",
       "\n",
       "  <svg xmlns=\"http://www.w3.org/2000/svg\" height=\"24px\" viewBox=\"0 -960 960 960\">\n",
       "    <path d=\"M120-120v-720h720v720H120Zm60-500h600v-160H180v160Zm220 220h160v-160H400v160Zm0 220h160v-160H400v160ZM180-400h160v-160H180v160Zm440 0h160v-160H620v160ZM180-180h160v-160H180v160Zm440 0h160v-160H620v160Z\"/>\n",
       "  </svg>\n",
       "    </button>\n",
       "\n",
       "  <style>\n",
       "    .colab-df-container {\n",
       "      display:flex;\n",
       "      gap: 12px;\n",
       "    }\n",
       "\n",
       "    .colab-df-convert {\n",
       "      background-color: #E8F0FE;\n",
       "      border: none;\n",
       "      border-radius: 50%;\n",
       "      cursor: pointer;\n",
       "      display: none;\n",
       "      fill: #1967D2;\n",
       "      height: 32px;\n",
       "      padding: 0 0 0 0;\n",
       "      width: 32px;\n",
       "    }\n",
       "\n",
       "    .colab-df-convert:hover {\n",
       "      background-color: #E2EBFA;\n",
       "      box-shadow: 0px 1px 2px rgba(60, 64, 67, 0.3), 0px 1px 3px 1px rgba(60, 64, 67, 0.15);\n",
       "      fill: #174EA6;\n",
       "    }\n",
       "\n",
       "    .colab-df-buttons div {\n",
       "      margin-bottom: 4px;\n",
       "    }\n",
       "\n",
       "    [theme=dark] .colab-df-convert {\n",
       "      background-color: #3B4455;\n",
       "      fill: #D2E3FC;\n",
       "    }\n",
       "\n",
       "    [theme=dark] .colab-df-convert:hover {\n",
       "      background-color: #434B5C;\n",
       "      box-shadow: 0px 1px 3px 1px rgba(0, 0, 0, 0.15);\n",
       "      filter: drop-shadow(0px 1px 2px rgba(0, 0, 0, 0.3));\n",
       "      fill: #FFFFFF;\n",
       "    }\n",
       "  </style>\n",
       "\n",
       "    <script>\n",
       "      const buttonEl =\n",
       "        document.querySelector('#df-4354f1fb-b83b-4a95-9421-deb1cb11d13b button.colab-df-convert');\n",
       "      buttonEl.style.display =\n",
       "        google.colab.kernel.accessAllowed ? 'block' : 'none';\n",
       "\n",
       "      async function convertToInteractive(key) {\n",
       "        const element = document.querySelector('#df-4354f1fb-b83b-4a95-9421-deb1cb11d13b');\n",
       "        const dataTable =\n",
       "          await google.colab.kernel.invokeFunction('convertToInteractive',\n",
       "                                                    [key], {});\n",
       "        if (!dataTable) return;\n",
       "\n",
       "        const docLinkHtml = 'Like what you see? Visit the ' +\n",
       "          '<a target=\"_blank\" href=https://colab.research.google.com/notebooks/data_table.ipynb>data table notebook</a>'\n",
       "          + ' to learn more about interactive tables.';\n",
       "        element.innerHTML = '';\n",
       "        dataTable['output_type'] = 'display_data';\n",
       "        await google.colab.output.renderOutput(dataTable, element);\n",
       "        const docLink = document.createElement('div');\n",
       "        docLink.innerHTML = docLinkHtml;\n",
       "        element.appendChild(docLink);\n",
       "      }\n",
       "    </script>\n",
       "  </div>\n",
       "\n",
       "\n",
       "<div id=\"df-e83d39b0-793a-4524-95ec-db66afaf8f97\">\n",
       "  <button class=\"colab-df-quickchart\" onclick=\"quickchart('df-e83d39b0-793a-4524-95ec-db66afaf8f97')\"\n",
       "            title=\"Suggest charts\"\n",
       "            style=\"display:none;\">\n",
       "\n",
       "<svg xmlns=\"http://www.w3.org/2000/svg\" height=\"24px\"viewBox=\"0 0 24 24\"\n",
       "     width=\"24px\">\n",
       "    <g>\n",
       "        <path d=\"M19 3H5c-1.1 0-2 .9-2 2v14c0 1.1.9 2 2 2h14c1.1 0 2-.9 2-2V5c0-1.1-.9-2-2-2zM9 17H7v-7h2v7zm4 0h-2V7h2v10zm4 0h-2v-4h2v4z\"/>\n",
       "    </g>\n",
       "</svg>\n",
       "  </button>\n",
       "\n",
       "<style>\n",
       "  .colab-df-quickchart {\n",
       "      --bg-color: #E8F0FE;\n",
       "      --fill-color: #1967D2;\n",
       "      --hover-bg-color: #E2EBFA;\n",
       "      --hover-fill-color: #174EA6;\n",
       "      --disabled-fill-color: #AAA;\n",
       "      --disabled-bg-color: #DDD;\n",
       "  }\n",
       "\n",
       "  [theme=dark] .colab-df-quickchart {\n",
       "      --bg-color: #3B4455;\n",
       "      --fill-color: #D2E3FC;\n",
       "      --hover-bg-color: #434B5C;\n",
       "      --hover-fill-color: #FFFFFF;\n",
       "      --disabled-bg-color: #3B4455;\n",
       "      --disabled-fill-color: #666;\n",
       "  }\n",
       "\n",
       "  .colab-df-quickchart {\n",
       "    background-color: var(--bg-color);\n",
       "    border: none;\n",
       "    border-radius: 50%;\n",
       "    cursor: pointer;\n",
       "    display: none;\n",
       "    fill: var(--fill-color);\n",
       "    height: 32px;\n",
       "    padding: 0;\n",
       "    width: 32px;\n",
       "  }\n",
       "\n",
       "  .colab-df-quickchart:hover {\n",
       "    background-color: var(--hover-bg-color);\n",
       "    box-shadow: 0 1px 2px rgba(60, 64, 67, 0.3), 0 1px 3px 1px rgba(60, 64, 67, 0.15);\n",
       "    fill: var(--button-hover-fill-color);\n",
       "  }\n",
       "\n",
       "  .colab-df-quickchart-complete:disabled,\n",
       "  .colab-df-quickchart-complete:disabled:hover {\n",
       "    background-color: var(--disabled-bg-color);\n",
       "    fill: var(--disabled-fill-color);\n",
       "    box-shadow: none;\n",
       "  }\n",
       "\n",
       "  .colab-df-spinner {\n",
       "    border: 2px solid var(--fill-color);\n",
       "    border-color: transparent;\n",
       "    border-bottom-color: var(--fill-color);\n",
       "    animation:\n",
       "      spin 1s steps(1) infinite;\n",
       "  }\n",
       "\n",
       "  @keyframes spin {\n",
       "    0% {\n",
       "      border-color: transparent;\n",
       "      border-bottom-color: var(--fill-color);\n",
       "      border-left-color: var(--fill-color);\n",
       "    }\n",
       "    20% {\n",
       "      border-color: transparent;\n",
       "      border-left-color: var(--fill-color);\n",
       "      border-top-color: var(--fill-color);\n",
       "    }\n",
       "    30% {\n",
       "      border-color: transparent;\n",
       "      border-left-color: var(--fill-color);\n",
       "      border-top-color: var(--fill-color);\n",
       "      border-right-color: var(--fill-color);\n",
       "    }\n",
       "    40% {\n",
       "      border-color: transparent;\n",
       "      border-right-color: var(--fill-color);\n",
       "      border-top-color: var(--fill-color);\n",
       "    }\n",
       "    60% {\n",
       "      border-color: transparent;\n",
       "      border-right-color: var(--fill-color);\n",
       "    }\n",
       "    80% {\n",
       "      border-color: transparent;\n",
       "      border-right-color: var(--fill-color);\n",
       "      border-bottom-color: var(--fill-color);\n",
       "    }\n",
       "    90% {\n",
       "      border-color: transparent;\n",
       "      border-bottom-color: var(--fill-color);\n",
       "    }\n",
       "  }\n",
       "</style>\n",
       "\n",
       "  <script>\n",
       "    async function quickchart(key) {\n",
       "      const quickchartButtonEl =\n",
       "        document.querySelector('#' + key + ' button');\n",
       "      quickchartButtonEl.disabled = true;  // To prevent multiple clicks.\n",
       "      quickchartButtonEl.classList.add('colab-df-spinner');\n",
       "      try {\n",
       "        const charts = await google.colab.kernel.invokeFunction(\n",
       "            'suggestCharts', [key], {});\n",
       "      } catch (error) {\n",
       "        console.error('Error during call to suggestCharts:', error);\n",
       "      }\n",
       "      quickchartButtonEl.classList.remove('colab-df-spinner');\n",
       "      quickchartButtonEl.classList.add('colab-df-quickchart-complete');\n",
       "    }\n",
       "    (() => {\n",
       "      let quickchartButtonEl =\n",
       "        document.querySelector('#df-e83d39b0-793a-4524-95ec-db66afaf8f97 button');\n",
       "      quickchartButtonEl.style.display =\n",
       "        google.colab.kernel.accessAllowed ? 'block' : 'none';\n",
       "    })();\n",
       "  </script>\n",
       "</div>\n",
       "\n",
       "    </div>\n",
       "  </div>\n"
      ],
      "text/plain": [
       "          brand         model  age  milage fuel_type  \\\n",
       "0  38001.538101  42945.437500    7   74349  Gasoline   \n",
       "1  40425.078095  15631.257009   18   80000  Gasoline   \n",
       "2  34568.112930  14397.047619   16   91491  Gasoline   \n",
       "3  40425.078095  69502.713415    3    2437    Hybrid   \n",
       "4  17483.107143  10793.000000   24  111000  Gasoline   \n",
       "\n",
       "                                              engine  transmission  \\\n",
       "0      375.0HP 3.5L V6 Cylinder Engine Gasoline Fuel  60253.480436   \n",
       "1  300.0HP 3.0L Straight 6 Cylinder Engine Gasoli...  33160.346062   \n",
       "2       300.0HP 4.2L 8 Cylinder Engine Gasoline Fuel  24772.562000   \n",
       "3  335.0HP 3.0L Straight 6 Cylinder Engine Gasoli...  45805.581953   \n",
       "4      200.0HP 3.8L V6 Cylinder Engine Gasoline Fuel  30210.769350   \n",
       "\n",
       "        ext_col       int_col       accident  price  \n",
       "0  37618.940971  26823.721317  None reported  11000  \n",
       "1  38909.767582  41152.659789  None reported   8250  \n",
       "2  26274.906977  27616.857511  None reported  15000  \n",
       "3  45251.596186  50007.954017  None reported  63500  \n",
       "4  37761.358637  41152.659789  None reported   7850  "
      ]
     },
     "execution_count": 41,
     "metadata": {},
     "output_type": "execute_result"
    }
   ],
   "source": [
    "import datetime\n",
    "\n",
    "cur_data = datetime.datetime.now()\n",
    "current_year = cur_data.year\n",
    "\n",
    "model_year_mapping = {year: age for year, age in zip(df['model_year'], current_year - df['model_year'] + 1)}\n",
    "\n",
    "df['model_year'] = current_year - df['model_year'] + 1\n",
    "df.rename(columns={'model_year': 'age'}, inplace=True)\n",
    "\n",
    "df.head()\n",
    "\n"
   ]
  },
  {
   "cell_type": "markdown",
   "metadata": {
    "id": "BgHSk7y2dIv1"
   },
   "source": [
    "## Extracting Engine Details\n",
    "\n",
    "This code defines a function to extract various engine specifications (such as horsepower, engine displacement, cylinders, DOHC, and turbo) from the 'engine' column in the dataset. It uses regular expressions to parse these details from the engine string. The extracted information is then added as new columns to the DataFrame. The updated dataset is displayed in a tabular format.\n",
    "\n",
    "### Engine Details Extracted:\n",
    "- **HP**: Horsepower (e.g., 200HP)\n",
    "- **Litre**: Engine displacement in liters (e.g., 2.5L)\n",
    "- **Cylinders**: Engine configuration (e.g., I4, V6)\n",
    "- **DOHC**: Presence of Double Overhead Cam (1 for present, 0 for absent)\n",
    "- **Turbo**: Presence of Turbo (1 for present, 0 for absent)\n",
    "- **Twin Turbo**: Presence of Twin Turbo (1 for present, 0 for absent)\n"
   ]
  },
  {
   "cell_type": "code",
   "execution_count": 42,
   "metadata": {
    "colab": {
     "base_uri": "https://localhost:8080/"
    },
    "id": "owTHtLlfdIv1",
    "outputId": "a7b7007b-ecfc-4b64-a0ee-dc22db5be77c"
   },
   "outputs": [
    {
     "name": "stdout",
     "output_type": "stream",
     "text": [
      "Extracted engine details:\n",
      "+---+-------------------+--------------------+-----+--------+-----------+-----------------------------------------------------------------------+--------------------+--------------------+--------------------+---------------+-------+-------+-------+------------+------+-------+------------+\n",
      "|   |       brand       |       model        | age | milage | fuel_type |                                engine                                 |    transmission    |      ext_col       |      int_col       |   accident    | price |  HP   | Litre | Cylinders  | DOHC | Turbo | Twin Turbo |\n",
      "+---+-------------------+--------------------+-----+--------+-----------+-----------------------------------------------------------------------+--------------------+--------------------+--------------------+---------------+-------+-------+-------+------------+------+-------+------------+\n",
      "| 0 | 38001.53810063097 |     42945.4375     |  7  | 74349  | Gasoline  |             375.0HP 3.5L V6 Cylinder Engine Gasoline Fuel             | 60253.48043585934  | 37618.94097141529  | 26823.721317157713 | None reported | 11000 | 375.0 |  3.5  |     V6     | 0.0  |  0.0  |    0.0     |\n",
      "| 1 | 40425.07809495637 | 15631.257009345794 | 18  | 80000  | Gasoline  |         300.0HP 3.0L Straight 6 Cylinder Engine Gasoline Fuel         | 33160.34606205251  | 38909.767581905515 | 41152.65978904209  | None reported | 8250  | 300.0 |  3.0  | Straight 6 | 0.0  |  0.0  |    0.0     |\n",
      "| 2 | 34568.11292962357 | 14397.047619047618 | 16  | 91491  | Gasoline  |             300.0HP 4.2L 8 Cylinder Engine Gasoline Fuel              |     24772.562      | 26274.906976744187 | 27616.857510845988 | None reported | 15000 | 300.0 |  4.2  |    8.0     | 0.0  |  0.0  |    0.0     |\n",
      "| 3 | 40425.07809495637 | 69502.71341463414  |  3  |  2437  |  Hybrid   | 335.0HP 3.0L Straight 6 Cylinder Engine Gasoline/Mild Electric Hybrid | 45805.58195336262  | 45251.596185510425 | 50007.95401742498  | None reported | 63500 | 335.0 |  3.0  | Straight 6 | 0.0  |  0.0  |    0.0     |\n",
      "| 4 | 17483.10714285714 |      10793.0       | 24  | 111000 | Gasoline  |             200.0HP 3.8L V6 Cylinder Engine Gasoline Fuel             | 30210.769350245922 | 37761.35863746959  | 41152.65978904209  | None reported | 7850  | 200.0 |  3.8  |     V6     | 0.0  |  0.0  |    0.0     |\n",
      "+---+-------------------+--------------------+-----+--------+-----------+-----------------------------------------------------------------------+--------------------+--------------------+--------------------+---------------+-------+-------+-------+------------+------+-------+------------+\n"
     ]
    }
   ],
   "source": [
    "# Combined function to extract engine details\n",
    "def extract_engine_info(engine_string):\n",
    "    # Initialize default values\n",
    "    hp = None\n",
    "    litres = None\n",
    "    cylinders = -1\n",
    "    dohc = 0\n",
    "    turbo = 0\n",
    "    twin_turbo = 0\n",
    "\n",
    "    # Extract HP if available\n",
    "    hp_match = re.search(r'(\\d+(\\.\\d+)?)HP', engine_string)\n",
    "    if hp_match:\n",
    "        hp = float(hp_match.group(1))\n",
    "\n",
    "    # Extract engine displacement in liters\n",
    "    litres_match = re.search(r'(\\d+(\\.\\d+)?)L', engine_string)\n",
    "    if litres_match:\n",
    "        litres = float(litres_match.group(1))\n",
    "\n",
    "    # Extract cylinder information (I4, V6, Straight 6, or \"6 Cylinder\" etc.)\n",
    "    cylinders_match = re.search(r'(I\\d|V\\d|Straight \\d)', engine_string)\n",
    "    if cylinders_match:\n",
    "        cylinders = cylinders_match.group(1)\n",
    "    else:\n",
    "        # If no match found, look for a pattern like \"6 Cylinder\"\n",
    "        cylinders_full_match = re.search(r'(\\d+)\\s*Cylinder', engine_string)\n",
    "        if cylinders_full_match:\n",
    "            cylinders = int(cylinders_full_match.group(1))\n",
    "\n",
    "    # Identify if DOHC is present\n",
    "    if 'DOHC' in engine_string:\n",
    "        dohc = 1\n",
    "\n",
    "    # Identify if Turbo or Twin Turbo is present\n",
    "    if 'Twin Turbo' in engine_string:\n",
    "        twin_turbo = 1\n",
    "        turbo = 1  # Twin Turbo also means Turbo is present\n",
    "    elif 'Turbo' in engine_string:\n",
    "        turbo = 1\n",
    "\n",
    "    # Return the parsed details along with DOHC and Turbo binary columns\n",
    "    return pd.Series([hp, litres, cylinders, dohc, turbo, twin_turbo])\n",
    "\n",
    "# Apply the function to the 'engine' column\n",
    "df[['HP', 'Litre', 'Cylinders', 'DOHC', 'Turbo', 'Twin Turbo']] = df['engine'].apply(lambda x: extract_engine_info(x))\n",
    "\n",
    "# Display the updated dataframe\n",
    "print(\"Extracted engine details:\")\n",
    "print(tabulate(df.head(), headers='keys', tablefmt='pretty'))\n",
    "\n"
   ]
  },
  {
   "cell_type": "markdown",
   "metadata": {
    "id": "eOf8bTfedIv2"
   },
   "source": [
    "## Dropping the 'engine' Column and Filling Missing Values\n",
    "\n",
    "This code removes the 'engine' column from the DataFrame after extracting and storing the relevant engine details in separate columns, then applies the `fill_nan_with_mean_or_mode` function to fill any missing values in the dataset. The updated DataFrame is displayed with the missing values filled.\n",
    "\n"
   ]
  },
  {
   "cell_type": "code",
   "execution_count": 43,
   "metadata": {
    "colab": {
     "base_uri": "https://localhost:8080/",
     "height": 330
    },
    "id": "OvYUbPH6dIv2",
    "outputId": "b3b2becb-e800-4230-bea7-b1872ccf908c"
   },
   "outputs": [
    {
     "data": {
      "application/vnd.google.colaboratory.intrinsic+json": {
       "summary": "{\n  \"name\": \"df\",\n  \"rows\": 49994,\n  \"fields\": [\n    {\n      \"column\": \"brand\",\n      \"properties\": {\n        \"dtype\": \"number\",\n        \"std\": 16714.69130462755,\n        \"min\": 3850.0,\n        \"max\": 1950995.0,\n        \"num_unique_values\": 53,\n        \"samples\": [\n          24104.967095851214,\n          129946.64444444445,\n          84185.0\n        ],\n        \"semantic_type\": \"\",\n        \"description\": \"\"\n      }\n    },\n    {\n      \"column\": \"model\",\n      \"properties\": {\n        \"dtype\": \"number\",\n        \"std\": 28889.73970194539,\n        \"min\": 3850.0,\n        \"max\": 1950995.0,\n        \"num_unique_values\": 1813,\n        \"samples\": [\n          26060.666666666668,\n          34365.74074074074,\n          24048.933333333334\n        ],\n        \"semantic_type\": \"\",\n        \"description\": \"\"\n      }\n    },\n    {\n      \"column\": \"age\",\n      \"properties\": {\n        \"dtype\": \"number\",\n        \"std\": 5,\n        \"min\": 1,\n        \"max\": 33,\n        \"num_unique_values\": 33,\n        \"samples\": [\n          1,\n          19,\n          27\n        ],\n        \"semantic_type\": \"\",\n        \"description\": \"\"\n      }\n    },\n    {\n      \"column\": \"milage\",\n      \"properties\": {\n        \"dtype\": \"number\",\n        \"std\": 50465,\n        \"min\": 100,\n        \"max\": 405000,\n        \"num_unique_values\": 3173,\n        \"samples\": [\n          81323,\n          34068,\n          89352\n        ],\n        \"semantic_type\": \"\",\n        \"description\": \"\"\n      }\n    },\n    {\n      \"column\": \"fuel_type\",\n      \"properties\": {\n        \"dtype\": \"category\",\n        \"num_unique_values\": 6,\n        \"samples\": [\n          \"Gasoline\",\n          \"Hybrid\",\n          \"not supported\"\n        ],\n        \"semantic_type\": \"\",\n        \"description\": \"\"\n      }\n    },\n    {\n      \"column\": \"transmission\",\n      \"properties\": {\n        \"dtype\": \"number\",\n        \"std\": 17380.857098943143,\n        \"min\": 14817.090214067279,\n        \"max\": 1950995.0,\n        \"num_unique_values\": 45,\n        \"samples\": [\n          195863.33333333334,\n          53324.825,\n          160183.1188118812\n        ],\n        \"semantic_type\": \"\",\n        \"description\": \"\"\n      }\n    },\n    {\n      \"column\": \"ext_col\",\n      \"properties\": {\n        \"dtype\": \"number\",\n        \"std\": 10692.143603209046,\n        \"min\": 11005.333333333334,\n        \"max\": 541139.0,\n        \"num_unique_values\": 255,\n        \"samples\": [\n          32063.0,\n          30863.857502095558,\n          64577.916666666664\n        ],\n        \"semantic_type\": \"\",\n        \"description\": \"\"\n      }\n    },\n    {\n      \"column\": \"int_col\",\n      \"properties\": {\n        \"dtype\": \"number\",\n        \"std\": 10586.036435227796,\n        \"min\": 12280.75,\n        \"max\": 261447.5,\n        \"num_unique_values\": 121,\n        \"samples\": [\n          49715.07142857143,\n          23195.333333333332,\n          41713.2479338843\n        ],\n        \"semantic_type\": \"\",\n        \"description\": \"\"\n      }\n    },\n    {\n      \"column\": \"accident\",\n      \"properties\": {\n        \"dtype\": \"category\",\n        \"num_unique_values\": 2,\n        \"samples\": [\n          \"At least 1 accident or damage reported\",\n          \"None reported\"\n        ],\n        \"semantic_type\": \"\",\n        \"description\": \"\"\n      }\n    },\n    {\n      \"column\": \"price\",\n      \"properties\": {\n        \"dtype\": \"number\",\n        \"std\": 73580,\n        \"min\": 2000,\n        \"max\": 2954083,\n        \"num_unique_values\": 1479,\n        \"samples\": [\n          73600,\n          210000\n        ],\n        \"semantic_type\": \"\",\n        \"description\": \"\"\n      }\n    },\n    {\n      \"column\": \"HP\",\n      \"properties\": {\n        \"dtype\": \"number\",\n        \"std\": 104.07612711445344,\n        \"min\": 76.0,\n        \"max\": 1020.0,\n        \"num_unique_values\": 342,\n        \"samples\": [\n          165.0,\n          460.0\n        ],\n        \"semantic_type\": \"\",\n        \"description\": \"\"\n      }\n    },\n    {\n      \"column\": \"Litre\",\n      \"properties\": {\n        \"dtype\": \"number\",\n        \"std\": 1.330270581301779,\n        \"min\": 0.65,\n        \"max\": 8.4,\n        \"num_unique_values\": 61,\n        \"samples\": [\n          3.5,\n          2.5\n        ],\n        \"semantic_type\": \"\",\n        \"description\": \"\"\n      }\n    },\n    {\n      \"column\": \"Cylinders\",\n      \"properties\": {\n        \"dtype\": \"category\",\n        \"num_unique_values\": 14,\n        \"samples\": [\n          10.0,\n          \"I6\"\n        ],\n        \"semantic_type\": \"\",\n        \"description\": \"\"\n      }\n    },\n    {\n      \"column\": \"DOHC\",\n      \"properties\": {\n        \"dtype\": \"number\",\n        \"std\": 0.22595379322459141,\n        \"min\": 0.0,\n        \"max\": 1.0,\n        \"num_unique_values\": 2,\n        \"samples\": [\n          1.0,\n          0.0\n        ],\n        \"semantic_type\": \"\",\n        \"description\": \"\"\n      }\n    },\n    {\n      \"column\": \"Turbo\",\n      \"properties\": {\n        \"dtype\": \"number\",\n        \"std\": 0.1827768403157302,\n        \"min\": 0.0,\n        \"max\": 1.0,\n        \"num_unique_values\": 2,\n        \"samples\": [\n          1.0,\n          0.0\n        ],\n        \"semantic_type\": \"\",\n        \"description\": \"\"\n      }\n    },\n    {\n      \"column\": \"Twin Turbo\",\n      \"properties\": {\n        \"dtype\": \"number\",\n        \"std\": 0.12987632794462714,\n        \"min\": 0.0,\n        \"max\": 1.0,\n        \"num_unique_values\": 2,\n        \"samples\": [\n          1.0,\n          0.0\n        ],\n        \"semantic_type\": \"\",\n        \"description\": \"\"\n      }\n    }\n  ]\n}",
       "type": "dataframe",
       "variable_name": "df"
      },
      "text/html": [
       "\n",
       "  <div id=\"df-b1097554-cbe6-42bc-855c-aaa36d670946\" class=\"colab-df-container\">\n",
       "    <div>\n",
       "<style scoped>\n",
       "    .dataframe tbody tr th:only-of-type {\n",
       "        vertical-align: middle;\n",
       "    }\n",
       "\n",
       "    .dataframe tbody tr th {\n",
       "        vertical-align: top;\n",
       "    }\n",
       "\n",
       "    .dataframe thead th {\n",
       "        text-align: right;\n",
       "    }\n",
       "</style>\n",
       "<table border=\"1\" class=\"dataframe\">\n",
       "  <thead>\n",
       "    <tr style=\"text-align: right;\">\n",
       "      <th></th>\n",
       "      <th>brand</th>\n",
       "      <th>model</th>\n",
       "      <th>age</th>\n",
       "      <th>milage</th>\n",
       "      <th>fuel_type</th>\n",
       "      <th>transmission</th>\n",
       "      <th>ext_col</th>\n",
       "      <th>int_col</th>\n",
       "      <th>accident</th>\n",
       "      <th>price</th>\n",
       "      <th>HP</th>\n",
       "      <th>Litre</th>\n",
       "      <th>Cylinders</th>\n",
       "      <th>DOHC</th>\n",
       "      <th>Turbo</th>\n",
       "      <th>Twin Turbo</th>\n",
       "    </tr>\n",
       "  </thead>\n",
       "  <tbody>\n",
       "    <tr>\n",
       "      <th>0</th>\n",
       "      <td>38001.538101</td>\n",
       "      <td>42945.437500</td>\n",
       "      <td>7</td>\n",
       "      <td>74349</td>\n",
       "      <td>Gasoline</td>\n",
       "      <td>60253.480436</td>\n",
       "      <td>37618.940971</td>\n",
       "      <td>26823.721317</td>\n",
       "      <td>None reported</td>\n",
       "      <td>11000</td>\n",
       "      <td>375.0</td>\n",
       "      <td>3.5</td>\n",
       "      <td>V6</td>\n",
       "      <td>0.0</td>\n",
       "      <td>0.0</td>\n",
       "      <td>0.0</td>\n",
       "    </tr>\n",
       "    <tr>\n",
       "      <th>1</th>\n",
       "      <td>40425.078095</td>\n",
       "      <td>15631.257009</td>\n",
       "      <td>18</td>\n",
       "      <td>80000</td>\n",
       "      <td>Gasoline</td>\n",
       "      <td>33160.346062</td>\n",
       "      <td>38909.767582</td>\n",
       "      <td>41152.659789</td>\n",
       "      <td>None reported</td>\n",
       "      <td>8250</td>\n",
       "      <td>300.0</td>\n",
       "      <td>3.0</td>\n",
       "      <td>Straight 6</td>\n",
       "      <td>0.0</td>\n",
       "      <td>0.0</td>\n",
       "      <td>0.0</td>\n",
       "    </tr>\n",
       "    <tr>\n",
       "      <th>2</th>\n",
       "      <td>34568.112930</td>\n",
       "      <td>14397.047619</td>\n",
       "      <td>16</td>\n",
       "      <td>91491</td>\n",
       "      <td>Gasoline</td>\n",
       "      <td>24772.562000</td>\n",
       "      <td>26274.906977</td>\n",
       "      <td>27616.857511</td>\n",
       "      <td>None reported</td>\n",
       "      <td>15000</td>\n",
       "      <td>300.0</td>\n",
       "      <td>4.2</td>\n",
       "      <td>8.0</td>\n",
       "      <td>0.0</td>\n",
       "      <td>0.0</td>\n",
       "      <td>0.0</td>\n",
       "    </tr>\n",
       "    <tr>\n",
       "      <th>3</th>\n",
       "      <td>40425.078095</td>\n",
       "      <td>69502.713415</td>\n",
       "      <td>3</td>\n",
       "      <td>2437</td>\n",
       "      <td>Hybrid</td>\n",
       "      <td>45805.581953</td>\n",
       "      <td>45251.596186</td>\n",
       "      <td>50007.954017</td>\n",
       "      <td>None reported</td>\n",
       "      <td>63500</td>\n",
       "      <td>335.0</td>\n",
       "      <td>3.0</td>\n",
       "      <td>Straight 6</td>\n",
       "      <td>0.0</td>\n",
       "      <td>0.0</td>\n",
       "      <td>0.0</td>\n",
       "    </tr>\n",
       "    <tr>\n",
       "      <th>4</th>\n",
       "      <td>17483.107143</td>\n",
       "      <td>10793.000000</td>\n",
       "      <td>24</td>\n",
       "      <td>111000</td>\n",
       "      <td>Gasoline</td>\n",
       "      <td>30210.769350</td>\n",
       "      <td>37761.358637</td>\n",
       "      <td>41152.659789</td>\n",
       "      <td>None reported</td>\n",
       "      <td>7850</td>\n",
       "      <td>200.0</td>\n",
       "      <td>3.8</td>\n",
       "      <td>V6</td>\n",
       "      <td>0.0</td>\n",
       "      <td>0.0</td>\n",
       "      <td>0.0</td>\n",
       "    </tr>\n",
       "  </tbody>\n",
       "</table>\n",
       "</div>\n",
       "    <div class=\"colab-df-buttons\">\n",
       "\n",
       "  <div class=\"colab-df-container\">\n",
       "    <button class=\"colab-df-convert\" onclick=\"convertToInteractive('df-b1097554-cbe6-42bc-855c-aaa36d670946')\"\n",
       "            title=\"Convert this dataframe to an interactive table.\"\n",
       "            style=\"display:none;\">\n",
       "\n",
       "  <svg xmlns=\"http://www.w3.org/2000/svg\" height=\"24px\" viewBox=\"0 -960 960 960\">\n",
       "    <path d=\"M120-120v-720h720v720H120Zm60-500h600v-160H180v160Zm220 220h160v-160H400v160Zm0 220h160v-160H400v160ZM180-400h160v-160H180v160Zm440 0h160v-160H620v160ZM180-180h160v-160H180v160Zm440 0h160v-160H620v160Z\"/>\n",
       "  </svg>\n",
       "    </button>\n",
       "\n",
       "  <style>\n",
       "    .colab-df-container {\n",
       "      display:flex;\n",
       "      gap: 12px;\n",
       "    }\n",
       "\n",
       "    .colab-df-convert {\n",
       "      background-color: #E8F0FE;\n",
       "      border: none;\n",
       "      border-radius: 50%;\n",
       "      cursor: pointer;\n",
       "      display: none;\n",
       "      fill: #1967D2;\n",
       "      height: 32px;\n",
       "      padding: 0 0 0 0;\n",
       "      width: 32px;\n",
       "    }\n",
       "\n",
       "    .colab-df-convert:hover {\n",
       "      background-color: #E2EBFA;\n",
       "      box-shadow: 0px 1px 2px rgba(60, 64, 67, 0.3), 0px 1px 3px 1px rgba(60, 64, 67, 0.15);\n",
       "      fill: #174EA6;\n",
       "    }\n",
       "\n",
       "    .colab-df-buttons div {\n",
       "      margin-bottom: 4px;\n",
       "    }\n",
       "\n",
       "    [theme=dark] .colab-df-convert {\n",
       "      background-color: #3B4455;\n",
       "      fill: #D2E3FC;\n",
       "    }\n",
       "\n",
       "    [theme=dark] .colab-df-convert:hover {\n",
       "      background-color: #434B5C;\n",
       "      box-shadow: 0px 1px 3px 1px rgba(0, 0, 0, 0.15);\n",
       "      filter: drop-shadow(0px 1px 2px rgba(0, 0, 0, 0.3));\n",
       "      fill: #FFFFFF;\n",
       "    }\n",
       "  </style>\n",
       "\n",
       "    <script>\n",
       "      const buttonEl =\n",
       "        document.querySelector('#df-b1097554-cbe6-42bc-855c-aaa36d670946 button.colab-df-convert');\n",
       "      buttonEl.style.display =\n",
       "        google.colab.kernel.accessAllowed ? 'block' : 'none';\n",
       "\n",
       "      async function convertToInteractive(key) {\n",
       "        const element = document.querySelector('#df-b1097554-cbe6-42bc-855c-aaa36d670946');\n",
       "        const dataTable =\n",
       "          await google.colab.kernel.invokeFunction('convertToInteractive',\n",
       "                                                    [key], {});\n",
       "        if (!dataTable) return;\n",
       "\n",
       "        const docLinkHtml = 'Like what you see? Visit the ' +\n",
       "          '<a target=\"_blank\" href=https://colab.research.google.com/notebooks/data_table.ipynb>data table notebook</a>'\n",
       "          + ' to learn more about interactive tables.';\n",
       "        element.innerHTML = '';\n",
       "        dataTable['output_type'] = 'display_data';\n",
       "        await google.colab.output.renderOutput(dataTable, element);\n",
       "        const docLink = document.createElement('div');\n",
       "        docLink.innerHTML = docLinkHtml;\n",
       "        element.appendChild(docLink);\n",
       "      }\n",
       "    </script>\n",
       "  </div>\n",
       "\n",
       "\n",
       "<div id=\"df-bbea6792-cd84-406d-8e15-8aeff957eea9\">\n",
       "  <button class=\"colab-df-quickchart\" onclick=\"quickchart('df-bbea6792-cd84-406d-8e15-8aeff957eea9')\"\n",
       "            title=\"Suggest charts\"\n",
       "            style=\"display:none;\">\n",
       "\n",
       "<svg xmlns=\"http://www.w3.org/2000/svg\" height=\"24px\"viewBox=\"0 0 24 24\"\n",
       "     width=\"24px\">\n",
       "    <g>\n",
       "        <path d=\"M19 3H5c-1.1 0-2 .9-2 2v14c0 1.1.9 2 2 2h14c1.1 0 2-.9 2-2V5c0-1.1-.9-2-2-2zM9 17H7v-7h2v7zm4 0h-2V7h2v10zm4 0h-2v-4h2v4z\"/>\n",
       "    </g>\n",
       "</svg>\n",
       "  </button>\n",
       "\n",
       "<style>\n",
       "  .colab-df-quickchart {\n",
       "      --bg-color: #E8F0FE;\n",
       "      --fill-color: #1967D2;\n",
       "      --hover-bg-color: #E2EBFA;\n",
       "      --hover-fill-color: #174EA6;\n",
       "      --disabled-fill-color: #AAA;\n",
       "      --disabled-bg-color: #DDD;\n",
       "  }\n",
       "\n",
       "  [theme=dark] .colab-df-quickchart {\n",
       "      --bg-color: #3B4455;\n",
       "      --fill-color: #D2E3FC;\n",
       "      --hover-bg-color: #434B5C;\n",
       "      --hover-fill-color: #FFFFFF;\n",
       "      --disabled-bg-color: #3B4455;\n",
       "      --disabled-fill-color: #666;\n",
       "  }\n",
       "\n",
       "  .colab-df-quickchart {\n",
       "    background-color: var(--bg-color);\n",
       "    border: none;\n",
       "    border-radius: 50%;\n",
       "    cursor: pointer;\n",
       "    display: none;\n",
       "    fill: var(--fill-color);\n",
       "    height: 32px;\n",
       "    padding: 0;\n",
       "    width: 32px;\n",
       "  }\n",
       "\n",
       "  .colab-df-quickchart:hover {\n",
       "    background-color: var(--hover-bg-color);\n",
       "    box-shadow: 0 1px 2px rgba(60, 64, 67, 0.3), 0 1px 3px 1px rgba(60, 64, 67, 0.15);\n",
       "    fill: var(--button-hover-fill-color);\n",
       "  }\n",
       "\n",
       "  .colab-df-quickchart-complete:disabled,\n",
       "  .colab-df-quickchart-complete:disabled:hover {\n",
       "    background-color: var(--disabled-bg-color);\n",
       "    fill: var(--disabled-fill-color);\n",
       "    box-shadow: none;\n",
       "  }\n",
       "\n",
       "  .colab-df-spinner {\n",
       "    border: 2px solid var(--fill-color);\n",
       "    border-color: transparent;\n",
       "    border-bottom-color: var(--fill-color);\n",
       "    animation:\n",
       "      spin 1s steps(1) infinite;\n",
       "  }\n",
       "\n",
       "  @keyframes spin {\n",
       "    0% {\n",
       "      border-color: transparent;\n",
       "      border-bottom-color: var(--fill-color);\n",
       "      border-left-color: var(--fill-color);\n",
       "    }\n",
       "    20% {\n",
       "      border-color: transparent;\n",
       "      border-left-color: var(--fill-color);\n",
       "      border-top-color: var(--fill-color);\n",
       "    }\n",
       "    30% {\n",
       "      border-color: transparent;\n",
       "      border-left-color: var(--fill-color);\n",
       "      border-top-color: var(--fill-color);\n",
       "      border-right-color: var(--fill-color);\n",
       "    }\n",
       "    40% {\n",
       "      border-color: transparent;\n",
       "      border-right-color: var(--fill-color);\n",
       "      border-top-color: var(--fill-color);\n",
       "    }\n",
       "    60% {\n",
       "      border-color: transparent;\n",
       "      border-right-color: var(--fill-color);\n",
       "    }\n",
       "    80% {\n",
       "      border-color: transparent;\n",
       "      border-right-color: var(--fill-color);\n",
       "      border-bottom-color: var(--fill-color);\n",
       "    }\n",
       "    90% {\n",
       "      border-color: transparent;\n",
       "      border-bottom-color: var(--fill-color);\n",
       "    }\n",
       "  }\n",
       "</style>\n",
       "\n",
       "  <script>\n",
       "    async function quickchart(key) {\n",
       "      const quickchartButtonEl =\n",
       "        document.querySelector('#' + key + ' button');\n",
       "      quickchartButtonEl.disabled = true;  // To prevent multiple clicks.\n",
       "      quickchartButtonEl.classList.add('colab-df-spinner');\n",
       "      try {\n",
       "        const charts = await google.colab.kernel.invokeFunction(\n",
       "            'suggestCharts', [key], {});\n",
       "      } catch (error) {\n",
       "        console.error('Error during call to suggestCharts:', error);\n",
       "      }\n",
       "      quickchartButtonEl.classList.remove('colab-df-spinner');\n",
       "      quickchartButtonEl.classList.add('colab-df-quickchart-complete');\n",
       "    }\n",
       "    (() => {\n",
       "      let quickchartButtonEl =\n",
       "        document.querySelector('#df-bbea6792-cd84-406d-8e15-8aeff957eea9 button');\n",
       "      quickchartButtonEl.style.display =\n",
       "        google.colab.kernel.accessAllowed ? 'block' : 'none';\n",
       "    })();\n",
       "  </script>\n",
       "</div>\n",
       "\n",
       "    </div>\n",
       "  </div>\n"
      ],
      "text/plain": [
       "          brand         model  age  milage fuel_type  transmission  \\\n",
       "0  38001.538101  42945.437500    7   74349  Gasoline  60253.480436   \n",
       "1  40425.078095  15631.257009   18   80000  Gasoline  33160.346062   \n",
       "2  34568.112930  14397.047619   16   91491  Gasoline  24772.562000   \n",
       "3  40425.078095  69502.713415    3    2437    Hybrid  45805.581953   \n",
       "4  17483.107143  10793.000000   24  111000  Gasoline  30210.769350   \n",
       "\n",
       "        ext_col       int_col       accident  price     HP  Litre   Cylinders  \\\n",
       "0  37618.940971  26823.721317  None reported  11000  375.0    3.5          V6   \n",
       "1  38909.767582  41152.659789  None reported   8250  300.0    3.0  Straight 6   \n",
       "2  26274.906977  27616.857511  None reported  15000  300.0    4.2         8.0   \n",
       "3  45251.596186  50007.954017  None reported  63500  335.0    3.0  Straight 6   \n",
       "4  37761.358637  41152.659789  None reported   7850  200.0    3.8          V6   \n",
       "\n",
       "   DOHC  Turbo  Twin Turbo  \n",
       "0   0.0    0.0         0.0  \n",
       "1   0.0    0.0         0.0  \n",
       "2   0.0    0.0         0.0  \n",
       "3   0.0    0.0         0.0  \n",
       "4   0.0    0.0         0.0  "
      ]
     },
     "execution_count": 43,
     "metadata": {},
     "output_type": "execute_result"
    }
   ],
   "source": [
    "df=df.drop(['engine'],axis=1)\n",
    "df = fill_nan_with_mean_or_mode(df)\n",
    "df.head()"
   ]
  },
  {
   "cell_type": "markdown",
   "metadata": {
    "id": "SA5ZiuVcdIv2"
   },
   "source": [
    "## Checking Unique Values in the 'Cylinders' Column\n",
    "\n",
    "This code retrieves the unique values in the 'Cylinders' column and prints the number of unique values, along with the list of unique values.\n"
   ]
  },
  {
   "cell_type": "code",
   "execution_count": 44,
   "metadata": {
    "colab": {
     "base_uri": "https://localhost:8080/"
    },
    "id": "_nEt08uLdIv2",
    "outputId": "2577c09d-8490-4bb8-9481-2388e11ba0cc"
   },
   "outputs": [
    {
     "name": "stdout",
     "output_type": "stream",
     "text": [
      "No. of Unique values in 'Cylinders' column: 14\n",
      "['V6' 'Straight 6' 8.0 4.0 'I4' 6.0 5.0 'V8' 12.0 10.0 'V1' 'I6' 'I3' 3.0]\n"
     ]
    }
   ],
   "source": [
    "my_list=df['Cylinders'].unique()\n",
    "print(f\"No. of Unique values in '{'Cylinders'}' column:\",len(my_list))\n",
    "print(my_list)\n"
   ]
  },
  {
   "cell_type": "markdown",
   "metadata": {
    "id": "ZxAIIpGkdIv2"
   },
   "source": [
    "## Target Encoding for 'Cylinders' Column\n",
    "\n",
    "This code performs target encoding on the 'Cylinders' column by mapping each unique value to the mean price of the corresponding 'Cylinders' group. The 'Cylinders' column is updated with these encoded values. The updated DataFrame is displayed.\n"
   ]
  },
  {
   "cell_type": "code",
   "execution_count": 45,
   "metadata": {
    "colab": {
     "base_uri": "https://localhost:8080/",
     "height": 330
    },
    "id": "TlguNteddIv2",
    "outputId": "dfb01915-daa6-4ef2-9c82-911745680734"
   },
   "outputs": [
    {
     "data": {
      "application/vnd.google.colaboratory.intrinsic+json": {
       "summary": "{\n  \"name\": \"df\",\n  \"rows\": 49994,\n  \"fields\": [\n    {\n      \"column\": \"brand\",\n      \"properties\": {\n        \"dtype\": \"number\",\n        \"std\": 16714.69130462755,\n        \"min\": 3850.0,\n        \"max\": 1950995.0,\n        \"num_unique_values\": 53,\n        \"samples\": [\n          24104.967095851214,\n          129946.64444444445,\n          84185.0\n        ],\n        \"semantic_type\": \"\",\n        \"description\": \"\"\n      }\n    },\n    {\n      \"column\": \"model\",\n      \"properties\": {\n        \"dtype\": \"number\",\n        \"std\": 28889.73970194539,\n        \"min\": 3850.0,\n        \"max\": 1950995.0,\n        \"num_unique_values\": 1813,\n        \"samples\": [\n          26060.666666666668,\n          34365.74074074074,\n          24048.933333333334\n        ],\n        \"semantic_type\": \"\",\n        \"description\": \"\"\n      }\n    },\n    {\n      \"column\": \"age\",\n      \"properties\": {\n        \"dtype\": \"number\",\n        \"std\": 5,\n        \"min\": 1,\n        \"max\": 33,\n        \"num_unique_values\": 33,\n        \"samples\": [\n          1,\n          19,\n          27\n        ],\n        \"semantic_type\": \"\",\n        \"description\": \"\"\n      }\n    },\n    {\n      \"column\": \"milage\",\n      \"properties\": {\n        \"dtype\": \"number\",\n        \"std\": 50465,\n        \"min\": 100,\n        \"max\": 405000,\n        \"num_unique_values\": 3173,\n        \"samples\": [\n          81323,\n          34068,\n          89352\n        ],\n        \"semantic_type\": \"\",\n        \"description\": \"\"\n      }\n    },\n    {\n      \"column\": \"fuel_type\",\n      \"properties\": {\n        \"dtype\": \"category\",\n        \"num_unique_values\": 6,\n        \"samples\": [\n          \"Gasoline\",\n          \"Hybrid\",\n          \"not supported\"\n        ],\n        \"semantic_type\": \"\",\n        \"description\": \"\"\n      }\n    },\n    {\n      \"column\": \"transmission\",\n      \"properties\": {\n        \"dtype\": \"number\",\n        \"std\": 17380.857098943143,\n        \"min\": 14817.090214067279,\n        \"max\": 1950995.0,\n        \"num_unique_values\": 45,\n        \"samples\": [\n          195863.33333333334,\n          53324.825,\n          160183.1188118812\n        ],\n        \"semantic_type\": \"\",\n        \"description\": \"\"\n      }\n    },\n    {\n      \"column\": \"ext_col\",\n      \"properties\": {\n        \"dtype\": \"number\",\n        \"std\": 10692.143603209046,\n        \"min\": 11005.333333333334,\n        \"max\": 541139.0,\n        \"num_unique_values\": 255,\n        \"samples\": [\n          32063.0,\n          30863.857502095558,\n          64577.916666666664\n        ],\n        \"semantic_type\": \"\",\n        \"description\": \"\"\n      }\n    },\n    {\n      \"column\": \"int_col\",\n      \"properties\": {\n        \"dtype\": \"number\",\n        \"std\": 10586.036435227796,\n        \"min\": 12280.75,\n        \"max\": 261447.5,\n        \"num_unique_values\": 121,\n        \"samples\": [\n          49715.07142857143,\n          23195.333333333332,\n          41713.2479338843\n        ],\n        \"semantic_type\": \"\",\n        \"description\": \"\"\n      }\n    },\n    {\n      \"column\": \"accident\",\n      \"properties\": {\n        \"dtype\": \"category\",\n        \"num_unique_values\": 2,\n        \"samples\": [\n          \"At least 1 accident or damage reported\",\n          \"None reported\"\n        ],\n        \"semantic_type\": \"\",\n        \"description\": \"\"\n      }\n    },\n    {\n      \"column\": \"price\",\n      \"properties\": {\n        \"dtype\": \"number\",\n        \"std\": 73580,\n        \"min\": 2000,\n        \"max\": 2954083,\n        \"num_unique_values\": 1479,\n        \"samples\": [\n          73600,\n          210000\n        ],\n        \"semantic_type\": \"\",\n        \"description\": \"\"\n      }\n    },\n    {\n      \"column\": \"HP\",\n      \"properties\": {\n        \"dtype\": \"number\",\n        \"std\": 104.07612711445344,\n        \"min\": 76.0,\n        \"max\": 1020.0,\n        \"num_unique_values\": 342,\n        \"samples\": [\n          165.0,\n          460.0\n        ],\n        \"semantic_type\": \"\",\n        \"description\": \"\"\n      }\n    },\n    {\n      \"column\": \"Litre\",\n      \"properties\": {\n        \"dtype\": \"number\",\n        \"std\": 1.330270581301779,\n        \"min\": 0.65,\n        \"max\": 8.4,\n        \"num_unique_values\": 61,\n        \"samples\": [\n          3.5,\n          2.5\n        ],\n        \"semantic_type\": \"\",\n        \"description\": \"\"\n      }\n    },\n    {\n      \"column\": \"Cylinders\",\n      \"properties\": {\n        \"dtype\": \"number\",\n        \"std\": 13765.03585193727,\n        \"min\": 14723.425120772947,\n        \"max\": 222018.5,\n        \"num_unique_values\": 14,\n        \"samples\": [\n          45497.593406593405,\n          69547.86666666667\n        ],\n        \"semantic_type\": \"\",\n        \"description\": \"\"\n      }\n    },\n    {\n      \"column\": \"DOHC\",\n      \"properties\": {\n        \"dtype\": \"number\",\n        \"std\": 0.22595379322459141,\n        \"min\": 0.0,\n        \"max\": 1.0,\n        \"num_unique_values\": 2,\n        \"samples\": [\n          1.0,\n          0.0\n        ],\n        \"semantic_type\": \"\",\n        \"description\": \"\"\n      }\n    },\n    {\n      \"column\": \"Turbo\",\n      \"properties\": {\n        \"dtype\": \"number\",\n        \"std\": 0.1827768403157302,\n        \"min\": 0.0,\n        \"max\": 1.0,\n        \"num_unique_values\": 2,\n        \"samples\": [\n          1.0,\n          0.0\n        ],\n        \"semantic_type\": \"\",\n        \"description\": \"\"\n      }\n    },\n    {\n      \"column\": \"Twin Turbo\",\n      \"properties\": {\n        \"dtype\": \"number\",\n        \"std\": 0.12987632794462714,\n        \"min\": 0.0,\n        \"max\": 1.0,\n        \"num_unique_values\": 2,\n        \"samples\": [\n          1.0,\n          0.0\n        ],\n        \"semantic_type\": \"\",\n        \"description\": \"\"\n      }\n    }\n  ]\n}",
       "type": "dataframe",
       "variable_name": "df"
      },
      "text/html": [
       "\n",
       "  <div id=\"df-332564bb-950b-424e-9e22-74ca314078a3\" class=\"colab-df-container\">\n",
       "    <div>\n",
       "<style scoped>\n",
       "    .dataframe tbody tr th:only-of-type {\n",
       "        vertical-align: middle;\n",
       "    }\n",
       "\n",
       "    .dataframe tbody tr th {\n",
       "        vertical-align: top;\n",
       "    }\n",
       "\n",
       "    .dataframe thead th {\n",
       "        text-align: right;\n",
       "    }\n",
       "</style>\n",
       "<table border=\"1\" class=\"dataframe\">\n",
       "  <thead>\n",
       "    <tr style=\"text-align: right;\">\n",
       "      <th></th>\n",
       "      <th>brand</th>\n",
       "      <th>model</th>\n",
       "      <th>age</th>\n",
       "      <th>milage</th>\n",
       "      <th>fuel_type</th>\n",
       "      <th>transmission</th>\n",
       "      <th>ext_col</th>\n",
       "      <th>int_col</th>\n",
       "      <th>accident</th>\n",
       "      <th>price</th>\n",
       "      <th>HP</th>\n",
       "      <th>Litre</th>\n",
       "      <th>Cylinders</th>\n",
       "      <th>DOHC</th>\n",
       "      <th>Turbo</th>\n",
       "      <th>Twin Turbo</th>\n",
       "    </tr>\n",
       "  </thead>\n",
       "  <tbody>\n",
       "    <tr>\n",
       "      <th>0</th>\n",
       "      <td>38001.538101</td>\n",
       "      <td>42945.437500</td>\n",
       "      <td>7</td>\n",
       "      <td>74349</td>\n",
       "      <td>Gasoline</td>\n",
       "      <td>60253.480436</td>\n",
       "      <td>37618.940971</td>\n",
       "      <td>26823.721317</td>\n",
       "      <td>None reported</td>\n",
       "      <td>11000</td>\n",
       "      <td>375.0</td>\n",
       "      <td>3.5</td>\n",
       "      <td>34149.696791</td>\n",
       "      <td>0.0</td>\n",
       "      <td>0.0</td>\n",
       "      <td>0.0</td>\n",
       "    </tr>\n",
       "    <tr>\n",
       "      <th>1</th>\n",
       "      <td>40425.078095</td>\n",
       "      <td>15631.257009</td>\n",
       "      <td>18</td>\n",
       "      <td>80000</td>\n",
       "      <td>Gasoline</td>\n",
       "      <td>33160.346062</td>\n",
       "      <td>38909.767582</td>\n",
       "      <td>41152.659789</td>\n",
       "      <td>None reported</td>\n",
       "      <td>8250</td>\n",
       "      <td>300.0</td>\n",
       "      <td>3.0</td>\n",
       "      <td>38849.827903</td>\n",
       "      <td>0.0</td>\n",
       "      <td>0.0</td>\n",
       "      <td>0.0</td>\n",
       "    </tr>\n",
       "    <tr>\n",
       "      <th>2</th>\n",
       "      <td>34568.112930</td>\n",
       "      <td>14397.047619</td>\n",
       "      <td>16</td>\n",
       "      <td>91491</td>\n",
       "      <td>Gasoline</td>\n",
       "      <td>24772.562000</td>\n",
       "      <td>26274.906977</td>\n",
       "      <td>27616.857511</td>\n",
       "      <td>None reported</td>\n",
       "      <td>15000</td>\n",
       "      <td>300.0</td>\n",
       "      <td>4.2</td>\n",
       "      <td>47268.624825</td>\n",
       "      <td>0.0</td>\n",
       "      <td>0.0</td>\n",
       "      <td>0.0</td>\n",
       "    </tr>\n",
       "    <tr>\n",
       "      <th>3</th>\n",
       "      <td>40425.078095</td>\n",
       "      <td>69502.713415</td>\n",
       "      <td>3</td>\n",
       "      <td>2437</td>\n",
       "      <td>Hybrid</td>\n",
       "      <td>45805.581953</td>\n",
       "      <td>45251.596186</td>\n",
       "      <td>50007.954017</td>\n",
       "      <td>None reported</td>\n",
       "      <td>63500</td>\n",
       "      <td>335.0</td>\n",
       "      <td>3.0</td>\n",
       "      <td>38849.827903</td>\n",
       "      <td>0.0</td>\n",
       "      <td>0.0</td>\n",
       "      <td>0.0</td>\n",
       "    </tr>\n",
       "    <tr>\n",
       "      <th>4</th>\n",
       "      <td>17483.107143</td>\n",
       "      <td>10793.000000</td>\n",
       "      <td>24</td>\n",
       "      <td>111000</td>\n",
       "      <td>Gasoline</td>\n",
       "      <td>30210.769350</td>\n",
       "      <td>37761.358637</td>\n",
       "      <td>41152.659789</td>\n",
       "      <td>None reported</td>\n",
       "      <td>7850</td>\n",
       "      <td>200.0</td>\n",
       "      <td>3.8</td>\n",
       "      <td>34149.696791</td>\n",
       "      <td>0.0</td>\n",
       "      <td>0.0</td>\n",
       "      <td>0.0</td>\n",
       "    </tr>\n",
       "  </tbody>\n",
       "</table>\n",
       "</div>\n",
       "    <div class=\"colab-df-buttons\">\n",
       "\n",
       "  <div class=\"colab-df-container\">\n",
       "    <button class=\"colab-df-convert\" onclick=\"convertToInteractive('df-332564bb-950b-424e-9e22-74ca314078a3')\"\n",
       "            title=\"Convert this dataframe to an interactive table.\"\n",
       "            style=\"display:none;\">\n",
       "\n",
       "  <svg xmlns=\"http://www.w3.org/2000/svg\" height=\"24px\" viewBox=\"0 -960 960 960\">\n",
       "    <path d=\"M120-120v-720h720v720H120Zm60-500h600v-160H180v160Zm220 220h160v-160H400v160Zm0 220h160v-160H400v160ZM180-400h160v-160H180v160Zm440 0h160v-160H620v160ZM180-180h160v-160H180v160Zm440 0h160v-160H620v160Z\"/>\n",
       "  </svg>\n",
       "    </button>\n",
       "\n",
       "  <style>\n",
       "    .colab-df-container {\n",
       "      display:flex;\n",
       "      gap: 12px;\n",
       "    }\n",
       "\n",
       "    .colab-df-convert {\n",
       "      background-color: #E8F0FE;\n",
       "      border: none;\n",
       "      border-radius: 50%;\n",
       "      cursor: pointer;\n",
       "      display: none;\n",
       "      fill: #1967D2;\n",
       "      height: 32px;\n",
       "      padding: 0 0 0 0;\n",
       "      width: 32px;\n",
       "    }\n",
       "\n",
       "    .colab-df-convert:hover {\n",
       "      background-color: #E2EBFA;\n",
       "      box-shadow: 0px 1px 2px rgba(60, 64, 67, 0.3), 0px 1px 3px 1px rgba(60, 64, 67, 0.15);\n",
       "      fill: #174EA6;\n",
       "    }\n",
       "\n",
       "    .colab-df-buttons div {\n",
       "      margin-bottom: 4px;\n",
       "    }\n",
       "\n",
       "    [theme=dark] .colab-df-convert {\n",
       "      background-color: #3B4455;\n",
       "      fill: #D2E3FC;\n",
       "    }\n",
       "\n",
       "    [theme=dark] .colab-df-convert:hover {\n",
       "      background-color: #434B5C;\n",
       "      box-shadow: 0px 1px 3px 1px rgba(0, 0, 0, 0.15);\n",
       "      filter: drop-shadow(0px 1px 2px rgba(0, 0, 0, 0.3));\n",
       "      fill: #FFFFFF;\n",
       "    }\n",
       "  </style>\n",
       "\n",
       "    <script>\n",
       "      const buttonEl =\n",
       "        document.querySelector('#df-332564bb-950b-424e-9e22-74ca314078a3 button.colab-df-convert');\n",
       "      buttonEl.style.display =\n",
       "        google.colab.kernel.accessAllowed ? 'block' : 'none';\n",
       "\n",
       "      async function convertToInteractive(key) {\n",
       "        const element = document.querySelector('#df-332564bb-950b-424e-9e22-74ca314078a3');\n",
       "        const dataTable =\n",
       "          await google.colab.kernel.invokeFunction('convertToInteractive',\n",
       "                                                    [key], {});\n",
       "        if (!dataTable) return;\n",
       "\n",
       "        const docLinkHtml = 'Like what you see? Visit the ' +\n",
       "          '<a target=\"_blank\" href=https://colab.research.google.com/notebooks/data_table.ipynb>data table notebook</a>'\n",
       "          + ' to learn more about interactive tables.';\n",
       "        element.innerHTML = '';\n",
       "        dataTable['output_type'] = 'display_data';\n",
       "        await google.colab.output.renderOutput(dataTable, element);\n",
       "        const docLink = document.createElement('div');\n",
       "        docLink.innerHTML = docLinkHtml;\n",
       "        element.appendChild(docLink);\n",
       "      }\n",
       "    </script>\n",
       "  </div>\n",
       "\n",
       "\n",
       "<div id=\"df-4e682a22-0308-4ca1-8908-ba91d6eade19\">\n",
       "  <button class=\"colab-df-quickchart\" onclick=\"quickchart('df-4e682a22-0308-4ca1-8908-ba91d6eade19')\"\n",
       "            title=\"Suggest charts\"\n",
       "            style=\"display:none;\">\n",
       "\n",
       "<svg xmlns=\"http://www.w3.org/2000/svg\" height=\"24px\"viewBox=\"0 0 24 24\"\n",
       "     width=\"24px\">\n",
       "    <g>\n",
       "        <path d=\"M19 3H5c-1.1 0-2 .9-2 2v14c0 1.1.9 2 2 2h14c1.1 0 2-.9 2-2V5c0-1.1-.9-2-2-2zM9 17H7v-7h2v7zm4 0h-2V7h2v10zm4 0h-2v-4h2v4z\"/>\n",
       "    </g>\n",
       "</svg>\n",
       "  </button>\n",
       "\n",
       "<style>\n",
       "  .colab-df-quickchart {\n",
       "      --bg-color: #E8F0FE;\n",
       "      --fill-color: #1967D2;\n",
       "      --hover-bg-color: #E2EBFA;\n",
       "      --hover-fill-color: #174EA6;\n",
       "      --disabled-fill-color: #AAA;\n",
       "      --disabled-bg-color: #DDD;\n",
       "  }\n",
       "\n",
       "  [theme=dark] .colab-df-quickchart {\n",
       "      --bg-color: #3B4455;\n",
       "      --fill-color: #D2E3FC;\n",
       "      --hover-bg-color: #434B5C;\n",
       "      --hover-fill-color: #FFFFFF;\n",
       "      --disabled-bg-color: #3B4455;\n",
       "      --disabled-fill-color: #666;\n",
       "  }\n",
       "\n",
       "  .colab-df-quickchart {\n",
       "    background-color: var(--bg-color);\n",
       "    border: none;\n",
       "    border-radius: 50%;\n",
       "    cursor: pointer;\n",
       "    display: none;\n",
       "    fill: var(--fill-color);\n",
       "    height: 32px;\n",
       "    padding: 0;\n",
       "    width: 32px;\n",
       "  }\n",
       "\n",
       "  .colab-df-quickchart:hover {\n",
       "    background-color: var(--hover-bg-color);\n",
       "    box-shadow: 0 1px 2px rgba(60, 64, 67, 0.3), 0 1px 3px 1px rgba(60, 64, 67, 0.15);\n",
       "    fill: var(--button-hover-fill-color);\n",
       "  }\n",
       "\n",
       "  .colab-df-quickchart-complete:disabled,\n",
       "  .colab-df-quickchart-complete:disabled:hover {\n",
       "    background-color: var(--disabled-bg-color);\n",
       "    fill: var(--disabled-fill-color);\n",
       "    box-shadow: none;\n",
       "  }\n",
       "\n",
       "  .colab-df-spinner {\n",
       "    border: 2px solid var(--fill-color);\n",
       "    border-color: transparent;\n",
       "    border-bottom-color: var(--fill-color);\n",
       "    animation:\n",
       "      spin 1s steps(1) infinite;\n",
       "  }\n",
       "\n",
       "  @keyframes spin {\n",
       "    0% {\n",
       "      border-color: transparent;\n",
       "      border-bottom-color: var(--fill-color);\n",
       "      border-left-color: var(--fill-color);\n",
       "    }\n",
       "    20% {\n",
       "      border-color: transparent;\n",
       "      border-left-color: var(--fill-color);\n",
       "      border-top-color: var(--fill-color);\n",
       "    }\n",
       "    30% {\n",
       "      border-color: transparent;\n",
       "      border-left-color: var(--fill-color);\n",
       "      border-top-color: var(--fill-color);\n",
       "      border-right-color: var(--fill-color);\n",
       "    }\n",
       "    40% {\n",
       "      border-color: transparent;\n",
       "      border-right-color: var(--fill-color);\n",
       "      border-top-color: var(--fill-color);\n",
       "    }\n",
       "    60% {\n",
       "      border-color: transparent;\n",
       "      border-right-color: var(--fill-color);\n",
       "    }\n",
       "    80% {\n",
       "      border-color: transparent;\n",
       "      border-right-color: var(--fill-color);\n",
       "      border-bottom-color: var(--fill-color);\n",
       "    }\n",
       "    90% {\n",
       "      border-color: transparent;\n",
       "      border-bottom-color: var(--fill-color);\n",
       "    }\n",
       "  }\n",
       "</style>\n",
       "\n",
       "  <script>\n",
       "    async function quickchart(key) {\n",
       "      const quickchartButtonEl =\n",
       "        document.querySelector('#' + key + ' button');\n",
       "      quickchartButtonEl.disabled = true;  // To prevent multiple clicks.\n",
       "      quickchartButtonEl.classList.add('colab-df-spinner');\n",
       "      try {\n",
       "        const charts = await google.colab.kernel.invokeFunction(\n",
       "            'suggestCharts', [key], {});\n",
       "      } catch (error) {\n",
       "        console.error('Error during call to suggestCharts:', error);\n",
       "      }\n",
       "      quickchartButtonEl.classList.remove('colab-df-spinner');\n",
       "      quickchartButtonEl.classList.add('colab-df-quickchart-complete');\n",
       "    }\n",
       "    (() => {\n",
       "      let quickchartButtonEl =\n",
       "        document.querySelector('#df-4e682a22-0308-4ca1-8908-ba91d6eade19 button');\n",
       "      quickchartButtonEl.style.display =\n",
       "        google.colab.kernel.accessAllowed ? 'block' : 'none';\n",
       "    })();\n",
       "  </script>\n",
       "</div>\n",
       "\n",
       "    </div>\n",
       "  </div>\n"
      ],
      "text/plain": [
       "          brand         model  age  milage fuel_type  transmission  \\\n",
       "0  38001.538101  42945.437500    7   74349  Gasoline  60253.480436   \n",
       "1  40425.078095  15631.257009   18   80000  Gasoline  33160.346062   \n",
       "2  34568.112930  14397.047619   16   91491  Gasoline  24772.562000   \n",
       "3  40425.078095  69502.713415    3    2437    Hybrid  45805.581953   \n",
       "4  17483.107143  10793.000000   24  111000  Gasoline  30210.769350   \n",
       "\n",
       "        ext_col       int_col       accident  price     HP  Litre  \\\n",
       "0  37618.940971  26823.721317  None reported  11000  375.0    3.5   \n",
       "1  38909.767582  41152.659789  None reported   8250  300.0    3.0   \n",
       "2  26274.906977  27616.857511  None reported  15000  300.0    4.2   \n",
       "3  45251.596186  50007.954017  None reported  63500  335.0    3.0   \n",
       "4  37761.358637  41152.659789  None reported   7850  200.0    3.8   \n",
       "\n",
       "      Cylinders  DOHC  Turbo  Twin Turbo  \n",
       "0  34149.696791   0.0    0.0         0.0  \n",
       "1  38849.827903   0.0    0.0         0.0  \n",
       "2  47268.624825   0.0    0.0         0.0  \n",
       "3  38849.827903   0.0    0.0         0.0  \n",
       "4  34149.696791   0.0    0.0         0.0  "
      ]
     },
     "execution_count": 45,
     "metadata": {},
     "output_type": "execute_result"
    }
   ],
   "source": [
    "# Target Encoding For Cylinders\n",
    "\n",
    "mean_price_by_Cylinders = df.groupby('Cylinders')['price'].mean()\n",
    "Cylinders_mapping = mean_price_by_Cylinders.to_dict()\n",
    "df['Cylinders'] = df['Cylinders'].map(Cylinders_mapping)\n",
    "df.head()"
   ]
  },
  {
   "cell_type": "markdown",
   "metadata": {
    "id": "lmK-jO5DdIv2"
   },
   "source": [
    "## Encoding 'accident' and 'fuel_type' Columns\n",
    "\n",
    "This code applies `**Label Encoding**` to the 'accident' column by mapping the values 'At least 1 accident or damage reported' to 1 and 'None reported' to 0. It then applies `**One Hot Encoding**` to the 'fuel_type' column, creating binary columns for each fuel type, while dropping the first category to avoid multicollinearity.\n"
   ]
  },
  {
   "cell_type": "code",
   "execution_count": 46,
   "metadata": {
    "id": "IiGRasUMdIv6"
   },
   "outputs": [],
   "source": [
    "# Label Encoding for 'accident' and One Hot Encoding for 'fuel_type'\n",
    "df['accident'] = df['accident'].map({'At least 1 accident or damage reported': 1, 'None reported': 0})\n",
    "df=pd.get_dummies(df, columns=['fuel_type'], prefix=['fuel_type'],drop_first=True)"
   ]
  },
  {
   "cell_type": "markdown",
   "metadata": {
    "id": "Tp0xYS8rdIv7"
   },
   "source": [
    "## Displaying the Final List of Columns\n",
    "\n",
    "This code prints the final list of column names present in the DataFrame after all transformations and encoding steps.\n"
   ]
  },
  {
   "cell_type": "code",
   "execution_count": 47,
   "metadata": {
    "colab": {
     "base_uri": "https://localhost:8080/"
    },
    "id": "KHLpz-ISdIv7",
    "outputId": "4945989e-c639-4582-f275-6305bc36e47c"
   },
   "outputs": [
    {
     "name": "stdout",
     "output_type": "stream",
     "text": [
      "Final List of Columns our dataframe has:\n",
      "['brand', 'model', 'age', 'milage', 'transmission', 'ext_col', 'int_col', 'accident', 'price', 'HP', 'Litre', 'Cylinders', 'DOHC', 'Turbo', 'Twin Turbo', 'fuel_type_E85 Flex Fuel', 'fuel_type_Gasoline', 'fuel_type_Hybrid', 'fuel_type_Plug-In Hybrid', 'fuel_type_not supported']\n"
     ]
    }
   ],
   "source": [
    "print(\"Final List of Columns our dataframe has:\")\n",
    "print(list(df.columns))"
   ]
  },
  {
   "cell_type": "markdown",
   "metadata": {
    "id": "NrMi4P4-dIv7"
   },
   "source": [
    "## Applying Log Transformation to 'Price' Column\n",
    "\n",
    "This code applies a logarithmic transformation with base 10 to the 'price' column to help with better model fitting, especially if the data is skewed. The transformed price values are then updated in the DataFrame.\n"
   ]
  },
  {
   "cell_type": "code",
   "execution_count": 48,
   "metadata": {
    "id": "HuMrURpDdIv7"
   },
   "outputs": [],
   "source": [
    "# Taking the log of the price with base 10 for better fitting of the model\n",
    "df['price']=np.log(df['price'])/np.log(10)\n"
   ]
  },
  {
   "cell_type": "markdown",
   "metadata": {
    "id": "c7RNXq8bdIv7"
   },
   "source": [
    "## Scaling Numerical Columns with StandardScaler\n",
    "\n",
    "This code selects numerical columns with more than 2 unique values and applies **StandardScaler** to standardize them (mean = 0, standard deviation = 1). The scaled values are then updated in the DataFrame. The updated DataFrame is displayed in a tabular format.\n"
   ]
  },
  {
   "cell_type": "code",
   "execution_count": 49,
   "metadata": {
    "colab": {
     "base_uri": "https://localhost:8080/"
    },
    "id": "pJdLpuURdIv7",
    "outputId": "7b55d74c-2c81-4869-a3eb-174e90447c38"
   },
   "outputs": [
    {
     "name": "stdout",
     "output_type": "stream",
     "text": [
      "+---+----------------------+---------------------+---------------------+----------------------+---------------------+----------------------+---------------------+----------+---------------------+----------------------+----------------------+----------------------+------+-------+------------+-------------------------+--------------------+------------------+--------------------------+-------------------------+\n",
      "|   |        brand         |        model        |         age         |        milage        |    transmission     |       ext_col        |       int_col       | accident |        price        |          HP          |        Litre         |      Cylinders       | DOHC | Turbo | Twin Turbo | fuel_type_E85 Flex Fuel | fuel_type_Gasoline | fuel_type_Hybrid | fuel_type_Plug-In Hybrid | fuel_type_not supported |\n",
      "+---+----------------------+---------------------+---------------------+----------------------+---------------------+----------------------+---------------------+----------+---------------------+----------------------+----------------------+----------------------+------+-------+------------+-------------------------+--------------------+------------------+--------------------------+-------------------------+\n",
      "| 0 | -0.07479999210625812 | 0.12785473685471652 | -0.5214139411304632 | 0.030033753448056474 |  1.208335468584327  | -0.15271584388920673 | -1.1740170582652465 |    0     | -1.0707398770439072 |  0.4195387495549494  | -0.15840207001803636 | -0.3706593041644002  | 0.0  |  0.0  |    0.0     |          False          |        True        |      False       |          False           |          False          |\n",
      "| 1 | 0.07019605890226478  | -0.8176177371495762 | 1.4511195896441242  | 0.14201145466961476  | -0.3504717402601358 | -0.03198799282367637 | 0.17956620854918773 |    0     | -1.4182915698900986 | -0.30109481148043377 | -0.5342692114124926  | -0.02920155786719835 | 0.0  |  0.0  |    0.0     |          False          |        True        |      False       |          False           |          False          |\n",
      "| 2 | -0.28021566190951586 | -0.860339538965443  | 1.0924771295032902  |  0.3697119970049406  | -0.8330640487675914 | -1.2136955567809729  | -1.0990934425216332 |    0     | -0.696038494166959  | -0.30109481148043377 | 0.36781192793420264  |  0.5824118960651449  | 0.0  |  0.0  |    0.0     |          False          |        True        |      False       |          False           |          False          |\n",
      "| 3 | 0.07019605890226478  |  1.047127177425104  | -1.2386988614121313 |  -1.394942436650103  | 0.37707364422552414 |  0.5611477024873819  | 1.0160816359673923  |    0     | 1.0472523212372058  | 0.03520085033607838  | -0.5342692114124926  | -0.02920155786719835 | 0.0  |  0.0  |    0.0     |          False          |       False        |       True       |          False           |          False          |\n",
      "| 4 | -1.3023809145314125  | -0.9850926070641234 | 2.5270469700666265  |  0.756293659211874   | -0.5201760416513009 | -0.13939586842792184 | 0.17956620854918773 |    0     | -1.4783342544829368 | -1.2619395595276113  | 0.06711821481863732  | -0.3706593041644002  | 0.0  |  0.0  |    0.0     |          False          |        True        |      False       |          False           |          False          |\n",
      "+---+----------------------+---------------------+---------------------+----------------------+---------------------+----------------------+---------------------+----------+---------------------+----------------------+----------------------+----------------------+------+-------+------------+-------------------------+--------------------+------------------+--------------------------+-------------------------+\n"
     ]
    }
   ],
   "source": [
    "cols_to_scale = [\n",
    "    col for col in df.select_dtypes(include=['number']).columns\n",
    "    if df[col].nunique() > 2\n",
    "]\n",
    "\n",
    "# Apply StandardScaler to these columns\n",
    "scaler = StandardScaler()\n",
    "df[cols_to_scale] = scaler.fit_transform(df[cols_to_scale])\n",
    "\n",
    "print(tabulate(df.head(), headers='keys', tablefmt='pretty'))"
   ]
  },
  {
   "cell_type": "markdown",
   "metadata": {
    "id": "RaWq5kbadIv7"
   },
   "source": [
    "## Removing Low Correlation Columns\n",
    "\n",
    "This code defines a function that removes columns from the DataFrame with a correlation coefficient less than a specified threshold (default is 0.2) with the target column ('price'). The correlation matrix is computed, and columns with low correlation are dropped. The function prints the list of removed columns and returns the updated DataFrame.\n"
   ]
  },
  {
   "cell_type": "code",
   "execution_count": 50,
   "metadata": {
    "colab": {
     "base_uri": "https://localhost:8080/"
    },
    "id": "h_8n51fVdIv7",
    "outputId": "9193bd78-88e2-4343-bdd5-8fdfab7e70b1"
   },
   "outputs": [
    {
     "name": "stdout",
     "output_type": "stream",
     "text": [
      "Removed columns with correlation below 0.008: []\n"
     ]
    }
   ],
   "source": [
    "def remove_low_corr_columns(df, target_column, threshold=0.2):\n",
    "    corr_matrix = df.corr()  # Compute the correlation matrix\n",
    "    corr_with_target = corr_matrix[target_column]  # Get correlations with 'Price'\n",
    "\n",
    "    # Keep only features with correlation above the threshold\n",
    "    low_corr_features = corr_with_target[abs(corr_with_target) < threshold].index\n",
    "    df = df.drop(columns=low_corr_features)\n",
    "\n",
    "    print(f\"Removed columns with correlation below {threshold}: {list(low_corr_features)}\")\n",
    "    return df\n",
    "\n",
    "df = remove_low_corr_columns(df, target_column='price', threshold=0.008)"
   ]
  },
  {
   "cell_type": "markdown",
   "metadata": {
    "id": "hgb4_maadIv7"
   },
   "source": [
    "## Splitting the Data into Training and Test Sets\n",
    "\n",
    "This code splits the DataFrame into features (`X`) and target (`y`), then further divides them into training and test sets. 80% of the data is used for training, and 20% for testing. The `train_test_split` function from `sklearn.model_selection` is used, with a fixed `random_state` for reproducibility.\n"
   ]
  },
  {
   "cell_type": "code",
   "execution_count": 51,
   "metadata": {
    "id": "nH_D7oNNdIv8"
   },
   "outputs": [],
   "source": [
    "# Split the data into training and test sets (80% train, 20% test)\n",
    "# Convert all columns in X and y to float32\n",
    "X = df.drop(columns=['price']).astype('float32')\n",
    "y = df['price'].astype('float32')\n",
    "X_train, X_test, y_train, y_test = train_test_split(X, y, test_size=0.2, random_state=35)"
   ]
  },
  {
   "cell_type": "markdown",
   "metadata": {
    "id": "pvf-hlHuyKWD"
   },
   "source": [
    "### **Linear Regression**\n",
    "- A model that finds the best-fit line to predict the target variable based on input features."
   ]
  },
  {
   "cell_type": "code",
   "execution_count": null,
   "metadata": {
    "colab": {
     "base_uri": "https://localhost:8080/"
    },
    "id": "_qH3EtDZY8Z7",
    "outputId": "64ba22a0-004c-4ba5-f546-9c8ebd04724b"
   },
   "outputs": [
    {
     "name": "stdout",
     "output_type": "stream",
     "text": [
      "Root Mean Squared Error: 47934.797\n",
      "R-squared Score: 0.6281751394271851\n",
      "       Actual Price  Predicted Price\n",
      "31769  22389.001953     45247.175781\n",
      "27105   8249.998047      8090.390137\n",
      "22278  13700.002930     22496.832031\n",
      "5822    4899.999512     10769.642578\n"
     ]
    }
   ],
   "source": [
    "# Convert all columns in X and y to float32\n",
    "X = df.drop(columns=['price']).astype('float32')\n",
    "y = df['price'].astype('float32')\n",
    "X_train, X_test, y_train, y_test = train_test_split(X, y, test_size=0.2, random_state=35)\n",
    "\n",
    "# Initialize the Linear Regression model\n",
    "model = LinearRegression()\n",
    "\n",
    "# Train the model on the training data\n",
    "model.fit(X_train, y_train)\n",
    "\n",
    "# Predict prices on the test data\n",
    "y_pred = model.predict(X_test)\n",
    "r2=r2_score(y_test, y_pred)\n",
    "\n",
    "# Decode (inverse transform) y_test and y_pred for 'price' only using the original scale and mean for 'price'\n",
    "price_index = cols_to_scale.index('price')\n",
    "\n",
    "y_test_original = (y_test * scaler.scale_[price_index]) + scaler.mean_[price_index]\n",
    "y_pred_original = (y_pred * scaler.scale_[price_index]) + scaler.mean_[price_index]\n",
    "\n",
    "y_pred_original=10**y_pred_original\n",
    "y_test_original=10**y_test_original\n",
    "\n",
    "# Now, calculate RMSE and R^2 on the original scale\n",
    "mse = mean_squared_error(y_test_original, y_pred_original)\n",
    "rmse = np.sqrt(mse)\n",
    "\n",
    "print(\"Root Mean Squared Error:\", rmse)\n",
    "print(\"R-squared Score:\", r2)\n",
    "\n",
    "# Compare the predicted and actual prices\n",
    "comparison_df = pd.DataFrame({'Actual Price': y_test_original, 'Predicted Price': y_pred_original})\n",
    "print(comparison_df.iloc[1:5])"
   ]
  },
  {
   "cell_type": "markdown",
   "metadata": {
    "id": "SAhRLhkVywoZ"
   },
   "source": [
    "## Explanation of Results\n",
    "\n",
    "### 1. **Root Mean Squared Error (RMSE)**\n",
    "- **47934.81**: The RMSE value indicates the average difference between the actual and predicted prices. A lower RMSE means better prediction accuracy, but in this case, the value suggests a moderate level of error in predicting the prices. This is the minimum RMSE that could be brought.\n",
    "\n",
    "### 2. **R-squared Score (R²)**\n",
    "- **0.63**: The R² score shows that approximately **63%** of the variance in the target variable (price) is explained by the model. A value closer to 1 would indicate better model performance, but 0.63 suggests a reasonably good fit, though there’s still significant room for improvement."
   ]
  },
  {
   "cell_type": "markdown",
   "metadata": {
    "id": "lzwYwRm9zWbM"
   },
   "source": [
    "## **Model Used: Decision Tree Regressor**\n",
    "\n",
    "A **Decision Tree Regressor** is a machine learning model that predicts continuous values by splitting the data into subsets based on feature values. It builds a tree-like structure where each node represents a decision based on a feature, and the leaves represent the predicted values. The model is used here to predict the price in a regression context.\n"
   ]
  },
  {
   "cell_type": "code",
   "execution_count": null,
   "metadata": {
    "colab": {
     "base_uri": "https://localhost:8080/"
    },
    "id": "XVQHfPFWtsMs",
    "outputId": "36fc9872-d323-4c89-e474-ba16455ecdaf"
   },
   "outputs": [
    {
     "name": "stdout",
     "output_type": "stream",
     "text": [
      "Root Mean Squared Error: 95467.6844823443\n",
      "R-squared Score: 0.2755840018677025\n",
      "       Actual Price  Predicted Price\n",
      "31769       22389.0          33500.0\n",
      "27105        8250.0           4199.0\n",
      "22278       13700.0          29000.0\n",
      "5822         4900.0           7500.0\n"
     ]
    }
   ],
   "source": [
    "# Convert all columns in X and y to float32\n",
    "X = df.drop(columns=['price']).astype('float32')\n",
    "y = df['price'].astype('float32')\n",
    "X_train, X_test, y_train, y_test = train_test_split(X, y, test_size=0.2, random_state=35)\n",
    "\n",
    "# Initialize the Decision Tree Regressor model\n",
    "model = DecisionTreeRegressor(random_state=35)\n",
    "\n",
    "# Train the model on the training data\n",
    "model.fit(X_train, y_train)\n",
    "\n",
    "# Predict in the log-transformed scale\n",
    "y_pred = model.predict(X_test)\n",
    "r2 = r2_score(y_test, y_pred)\n",
    "\n",
    "# Decode (inverse transform) y_test and y_pred for 'price' only using the original scale and mean for 'price'\n",
    "price_index = cols_to_scale.index('price')\n",
    "\n",
    "y_test_original = (y_test * scaler.scale_[price_index]) + scaler.mean_[price_index]\n",
    "y_pred_original = (y_pred * scaler.scale_[price_index]) + scaler.mean_[price_index]\n",
    "\n",
    "y_pred_original=10**y_pred_original\n",
    "y_test_original=10**y_test_original\n",
    "\n",
    "# Now, calculate RMSE and R^2 on the original scale\n",
    "mse = mean_squared_error(y_test_original, y_pred_original)\n",
    "rmse = np.sqrt(mse)\n",
    "\n",
    "print(\"Root Mean Squared Error:\", rmse)\n",
    "print(\"R-squared Score:\", r2)\n",
    "\n",
    "# Compare the predicted and actual prices\n",
    "comparison_df = pd.DataFrame({'Actual Price': y_test_original, 'Predicted Price': y_pred_original})\n",
    "print(comparison_df.iloc[1:5])\n"
   ]
  },
  {
   "cell_type": "markdown",
   "metadata": {
    "id": "zKHQla-Qz1-7"
   },
   "source": [
    "### Model Evaluation Results:\n",
    "\n",
    "- **RMSE**: 95,467.68 - High error between predicted and actual prices.\n",
    "- **R²**: 0.275 - The model explains only 27.5% of the price variance, indicating poor fit.\n",
    "  \n",
    "**Actual vs Predicted**:\n",
    "- Significant discrepancies in predictions, with both overestimations and underestimations.\n",
    "  \n",
    "**Conclusion**: The model's performance is poor, and further improvements or different models may be needed.\n"
   ]
  },
  {
   "cell_type": "markdown",
   "metadata": {
    "id": "PdUDw4Iz0JkH"
   },
   "source": [
    "### **K-Fold Cross Validation on Linear Regression**:\n",
    "- **K-Fold** is a technique used to evaluate the performance of a model by splitting the dataset into **K** smaller subsets (or folds).\n",
    "- The model is trained on **K-1** folds and tested on the remaining fold. This process is repeated **K** times, each time using a different fold as the test set.\n",
    "- It helps to ensure that the model's performance is robust and not dependent on a single partition of the data.\n",
    "- **In this case**:\n",
    "  - The dataset is split into **5** folds (`k=5`).\n",
    "  - The model is trained and evaluated 5 times, each time using a different fold as the test set and averaging the results (RMSE and R²).\n"
   ]
  },
  {
   "cell_type": "code",
   "execution_count": null,
   "metadata": {
    "colab": {
     "base_uri": "https://localhost:8080/"
    },
    "id": "hXSHR15SGiKa",
    "outputId": "35395309-7781-4680-bb21-ea46ee0ce186"
   },
   "outputs": [
    {
     "name": "stdout",
     "output_type": "stream",
     "text": [
      "Average Root Mean Squared Error across folds: 4660086.422540471\n",
      "Average R-squared Score across folds: 0.6223398852186609\n"
     ]
    }
   ],
   "source": [
    "# Convert all columns in X and y to float32\n",
    "X = df.drop(columns=['price']).astype('float32')\n",
    "y = df['price'].astype('float32')\n",
    "X_train, X_test, y_train, y_test = train_test_split(X, y, test_size=0.2, random_state=35)\n",
    "\n",
    "k = 5  # number of folds\n",
    "kf = KFold(n_splits=k, shuffle=True, random_state=33)\n",
    "rmse_list = []\n",
    "r2_list = []\n",
    "\n",
    "# Loop over each fold\n",
    "for train_index, test_index in kf.split(X):\n",
    "    X_train, X_test = X.iloc[train_index], X.iloc[test_index]\n",
    "    y_train, y_test = y.iloc[train_index], y.iloc[test_index]\n",
    "\n",
    "    # Train the model\n",
    "    model = LinearRegression()\n",
    "    model.fit(X_train, y_train)\n",
    "\n",
    "    # Predict on test data\n",
    "    y_pred = model.predict(X_test)\n",
    "    r2 = r2_score(y_test, y_pred)\n",
    "\n",
    "    # Decode (inverse transform) y_test and y_pred for 'price' only using the original scale and mean for 'price'\n",
    "    price_index = cols_to_scale.index('price')\n",
    "    y_test_original = (y_test * scaler.scale_[price_index]) + scaler.mean_[price_index]\n",
    "    y_pred_original = (y_pred * scaler.scale_[price_index]) + scaler.mean_[price_index]\n",
    "\n",
    "    # Transform predictions back from log scale\n",
    "    y_pred_original = 10 ** y_pred_original\n",
    "    y_test_original = 10 ** y_test_original\n",
    "\n",
    "    # Calculate RMSE and R-squared for the current fold\n",
    "    mse = mean_squared_error(y_test_original, y_pred_original)\n",
    "    rmse = np.sqrt(mse)\n",
    "\n",
    "    # Append the results for each fold\n",
    "    rmse_list.append(rmse)\n",
    "    r2_list.append(r2)\n",
    "\n",
    "# Calculate the average RMSE and R^2 over all folds\n",
    "average_rmse = np.mean(rmse_list)\n",
    "average_r2 = np.mean(r2_list)\n",
    "\n",
    "print(\"Average Root Mean Squared Error across folds:\", average_rmse)\n",
    "print(\"Average R-squared Score across folds:\", average_r2)"
   ]
  },
  {
   "cell_type": "markdown",
   "metadata": {
    "id": "Sp-4alqq1j2k"
   },
   "source": [
    "### Results Explanation:\n",
    "- **Average Root Mean Squared Error (RMSE)**: 4,660,086.42\n",
    "  - This high RMSE indicates that, on average, the model's predictions are significantly off from the actual values, suggesting poor predictive accuracy.\n",
    "  \n",
    "- **Average R-squared Score (R²)**: 0.62\n",
    "  - The R² score shows that approximately **62%** of the variance in the target variable (price) is explained by the model. A value closer to 1 would indicate better model performance, but 0.62 suggests a reasonably good fit, though there’s still significant room for improvement\n",
    "\n",
    "These results suggest that the model is not suitable for this data.\n"
   ]
  },
  {
   "cell_type": "markdown",
   "metadata": {
    "id": "PsSlCyzW1sky"
   },
   "source": [
    "### **K-Fold Cross Validation on Decision Tree**:"
   ]
  },
  {
   "cell_type": "code",
   "execution_count": null,
   "metadata": {
    "colab": {
     "base_uri": "https://localhost:8080/"
    },
    "id": "zAjc9nvjIJHE",
    "outputId": "bb328c1b-e5f8-4202-cf3a-8dd40835eeb1"
   },
   "outputs": [
    {
     "name": "stdout",
     "output_type": "stream",
     "text": [
      "Average Root Mean Squared Error across folds: 95100.77248880621\n",
      "Average R-squared Score across folds: 0.29777048369597736\n"
     ]
    }
   ],
   "source": [
    "# Convert all columns in X and y to float32\n",
    "X = df.drop(columns=['price']).astype('float32')\n",
    "y = df['price'].astype('float32')\n",
    "X_train, X_test, y_train, y_test = train_test_split(X, y, test_size=0.2, random_state=35)\n",
    "\n",
    "k = 5  # Define the number of folds\n",
    "kf = KFold(n_splits=k, shuffle=True, random_state=33)\n",
    "rmse_list = []\n",
    "r2_list = []\n",
    "\n",
    "# Loop over each fold\n",
    "for train_index, test_index in kf.split(X):\n",
    "    X_train, X_test = X.iloc[train_index], X.iloc[test_index]\n",
    "    y_train, y_test = y.iloc[train_index], y.iloc[test_index]\n",
    "\n",
    "    # Train the model\n",
    "    model = DecisionTreeRegressor(random_state=42)\n",
    "    model.fit(X_train, y_train)\n",
    "\n",
    "    # Predict on test data\n",
    "    y_pred = model.predict(X_test)\n",
    "    r2 = r2_score(y_test, y_pred)\n",
    "\n",
    "    # Decode (inverse transform) y_test and y_pred for 'price' only using the original scale and mean for 'price'\n",
    "    price_index = cols_to_scale.index('price')\n",
    "    y_test_original = (y_test * scaler.scale_[price_index]) + scaler.mean_[price_index]\n",
    "    y_pred_original = (y_pred * scaler.scale_[price_index]) + scaler.mean_[price_index]\n",
    "\n",
    "    # Transform predictions back from log scale\n",
    "    y_pred_original = 10 ** y_pred_original\n",
    "    y_test_original = 10 ** y_test_original\n",
    "\n",
    "    # Calculate RMSE for the current fold\n",
    "    mse = mean_squared_error(y_test_original, y_pred_original)\n",
    "    rmse = np.sqrt(mse)\n",
    "\n",
    "    # Append the results for each fold\n",
    "    rmse_list.append(rmse)\n",
    "    r2_list.append(r2)\n",
    "\n",
    "# Calculate the average RMSE and R^2 over all folds\n",
    "average_rmse = np.mean(rmse_list)\n",
    "average_r2 = np.mean(r2_list)\n",
    "\n",
    "print(\"Average Root Mean Squared Error across folds:\", average_rmse)\n",
    "print(\"Average R-squared Score across folds:\", average_r2)\n"
   ]
  },
  {
   "cell_type": "markdown",
   "metadata": {
    "id": "U6XRAv092EES"
   },
   "source": [
    "### Results Explanation:\n",
    "- **Average Root Mean Squared Error (RMSE)**: 95,100.77\n",
    "  - This high RMSE suggests that, on average, the model's predictions differ from the actual values by a large margin, indicating low predictive accuracy.\n",
    "\n",
    "- **Average R-squared Score (R²)**: 0.29\n",
    "  - The model explains only 29.7% of the price variance, indicating poor fit.\n",
    "\n",
    "Overall, these results suggest that the model is not well-suited for this dataset.\n"
   ]
  },
  {
   "cell_type": "markdown",
   "metadata": {
    "id": "9yhpwINk2fuY"
   },
   "source": [
    "### Model Architecture Explanation:\n",
    "- **Sequential Model**: This is a simple feed-forward neural network.\n",
    "- **Layers**:\n",
    "  - **Dense Layer 1**: 50 neurons, ReLU activation, followed by Batch Normalization and Dropout (20%).\n",
    "  - **Dense Layer 2**: 100 neurons, ReLU activation, with Batch Normalization and Dropout.\n",
    "  - **Dense Layer 3**: 100 neurons, ReLU activation, with Batch Normalization and Dropout.\n",
    "  - **Dense Layer 4**: 1000 neurons, ReLU activation, with Batch Normalization and Dropout.\n",
    "  - **Output Layer**: 1 neuron for regression output.\n",
    "- **Compilation**: Optimizer = Adam, Loss = Mean Absolute Error (MAE), Metric = RMSE.\n",
    "\n",
    "This architecture is aimed at learning complex patterns in data while using Batch Normalization and Dropout to prevent overfitting.\n"
   ]
  },
  {
   "cell_type": "code",
   "execution_count": null,
   "metadata": {
    "colab": {
     "base_uri": "https://localhost:8080/"
    },
    "id": "S6JbJESu5uE8",
    "outputId": "9d44ecf9-abfd-4c35-f237-5f5b9afacf01"
   },
   "outputs": [
    {
     "name": "stdout",
     "output_type": "stream",
     "text": [
      "Epoch 1/100\n",
      "1250/1250 [==============================] - 8s 5ms/step - loss: 0.6345 - root_mean_squared_error: 0.8790 - val_loss: 0.4464 - val_root_mean_squared_error: 0.6408\n",
      "Epoch 2/100\n",
      "1250/1250 [==============================] - 6s 5ms/step - loss: 0.4994 - root_mean_squared_error: 0.6911 - val_loss: 0.4794 - val_root_mean_squared_error: 0.6678\n",
      "Epoch 3/100\n",
      "1250/1250 [==============================] - 6s 5ms/step - loss: 0.4886 - root_mean_squared_error: 0.6798 - val_loss: 0.4242 - val_root_mean_squared_error: 0.6080\n",
      "Epoch 4/100\n",
      "1250/1250 [==============================] - 6s 5ms/step - loss: 0.4845 - root_mean_squared_error: 0.6763 - val_loss: 0.4164 - val_root_mean_squared_error: 0.5974\n",
      "Epoch 5/100\n",
      "1250/1250 [==============================] - 6s 5ms/step - loss: 0.4718 - root_mean_squared_error: 0.6612 - val_loss: 0.4222 - val_root_mean_squared_error: 0.6026\n",
      "Epoch 6/100\n",
      "1250/1250 [==============================] - 6s 5ms/step - loss: 0.4685 - root_mean_squared_error: 0.6569 - val_loss: 0.4142 - val_root_mean_squared_error: 0.5954\n",
      "Epoch 7/100\n",
      "1250/1250 [==============================] - 6s 5ms/step - loss: 0.4638 - root_mean_squared_error: 0.6524 - val_loss: 0.4261 - val_root_mean_squared_error: 0.6078\n",
      "Epoch 8/100\n",
      "1250/1250 [==============================] - 6s 5ms/step - loss: 0.4621 - root_mean_squared_error: 0.6509 - val_loss: 0.4236 - val_root_mean_squared_error: 0.6083\n",
      "Epoch 9/100\n",
      "1250/1250 [==============================] - 6s 5ms/step - loss: 0.4576 - root_mean_squared_error: 0.6455 - val_loss: 0.4105 - val_root_mean_squared_error: 0.5912\n",
      "Epoch 10/100\n",
      "1250/1250 [==============================] - 6s 5ms/step - loss: 0.4537 - root_mean_squared_error: 0.6414 - val_loss: 0.4073 - val_root_mean_squared_error: 0.5870\n",
      "Epoch 11/100\n",
      "1250/1250 [==============================] - 6s 5ms/step - loss: 0.4502 - root_mean_squared_error: 0.6367 - val_loss: 0.4144 - val_root_mean_squared_error: 0.5963\n",
      "Epoch 12/100\n",
      "1250/1250 [==============================] - 6s 5ms/step - loss: 0.4501 - root_mean_squared_error: 0.6372 - val_loss: 0.4121 - val_root_mean_squared_error: 0.5926\n",
      "Epoch 13/100\n",
      "1250/1250 [==============================] - 6s 5ms/step - loss: 0.4436 - root_mean_squared_error: 0.6298 - val_loss: 0.4119 - val_root_mean_squared_error: 0.5916\n",
      "Epoch 14/100\n",
      "1250/1250 [==============================] - 6s 5ms/step - loss: 0.4447 - root_mean_squared_error: 0.6298 - val_loss: 0.4177 - val_root_mean_squared_error: 0.5988\n",
      "Epoch 15/100\n",
      "1250/1250 [==============================] - 6s 5ms/step - loss: 0.4442 - root_mean_squared_error: 0.6309 - val_loss: 0.4119 - val_root_mean_squared_error: 0.5919\n",
      "Epoch 16/100\n",
      "1250/1250 [==============================] - 6s 5ms/step - loss: 0.4414 - root_mean_squared_error: 0.6272 - val_loss: 0.4079 - val_root_mean_squared_error: 0.5868\n",
      "Epoch 17/100\n",
      "1250/1250 [==============================] - 6s 5ms/step - loss: 0.4399 - root_mean_squared_error: 0.6258 - val_loss: 0.4062 - val_root_mean_squared_error: 0.5848\n",
      "Epoch 18/100\n",
      "1250/1250 [==============================] - 6s 5ms/step - loss: 0.4410 - root_mean_squared_error: 0.6274 - val_loss: 0.4031 - val_root_mean_squared_error: 0.5819\n",
      "Epoch 19/100\n",
      "1250/1250 [==============================] - 6s 5ms/step - loss: 0.4386 - root_mean_squared_error: 0.6247 - val_loss: 0.4052 - val_root_mean_squared_error: 0.5851\n",
      "Epoch 20/100\n",
      "1250/1250 [==============================] - 6s 5ms/step - loss: 0.4391 - root_mean_squared_error: 0.6246 - val_loss: 0.4052 - val_root_mean_squared_error: 0.5853\n",
      "Epoch 21/100\n",
      "1250/1250 [==============================] - 6s 5ms/step - loss: 0.4393 - root_mean_squared_error: 0.6243 - val_loss: 0.4076 - val_root_mean_squared_error: 0.5865\n",
      "Epoch 22/100\n",
      "1250/1250 [==============================] - 6s 5ms/step - loss: 0.4362 - root_mean_squared_error: 0.6215 - val_loss: 0.4056 - val_root_mean_squared_error: 0.5839\n",
      "Epoch 23/100\n",
      "1250/1250 [==============================] - 6s 5ms/step - loss: 0.4392 - root_mean_squared_error: 0.6253 - val_loss: 0.4036 - val_root_mean_squared_error: 0.5830\n",
      "Epoch 24/100\n",
      "1250/1250 [==============================] - 6s 5ms/step - loss: 0.4365 - root_mean_squared_error: 0.6235 - val_loss: 0.4046 - val_root_mean_squared_error: 0.5833\n",
      "Epoch 25/100\n",
      "1250/1250 [==============================] - 6s 5ms/step - loss: 0.4365 - root_mean_squared_error: 0.6228 - val_loss: 0.4138 - val_root_mean_squared_error: 0.5944\n",
      "Epoch 26/100\n",
      "1250/1250 [==============================] - 6s 5ms/step - loss: 0.4385 - root_mean_squared_error: 0.6235 - val_loss: 0.4056 - val_root_mean_squared_error: 0.5846\n",
      "Epoch 27/100\n",
      "1250/1250 [==============================] - 6s 5ms/step - loss: 0.4375 - root_mean_squared_error: 0.6241 - val_loss: 0.4034 - val_root_mean_squared_error: 0.5827\n",
      "Epoch 28/100\n",
      "1250/1250 [==============================] - 6s 5ms/step - loss: 0.4366 - root_mean_squared_error: 0.6225 - val_loss: 0.4037 - val_root_mean_squared_error: 0.5824\n",
      "Epoch 29/100\n",
      "1250/1250 [==============================] - 6s 5ms/step - loss: 0.4367 - root_mean_squared_error: 0.6236 - val_loss: 0.4064 - val_root_mean_squared_error: 0.5848\n",
      "Epoch 30/100\n",
      "1250/1250 [==============================] - 6s 5ms/step - loss: 0.4365 - root_mean_squared_error: 0.6241 - val_loss: 0.4024 - val_root_mean_squared_error: 0.5798\n",
      "Epoch 31/100\n",
      "1250/1250 [==============================] - 6s 5ms/step - loss: 0.4355 - root_mean_squared_error: 0.6219 - val_loss: 0.4059 - val_root_mean_squared_error: 0.5839\n",
      "Epoch 32/100\n",
      "1250/1250 [==============================] - 6s 5ms/step - loss: 0.4363 - root_mean_squared_error: 0.6231 - val_loss: 0.4015 - val_root_mean_squared_error: 0.5798\n",
      "Epoch 33/100\n",
      "1250/1250 [==============================] - 6s 5ms/step - loss: 0.4381 - root_mean_squared_error: 0.6233 - val_loss: 0.4038 - val_root_mean_squared_error: 0.5822\n",
      "Epoch 34/100\n",
      "1250/1250 [==============================] - 6s 5ms/step - loss: 0.4376 - root_mean_squared_error: 0.6239 - val_loss: 0.4059 - val_root_mean_squared_error: 0.5856\n",
      "Epoch 35/100\n",
      "1250/1250 [==============================] - 6s 5ms/step - loss: 0.4363 - root_mean_squared_error: 0.6227 - val_loss: 0.4050 - val_root_mean_squared_error: 0.5849\n",
      "Epoch 36/100\n",
      "1250/1250 [==============================] - 6s 5ms/step - loss: 0.4345 - root_mean_squared_error: 0.6221 - val_loss: 0.4035 - val_root_mean_squared_error: 0.5825\n",
      "Epoch 37/100\n",
      "1250/1250 [==============================] - 6s 5ms/step - loss: 0.4338 - root_mean_squared_error: 0.6192 - val_loss: 0.4053 - val_root_mean_squared_error: 0.5848\n",
      "Epoch 38/100\n",
      "1250/1250 [==============================] - 6s 5ms/step - loss: 0.4370 - root_mean_squared_error: 0.6230 - val_loss: 0.4030 - val_root_mean_squared_error: 0.5810\n",
      "Epoch 39/100\n",
      "1250/1250 [==============================] - 6s 5ms/step - loss: 0.4376 - root_mean_squared_error: 0.6252 - val_loss: 0.4113 - val_root_mean_squared_error: 0.5908\n",
      "Epoch 40/100\n",
      "1250/1250 [==============================] - 6s 5ms/step - loss: 0.4367 - root_mean_squared_error: 0.6225 - val_loss: 0.4069 - val_root_mean_squared_error: 0.5860\n",
      "Epoch 41/100\n",
      "1250/1250 [==============================] - 6s 5ms/step - loss: 0.4340 - root_mean_squared_error: 0.6200 - val_loss: 0.4027 - val_root_mean_squared_error: 0.5813\n",
      "Epoch 42/100\n",
      "1250/1250 [==============================] - 6s 5ms/step - loss: 0.4363 - root_mean_squared_error: 0.6226 - val_loss: 0.4111 - val_root_mean_squared_error: 0.5906\n",
      "313/313 [==============================] - 1s 2ms/step\n",
      "R-squared Score on Validation Data: 0.6566132307052612\n"
     ]
    }
   ],
   "source": [
    "# Convert all columns in X and y to float32\n",
    "X = df.drop(columns=['price']).astype('float32')\n",
    "y = df['price'].astype('float32')\n",
    "X_train, X_test, y_train, y_test = train_test_split(X, y, test_size=0.2, random_state=35)\n",
    "\n",
    "rmse = RootMeanSquaredError()\n",
    "model = Sequential()\n",
    "model.add(layers.Dense(units=50, input_dim=X_train.shape[1], activation='relu'))\n",
    "model.add(layers.BatchNormalization())\n",
    "model.add(layers.Dropout(0.2))\n",
    "model.add(layers.Dense(units=100, activation='relu'))\n",
    "model.add(layers.BatchNormalization())\n",
    "model.add(layers.Dropout(0.2))\n",
    "model.add(layers.Dense(units=100, activation='relu'))\n",
    "model.add(layers.BatchNormalization())\n",
    "model.add(layers.Dropout(0.2))\n",
    "model.add(layers.Dense(units=1000, activation='relu'))\n",
    "model.add(layers.BatchNormalization())\n",
    "model.add(layers.Dropout(0.2))\n",
    "model.add(layers.Dense(1))\n",
    "\n",
    "# Compile the model\n",
    "model.compile(optimizer='adam', loss='mean_absolute_error', metrics=[rmse])\n",
    "\n",
    "# Define callback\n",
    "my_callbacks = [\n",
    "    keras.callbacks.EarlyStopping(patience=10, restore_best_weights=True, start_from_epoch=30),\n",
    "]\n",
    "history = model.fit(X_train, y_train, epochs=100, validation_data=(X_test, y_test), callbacks=my_callbacks)\n",
    "\n",
    "history_df = pd.DataFrame(history.history)\n",
    "\n",
    "# Predict on the validation data\n",
    "y_pred = model.predict(X_test)\n",
    "r2 = r2_score(y_test, y_pred)\n",
    "\n",
    "# Decode (inverse transform) y_test and y_pred for 'price' only using the original scale and mean for 'price'\n",
    "price_index = cols_to_scale.index('price')\n",
    "y_test_original = (y_test * scaler.scale_[price_index]) + scaler.mean_[price_index]\n",
    "y_pred_original = (y_pred * scaler.scale_[price_index]) + scaler.mean_[price_index]\n",
    "\n",
    "# Transform predictions back from log scale\n",
    "y_pred_original = 10 ** y_pred_original\n",
    "y_test_original = 10 ** y_test_original\n",
    "\n",
    "# Calculate RMSE for the current fold\n",
    "mse = mean_squared_error(y_test_original, y_pred_original)\n",
    "rmse = np.sqrt(mse)\n",
    "\n",
    "print(\"R-squared Score on Validation Data:\", r2)\n"
   ]
  },
  {
   "cell_type": "markdown",
   "metadata": {
    "id": "zIb2kRr22qas"
   },
   "source": [
    "### R-squared Score Explanation:\n",
    "- **R-squared Score**: 0.6566 on the validation data.\n",
    "- **Interpretation**: This score means that approximately 65.6% of the variance in the target variable (e.g., price) can be explained by the model on the validation data.\n",
    "- **Significance**: An R-squared value between 0 and 1 indicates that the model has captured a reasonable amount of the variability in the data but still leaves room for improvement.\n"
   ]
  },
  {
   "cell_type": "markdown",
   "metadata": {
    "id": "OXLeVaIb217k"
   },
   "source": [
    "### Model Architecture Explanation\n",
    "- **Dynamic Dense Layers**: The model dynamically adjusts the number of hidden layers from 8 up to 15 to find the best performance. Each hidden layer has 64 neurons with ReLU activation.\n",
    "- **Output Layer**: A single neuron with linear activation for continuous output (price prediction).\n",
    "- **Early Stopping**: Stops training if validation loss doesn’t improve for 5 epochs, restoring the best weights.\n",
    "- **Optimization**: Trained with Adam optimizer (learning rate = 0.001) and mean squared error (MSE) as the loss function.\n",
    "- **Goal**: Finds the best layer configuration based on highest R-squared on validation data.\n"
   ]
  },
  {
   "cell_type": "code",
   "execution_count": null,
   "metadata": {
    "colab": {
     "base_uri": "https://localhost:8080/"
    },
    "id": "TCPad4yXBLP3",
    "outputId": "7cdc6b4e-891e-4a94-dcf4-cd375c75740c"
   },
   "outputs": [
    {
     "name": "stdout",
     "output_type": "stream",
     "text": [
      "313/313 [==============================] - 1s 1ms/step\n",
      "313/313 [==============================] - 1s 1ms/step\n",
      "313/313 [==============================] - 1s 1ms/step\n",
      "313/313 [==============================] - 1s 1ms/step\n",
      "313/313 [==============================] - 1s 1ms/step\n",
      "313/313 [==============================] - 1s 1ms/step\n",
      "Best model has 10 layers with R-squared: 0.6524417400360107\n",
      "313/313 [==============================] - 0s 1ms/step\n",
      "Root Mean Squared Error on Test Set: 48010.848\n",
      "R-squared Score on Test Set: 0.6524417400360107\n",
      "       Actual Price  Predicted Price\n",
      "31769  22389.001953     47404.429688\n",
      "27105   8249.998047      7569.163086\n",
      "22278  13700.002930     20392.708984\n",
      "5822    4899.999512      9811.651367\n"
     ]
    }
   ],
   "source": [
    "# Convert all columns in X and y to float32\n",
    "X = df.drop(columns=['price']).astype('float32')\n",
    "y = df['price'].astype('float32')\n",
    "X_train, X_test, y_train, y_test = train_test_split(X, y, test_size=0.2, random_state=35)\n",
    "\n",
    "# Dynamic model adjustment parameters\n",
    "best_r2 = -np.inf\n",
    "best_model = None\n",
    "best_layers = 0\n",
    "max_layers = 15  # Maximum number of layers to test\n",
    "patience = 5  # Early stopping patience\n",
    "learning_rate = 0.001\n",
    "\n",
    "for num_layers in range(10, max_layers + 1):\n",
    "    # Create a new model for each layer count\n",
    "    model = Sequential()\n",
    "\n",
    "    # Input layer\n",
    "    model.add(Dense(64, input_dim=X_train.shape[1], activation='relu'))\n",
    "\n",
    "    # Adding hidden layers dynamically based on current `num_layers`\n",
    "    for _ in range(num_layers - 2):\n",
    "        model.add(Dense(64, activation='relu'))\n",
    "\n",
    "    # Output layer\n",
    "    model.add(Dense(1, activation='linear'))\n",
    "\n",
    "    # Compile the model\n",
    "    model.compile(optimizer=Adam(learning_rate=learning_rate), loss='mse', metrics=['mse'])\n",
    "\n",
    "    # Train the model with early stopping\n",
    "    early_stopping = EarlyStopping(monitor='val_loss', patience=patience, restore_best_weights=True)\n",
    "    model.fit(X_train, y_train, validation_split=0.2, epochs=100, batch_size=32, callbacks=[early_stopping], verbose=0)\n",
    "\n",
    "    # Evaluate on the test set\n",
    "    y_pred = model.predict(X_test).flatten()\n",
    "    current_r2 = r2_score(y_test, y_pred)\n",
    "\n",
    "    # Check if this model has the best R² score so far\n",
    "    if current_r2 > best_r2:\n",
    "        best_r2 = current_r2\n",
    "        best_model = model\n",
    "        best_layers = num_layers\n",
    "    else:\n",
    "        continue\n",
    "        # Stop if additional layers do not improve the R² score\n",
    "        # break\n",
    "\n",
    "# Display results of the best model\n",
    "print(f\"Best model has {best_layers} layers with R-squared: {best_r2}\")\n",
    "\n",
    "# Make predictions with the best model and evaluate\n",
    "y_test_pred = best_model.predict(X_test).flatten()\n",
    "r2 = r2_score(y_test, y_test_pred)\n",
    "\n",
    "\n",
    "# Decode (inverse transform) y_test and y_pred for 'price' only using the original scale and mean for 'price'\n",
    "price_index = cols_to_scale.index('price')\n",
    "\n",
    "y_test_original = (y_test * scaler.scale_[price_index]) + scaler.mean_[price_index]\n",
    "y_pred_original = (y_test_pred * scaler.scale_[price_index]) + scaler.mean_[price_index]\n",
    "\n",
    "y_pred_original=10**y_pred_original\n",
    "y_test_original=10**y_test_original\n",
    "\n",
    "# Now, calculate RMSE and R^2 on the original scale\n",
    "mse = mean_squared_error(y_test_original, y_pred_original)\n",
    "rmse = np.sqrt(mse)\n",
    "\n",
    "print(\"Root Mean Squared Error on Test Set:\", np.sqrt(mse))\n",
    "print(\"R-squared Score on Test Set:\", r2)\n",
    "\n",
    "\n",
    "# Compare the predicted and actual prices\n",
    "comparison_df = pd.DataFrame({'Actual Price': y_test_original, 'Predicted Price': y_pred_original})\n",
    "print(comparison_df.iloc[1:5])\n"
   ]
  },
  {
   "cell_type": "markdown",
   "metadata": {
    "id": "Vnfg-Pwk4lLA"
   },
   "source": [
    "### Model Performance\n",
    "\n",
    "- **Root Mean Squared Error (RMSE)**: 48010.84, which means on average, the model's predictions differ from the actual prices by approximately 49,068 units. A lower RMSE value indicates better model accuracy.\n",
    "\n",
    "- **R-squared Score**: 0.6524, meaning the model explains 65.24% of the variance in the target variable (price). This suggests a good fit, but there is still room for improvement as the model doesn't capture all the variability in the data.\n",
    "\n"
   ]
  },
  {
   "cell_type": "markdown",
   "metadata": {
    "id": "Ku3PAPZx5P3N"
   },
   "source": [
    "### Model Explanation\n",
    "- **CatBoostRegressor**: A gradient boosting model designed for efficient handling of categorical features. It does not require manual encoding of categorical features, which simplifies the preprocessing step.\n",
    "  \n",
    "- **Categorical Features Handling**: Identifies features of object or category type (categorical) and uses them directly in the CatBoost model, which internally encodes them efficiently.\n",
    "  \n",
    "- **CatBoost Pool**: A specialized data structure in CatBoost that allows direct handling of categorical features, making training faster and more efficient.\n",
    "\n",
    "- **Hyperparameters**:\n",
    "  - `iterations=2000`: Number of boosting iterations (trees built).\n",
    "  - `learning_rate=0.01`: A small learning rate for slower, steady improvements.\n",
    "  - `depth=9`: Depth of each individual decision tree.\n",
    "  - `l2_leaf_reg=1`: Regularization to prevent overfitting.\n",
    "  - `eval_metric='RMSE'`: Evaluation metric used during training.\n",
    "  - `early_stopping_rounds=10000`: Stops training early if no improvement is seen over the specified rounds.\n"
   ]
  },
  {
   "cell_type": "code",
   "execution_count": null,
   "metadata": {
    "colab": {
     "base_uri": "https://localhost:8080/"
    },
    "id": "JcpYrt1uXkSx",
    "outputId": "1b9ae203-20a3-4d97-cf5c-4e80c74aefaa"
   },
   "outputs": [
    {
     "name": "stdout",
     "output_type": "stream",
     "text": [
      "0:\tlearn: 0.9965455\ttest: 0.9833799\tbest: 0.9833799 (0)\ttotal: 11ms\tremaining: 22.1s\n",
      "500:\tlearn: 0.5703336\ttest: 0.5758303\tbest: 0.5758303 (500)\ttotal: 3.88s\tremaining: 11.6s\n",
      "1000:\tlearn: 0.5543133\ttest: 0.5735538\tbest: 0.5735538 (1000)\ttotal: 7.65s\tremaining: 7.63s\n",
      "1500:\tlearn: 0.5399042\ttest: 0.5730092\tbest: 0.5729604 (1468)\ttotal: 11.6s\tremaining: 3.85s\n",
      "1999:\tlearn: 0.5268269\ttest: 0.5732036\tbest: 0.5729604 (1468)\ttotal: 15.5s\tremaining: 0us\n",
      "\n",
      "bestTest = 0.5729603512\n",
      "bestIteration = 1468\n",
      "\n",
      "Shrink model to first 1469 iterations.\n",
      "Root Mean Squared Error: 48121.05265933383\n",
      "R-squared Score: 0.6646855459892694\n",
      "       Actual Price  Predicted Price\n",
      "31769  22389.001953     42995.865662\n",
      "27105   8249.998047      6914.133418\n",
      "22278  13700.002930     21204.495230\n",
      "5822    4899.999512      8729.170609\n"
     ]
    }
   ],
   "source": [
    "# Convert all columns in X and y to float32\n",
    "X = df.drop(columns=['price']).astype('float32')\n",
    "y = df['price'].astype('float32')\n",
    "X_train, X_test, y_train, y_test = train_test_split(X, y, test_size=0.2, random_state=35)\n",
    "\n",
    "categorical_features = X.select_dtypes(include=['object', 'category']).columns.tolist()\n",
    "# Initialize and Train the CatBoostRegressor Model\n",
    "# Creating CatBoost Pool for better handling of categorical features\n",
    "train_pool = Pool(data=X_train, label=y_train, cat_features=categorical_features)\n",
    "test_pool = Pool(data=X_test, label=y_test, cat_features=categorical_features)\n",
    "\n",
    "# Initialize the CatBoostRegressor with some common parameters\n",
    "model = CatBoostRegressor(\n",
    "    iterations=2000,          # Number of boosting iterations\n",
    "    learning_rate=0.01,       # Step size shrinkage to prevent overfitting\n",
    "    depth=9,                  # Depth of the trees\n",
    "    l2_leaf_reg=1,            # L2 regularization to prevent overfitting\n",
    "    eval_metric='RMSE',       # Evaluation metric (Root Mean Squared Error)\n",
    "    verbose=500,            # Print training progress every 100 iterations\n",
    "    random_seed=42,\n",
    "    early_stopping_rounds=10000  # Stop training if there's no improvement\n",
    ")\n",
    "\n",
    "# Fit the model on the training data\n",
    "model.fit(train_pool, eval_set=test_pool, use_best_model=True)\n",
    "\n",
    "# Step 3: Predict and Evaluate the Model\n",
    "# Predict prices on the test data\n",
    "y_pred = model.predict(X_test)\n",
    "r2 = r2_score(y_test, y_pred)\n",
    "\n",
    "price_index = cols_to_scale.index('price')\n",
    "\n",
    "# Decode (inverse transform) y_test and y_pred for 'price' only using the original scale and mean for 'price'\n",
    "y_test_original = (y_test * scaler.scale_[price_index]) + scaler.mean_[price_index]\n",
    "y_pred_original = (y_pred * scaler.scale_[price_index]) + scaler.mean_[price_index]\n",
    "\n",
    "y_pred_original=10**y_pred_original\n",
    "y_test_original=10**y_test_original\n",
    "\n",
    "# Now, calculate RMSE on the original scale\n",
    "mse = mean_squared_error(y_test_original, y_pred_original)\n",
    "rmse = np.sqrt(mse)\n",
    "\n",
    "print(\"Root Mean Squared Error:\", rmse)\n",
    "print(\"R-squared Score:\", r2)\n",
    "\n",
    "# Compare the predicted and actual prices\n",
    "comparison_df = pd.DataFrame({'Actual Price': y_test_original, 'Predicted Price': y_pred_original})\n",
    "print(comparison_df.iloc[1:5])\n"
   ]
  },
  {
   "cell_type": "markdown",
   "metadata": {
    "id": "9tWkuP47KftP"
   },
   "source": [
    "### Model Performance Explanation\n",
    "- **Root Mean Squared Error (RMSE):** 48,121.05\n",
    "This means, on average, the model's predictions differ from the actual prices by approximately 48,121 units. A lower RMSE indicates higher accuracy, and this value shows the model's predictions are reasonably close to the actual values.\n",
    "\n",
    "- **R-squared Score:** 0.6647\n",
    "This means the model explains 66.47% of the variance in the target variable (price). While the model captures a significant portion of the variability, there is still some unexplained variation, indicating room for further improvement."
   ]
  },
  {
   "cell_type": "markdown",
   "metadata": {
    "id": "QPBxzLg251MO"
   },
   "source": [
    "### Model Explanation\n",
    "\n",
    "- **GradientBoostingRegressor**: A powerful ensemble model based on boosting. It builds multiple decision trees one after another, with each tree correcting the errors of the previous one. It is particularly good for handling non-linear relationships in regression tasks.\n",
    "\n",
    "- **Random Seed**: The model is initialized with a `random_state=42` for reproducibility, ensuring that the results are consistent across different runs.\n",
    "\n",
    "\n"
   ]
  },
  {
   "cell_type": "code",
   "execution_count": null,
   "metadata": {
    "colab": {
     "base_uri": "https://localhost:8080/"
    },
    "id": "YQTWe7MjjDll",
    "outputId": "530ed44f-aa99-4801-bd10-b28c53c7ebb9"
   },
   "outputs": [
    {
     "name": "stdout",
     "output_type": "stream",
     "text": [
      "Root Mean Squared Error: 51361.57848955777\n",
      "R-squared Score: 0.6738833216665119\n",
      "       Actual Price  Predicted Price\n",
      "11939   9449.997070      9297.273891\n",
      "13314  65899.984375     38110.371598\n",
      "13032  43998.984375     42039.847304\n",
      "14729  86899.984375     77725.732555\n"
     ]
    }
   ],
   "source": [
    "# Convert all columns in X and y to float32\n",
    "X = df.drop(columns=['price']).astype('float32')\n",
    "y = df['price'].astype('float32')\n",
    "X_train, X_test, y_train, y_test = train_test_split(X, y, test_size=0.2, random_state=33)\n",
    "\n",
    "model = GradientBoostingRegressor(random_state=42)\n",
    "# Train the model on the training data\n",
    "model.fit(X_train, y_train)\n",
    "\n",
    "# Predict prices on the test data\n",
    "y_pred = model.predict(X_test)\n",
    "r2 = r2_score(y_test, y_pred)\n",
    "\n",
    "\n",
    "# Decode (inverse transform) y_test and y_pred for 'price' only using the original scale and mean for 'price'\n",
    "price_index = cols_to_scale.index('price')\n",
    "\n",
    "y_test_original = (y_test * scaler.scale_[price_index]) + scaler.mean_[price_index]\n",
    "y_pred_original = (y_pred * scaler.scale_[price_index]) + scaler.mean_[price_index]\n",
    "\n",
    "y_pred_original=10**y_pred_original\n",
    "y_test_original=10**y_test_original\n",
    "\n",
    "# Now, calculate RMSE and R^2 on the original scale\n",
    "mse = mean_squared_error(y_test_original, y_pred_original)\n",
    "rmse = np.sqrt(mse)\n",
    "# r2 = r2_score(y_test_original, y_pred_original)\n",
    "\n",
    "print(\"Root Mean Squared Error:\", rmse)\n",
    "print(\"R-squared Score:\", r2)\n",
    "\n",
    "# Compare the predicted and actual prices\n",
    "comparison_df = pd.DataFrame({'Actual Price': y_test_original, 'Predicted Price': y_pred_original})\n",
    "print(comparison_df.iloc[1:5])"
   ]
  },
  {
   "cell_type": "markdown",
   "metadata": {
    "id": "kYpouUpE7uer"
   },
   "source": [
    "### Model Performance\n",
    "\n",
    "- **Root Mean Squared Error (RMSE)**: 51,361.07, indicating that, on average, the model's predictions deviate from the actual prices by approximately 51,361 units. A lower RMSE suggests better model accuracy, but this value still reflects substantial error.\n",
    "\n",
    "- **R-squared Score**: 0.6739, meaning the model explains 67.39% of the variance in the target variable (price). This shows a decent fit, with the model explaining a good portion of the variability in the data.\n"
   ]
  },
  {
   "cell_type": "markdown",
   "metadata": {
    "id": "7j0yUcpT71wa"
   },
   "source": [
    "### Model: XGBRegressor\n",
    "\n",
    "- **Objective**: `reg:squarederror` indicates the model uses squared error for regression tasks.\n",
    "\n",
    "- **Model Description**:\n",
    "  - The `XGBRegressor` is an implementation of gradient boosting designed for regression tasks.\n",
    "  - It builds an ensemble of trees sequentially, with each tree trying to correct the errors of the previous one. This helps in improving the predictive performance.\n",
    "\n"
   ]
  },
  {
   "cell_type": "code",
   "execution_count": null,
   "metadata": {
    "colab": {
     "base_uri": "https://localhost:8080/"
    },
    "id": "svzznyEePxHC",
    "outputId": "d74ff972-40f4-4fe5-b422-f9d042666f5e"
   },
   "outputs": [
    {
     "name": "stdout",
     "output_type": "stream",
     "text": [
      "Root Mean Squared Error: 48275.637\n",
      "R-squared Score: 0.6505571603775024\n",
      "       Actual Price  Predicted Price\n",
      "31769  22389.001953     37452.316406\n",
      "27105   8249.998047      7554.517578\n",
      "22278  13700.002930     23924.261719\n",
      "5822    4899.999512      7297.818359\n"
     ]
    }
   ],
   "source": [
    "# Convert all columns in X and y to float32\n",
    "X = df.drop(columns=['price']).astype('float32')\n",
    "y = df['price'].astype('float32')\n",
    "X_train, X_test, y_train, y_test = train_test_split(X, y, test_size=0.2, random_state=35)\n",
    "\n",
    "model = XGBRegressor(objective='reg:squarederror')\n",
    "# Train the model on the training data\n",
    "model.fit(X_train, y_train)\n",
    "\n",
    "# Predict prices on the test data\n",
    "y_pred = model.predict(X_test)\n",
    "r2 = r2_score(y_test, y_pred)\n",
    "\n",
    "# Decode (inverse transform) y_test and y_pred for 'price' only using the original scale and mean for 'price'\n",
    "price_index = cols_to_scale.index('price')\n",
    "\n",
    "y_test_original = (y_test * scaler.scale_[price_index]) + scaler.mean_[price_index]\n",
    "y_pred_original = (y_pred * scaler.scale_[price_index]) + scaler.mean_[price_index]\n",
    "\n",
    "y_pred_original=10**y_pred_original\n",
    "y_test_original=10**y_test_original\n",
    "\n",
    "# Now, calculate RMSE and R^2 on the original scale\n",
    "mse = mean_squared_error(y_test_original, y_pred_original)\n",
    "rmse = np.sqrt(mse)\n",
    "# r2 = r2_score(y_test_original, y_pred_original)\n",
    "\n",
    "print(\"Root Mean Squared Error:\", rmse)\n",
    "print(\"R-squared Score:\", r2)\n",
    "\n",
    "# Compare the predicted and actual prices\n",
    "comparison_df = pd.DataFrame({'Actual Price': y_test_original, 'Predicted Price': y_pred_original})\n",
    "print(comparison_df.iloc[1:5])"
   ]
  },
  {
   "cell_type": "markdown",
   "metadata": {
    "id": "x7uUyUp47-4u"
   },
   "source": [
    "### Model Performance\n",
    "\n",
    "- **Root Mean Squared Error (RMSE)**: 48275.63\n",
    "  - The model's predictions differ from the actual values by an average of around 48275.63 units.\n",
    "\n",
    "- **R-squared Score**: 0.6505  \n",
    "  - The model explains approximately 65.05% of the variance in the data, indicating a moderate fit.\n"
   ]
  },
  {
   "cell_type": "markdown",
   "metadata": {
    "id": "dMVjG77U8ajC"
   },
   "source": [
    "### **Model: K-Nearest Neighbors Regression (KNN)**\n",
    "-  **KNN (K-Nearest Neighbors)**: A simple machine learning model that predicts the value of a data point based on the average of its 'K' nearest neighbors in the feature space. The model uses a **Manhattan distance metric** to measure similarity.\n",
    "  \n",
    "- **Purpose**: Predicts the target variable by averaging the values of the `k` nearest neighbors based on a distance metric.\n",
    "- **Distance Metric**: **Manhattan distance** is used to compute the distance between points.\n"
   ]
  },
  {
   "cell_type": "code",
   "execution_count": null,
   "metadata": {
    "colab": {
     "base_uri": "https://localhost:8080/"
    },
    "id": "UkkZYg9yYv4j",
    "outputId": "d894177b-775b-4eac-f7fd-dcd88aee951d"
   },
   "outputs": [
    {
     "name": "stdout",
     "output_type": "stream",
     "text": [
      "Root Mean Squared Error: 51953.613\n",
      "R-squared Score: 0.654466986656189\n",
      "       Actual Price  Predicted Price\n",
      "11939   9449.997070      9939.156250\n",
      "13314  65899.984375     38379.878906\n",
      "13032  43998.980469     53502.199219\n",
      "14729  86899.984375     69561.523438\n"
     ]
    }
   ],
   "source": [
    "# Convert all columns in X and y to float32\n",
    "X = df.drop(columns=['price']).astype('float32')\n",
    "y = df['price'].astype('float32')\n",
    "X_train, X_test, y_train, y_test = train_test_split(X, y, test_size=0.2, random_state=33)\n",
    "\n",
    "# Initialize the KNN model with a chosen number of neighbors, e.g., 5\n",
    "knn_model = KNeighborsRegressor(n_neighbors=55,metric='euclidean')\n",
    "\n",
    "# Train the model on the training data\n",
    "knn_model.fit(X_train, y_train)\n",
    "\n",
    "# Predict prices on the test data\n",
    "y_pred = knn_model.predict(X_test)\n",
    "\n",
    "r2 = r2_score(y_test, y_pred)\n",
    "# Decode (inverse transform) y_test and y_pred for 'price' only using the original scale and mean for 'price'\n",
    "price_index = cols_to_scale.index('price')\n",
    "\n",
    "y_test_original = (y_test * scaler.scale_[price_index]) + scaler.mean_[price_index]\n",
    "y_pred_original = (y_pred * scaler.scale_[price_index]) + scaler.mean_[price_index]\n",
    "\n",
    "# Apply exponential transformation if needed\n",
    "y_pred_original = 10**y_pred_original\n",
    "y_test_original = 10**y_test_original\n",
    "\n",
    "# Calculate RMSE and R^2 on the original scale\n",
    "mse = mean_squared_error(y_test_original, y_pred_original)\n",
    "rmse = np.sqrt(mse)\n",
    "\n",
    "print(\"Root Mean Squared Error:\", rmse)\n",
    "print(\"R-squared Score:\", r2)\n",
    "\n",
    "# Compare the predicted and actual prices\n",
    "comparison_df = pd.DataFrame({'Actual Price': y_test_original, 'Predicted Price': y_pred_original})\n",
    "print(comparison_df.iloc[1:5])\n"
   ]
  },
  {
   "cell_type": "markdown",
   "metadata": {
    "id": "oHizT1X38o6g"
   },
   "source": [
    "### **Model Performance**\n",
    "- **Root Mean Squared Error (RMSE)**: 51953.61 - The model's predictions deviate from the actual values by an average of approximately 51953.61 units.\n",
    "- **R-squared Score**: 0.654 - The model explains around 65.44% of the variance in the target variable, suggesting a moderate fit.\n"
   ]
  },
  {
   "cell_type": "markdown",
   "metadata": {
    "id": "O8s6I5wj9vG0"
   },
   "source": [
    "### **Model Explanation**\n",
    "- **Polynomial Features**: Generates higher-degree features based on the original features to capture nonlinear relationships in the data. Here, a polynomial degree of 2 is used.\n",
    "- **Ridge Regression**: A linear regression technique that incorporates L2 regularization to prevent overfitting by penalizing large coefficients."
   ]
  },
  {
   "cell_type": "code",
   "execution_count": null,
   "metadata": {
    "colab": {
     "base_uri": "https://localhost:8080/"
    },
    "id": "n9uArCmddWa9",
    "outputId": "82a6ae95-e998-46b0-e3d1-3c2de07e78d9"
   },
   "outputs": [
    {
     "name": "stdout",
     "output_type": "stream",
     "text": [
      "Root Mean Squared Error: inf\n",
      "R-squared Score: 0.13728821277618408\n",
      "       Actual Price  Predicted Price\n",
      "11939   9449.997070      9612.096680\n",
      "13314  65899.984375     38026.656250\n",
      "13032  43998.980469     56652.753906\n",
      "14729  86899.984375     82021.921875\n"
     ]
    }
   ],
   "source": [
    "# Convert all columns in X and y to float32\n",
    "X = df.drop(columns=['price']).astype('float32')\n",
    "y = df['price'].astype('float32')\n",
    "X_train, X_test, y_train, y_test = train_test_split(X, y, test_size=0.2, random_state=33)\n",
    "\n",
    "# Set up polynomial features and Ridge regression\n",
    "poly = PolynomialFeatures(degree=2)\n",
    "X_train_poly = poly.fit_transform(X_train)\n",
    "X_test_poly = poly.transform(X_test)\n",
    "\n",
    "ridge_model = Ridge(alpha=1.0)  # Regularization strength, adjust as needed\n",
    "ridge_model.fit(X_train_poly, y_train)\n",
    "\n",
    "# Predict prices on the test data\n",
    "y_pred = ridge_model.predict(X_test_poly)\n",
    "\n",
    "# Decode (inverse transform) y_test and y_pred for 'price' only using the original scale and mean for 'price'\n",
    "price_index = cols_to_scale.index('price')\n",
    "\n",
    "y_test_original = (y_test * scaler.scale_[price_index]) + scaler.mean_[price_index]\n",
    "y_pred_original = (y_pred * scaler.scale_[price_index]) + scaler.mean_[price_index]\n",
    "\n",
    "# Apply exponential transformation if needed\n",
    "y_pred_original = 10**y_pred_original\n",
    "y_test_original = 10**y_test_original\n",
    "\n",
    "# Calculate RMSE and R^2 on the original scale\n",
    "mse = mean_squared_error(y_test_original, y_pred_original)\n",
    "rmse = np.sqrt(mse)\n",
    "r2 = r2_score(y_test, y_pred)\n",
    "\n",
    "print(\"Root Mean Squared Error:\", rmse)\n",
    "print(\"R-squared Score:\", r2)\n",
    "\n",
    "# Compare the predicted and actual prices\n",
    "comparison_df = pd.DataFrame({'Actual Price': y_test_original, 'Predicted Price': y_pred_original})\n",
    "print(comparison_df.iloc[1:5])\n"
   ]
  },
  {
   "cell_type": "markdown",
   "metadata": {
    "id": "yL5S1rAj901P"
   },
   "source": [
    "### **Model Performance Explanation**\n",
    "- **Root Mean Squared Error (RMSE)**: The extremely high value (inf) indicates that the model's predictions are vastly different from the actual values, suggesting poor model performance.\n",
    "- **R-squared Score**: The low value (0.137) indicates that only 13.72% of the variance in the data is explained by the model, further confirming the model's inability to capture the underlying patterns effectively.\n"
   ]
  },
  {
   "cell_type": "markdown",
   "metadata": {
    "id": "agQDcTdW99zG"
   },
   "source": [
    "\n",
    "### **Stacked Model Explanation**\n",
    "1. **Base Learners**:\n",
    "   - **Decision Tree Regressor**: A non-linear model that splits the data based on feature values to predict outcomes.\n",
    "   - **Linear Regression**: A linear model that predicts a target variable based on the linear relationship between input features.\n",
    "   - **Ridge Regression**: A regularized version of linear regression that penalizes large coefficients to avoid overfitting.\n",
    "\n",
    "2. **Intermediate Model**:\n",
    "   - **Random Forest Regressor**: An ensemble method that builds multiple decision trees and averages their predictions for better accuracy and generalization.\n",
    "\n",
    "3. **Meta Model**:\n",
    "   - **Gradient Boosting Regressor**: A boosting algorithm that builds models sequentially, where each new model corrects the errors of the previous ones.\n",
    "\n",
    "4. **Stacking**: The predictions from the base learners are used as features for the meta-model, creating a more robust model by leveraging the strengths of each base model.\n",
    "\n",
    "5. **Cross-Validation**: The model is evaluated using k-fold cross-validation, which helps to assess its performance across different subsets of the data, reducing overfitting risks.\n"
   ]
  },
  {
   "cell_type": "code",
   "execution_count": null,
   "metadata": {
    "colab": {
     "base_uri": "https://localhost:8080/"
    },
    "id": "FdEaUu1nNDns",
    "outputId": "50d2dd18-a2ac-4dca-8ebc-5789d93c63bc"
   },
   "outputs": [
    {
     "name": "stdout",
     "output_type": "stream",
     "text": [
      "Average Root Mean Squared Error across folds: 67307.11767203422\n",
      "Average R-squared Score across folds: 0.6543665319194508\n"
     ]
    }
   ],
   "source": [
    "# Convert all columns in X and y to float32\n",
    "X = df.drop(columns=['price']).astype('float32')\n",
    "y = df['price'].astype('float32')\n",
    "X_train, X_test, y_train, y_test = train_test_split(X, y, test_size=0.2, random_state=33)\n",
    "\n",
    "# Define base-level models\n",
    "base_learners = [\n",
    "    ('decision_tree', DecisionTreeRegressor()),\n",
    "    ('linear', LinearRegression()),\n",
    "    ('ridge', Ridge())\n",
    "]\n",
    "\n",
    "# Intermediate level model (you can add more if needed)\n",
    "intermediate_model = RandomForestRegressor()\n",
    "\n",
    "# Meta model for stacking\n",
    "meta_model = GradientBoostingRegressor()\n",
    "\n",
    "# Define the stacked model\n",
    "stacked_model = StackingRegressor(\n",
    "    estimators=base_learners,\n",
    "    final_estimator=meta_model,\n",
    "    passthrough=True  # Pass the original features along with predictions from base models\n",
    ")\n",
    "\n",
    "# Initialize k-fold cross-validation\n",
    "k = 5\n",
    "kf = KFold(n_splits=k, shuffle=True, random_state=33)\n",
    "rmse_list = []\n",
    "r2_list = []\n",
    "\n",
    "# Loop over each fold\n",
    "for train_index, test_index in kf.split(X):\n",
    "    X_train, X_test = X.iloc[train_index], X.iloc[test_index]\n",
    "    y_train, y_test = y.iloc[train_index], y.iloc[test_index]\n",
    "\n",
    "    # Train the stacked model\n",
    "    stacked_model.fit(X_train, y_train)\n",
    "\n",
    "    # Predict on the test data\n",
    "    y_pred = stacked_model.predict(X_test)\n",
    "\n",
    "    # Decode (inverse transform) y_test and y_pred for 'price' using the original scale and mean for 'price'\n",
    "    price_index = cols_to_scale.index('price')\n",
    "    y_test_original = (y_test * scaler.scale_[price_index]) + scaler.mean_[price_index]\n",
    "    y_pred_original = (y_pred * scaler.scale_[price_index]) + scaler.mean_[price_index]\n",
    "\n",
    "    # Transform predictions back from log scale\n",
    "    y_pred_original = 10 ** y_pred_original\n",
    "    y_test_original = 10 ** y_test_original\n",
    "\n",
    "    # Calculate RMSE and R² for the current fold\n",
    "    mse = mean_squared_error(y_test_original, y_pred_original)\n",
    "    rmse = np.sqrt(mse)\n",
    "    r2 = r2_score(y_test, y_pred)\n",
    "\n",
    "    # Append the results for each fold\n",
    "    rmse_list.append(rmse)\n",
    "    r2_list.append(r2)\n",
    "\n",
    "# Calculate the average RMSE and R² over all folds\n",
    "average_rmse = np.mean(rmse_list)\n",
    "average_r2 = np.mean(r2_list)\n",
    "\n",
    "print(\"Average Root Mean Squared Error across folds:\", average_rmse)\n",
    "print(\"Average R-squared Score across folds:\", average_r2)\n"
   ]
  },
  {
   "cell_type": "markdown",
   "metadata": {
    "id": "cFRJpYm--EK8"
   },
   "source": [
    "### **Model Performance Evaluation**\n",
    "- **Average Root Mean Squared Error (RMSE)**: 67307.11\n",
    "  - This indicates that on average, the model's predictions are off by approximately 67307 units, reflecting the magnitude of the prediction errors.\n",
    "  \n",
    "- **Average R-squared Score (R²)**: 0.6543\n",
    "  - This means the model explains about 65.43% of the variance in the target variable, which shows a decent fit, but there is still room for improvement.\n",
    "\n",
    "These metrics suggest the model is performing moderately well, with a reasonable level of error and a good explanation of the target's variance, though it may benefit from further tuning or add\n"
   ]
  },
  {
   "cell_type": "markdown",
   "metadata": {
    "id": "6ffrFnSBSzeA"
   },
   "source": [
    "# **Stacking Regression with Cross-Validation**\n",
    "\n",
    "### **Steps**\n",
    "1. **Data Preparation**: Convert features (`X`) and target (`y`) to `float32`, split data (80-20 train-test split).\n",
    "2. **Base Models**:\n",
    "   - DecisionTreeRegressor (non-linear patterns)\n",
    "   - LinearRegression (linear patterns)\n",
    "   - Ridge (regularized linear model)\n",
    "3. **Meta Model**: GradientBoostingRegressor combines base model predictions.\n",
    "4. **Final Model**: Ridge regressor trained on stacked model outputs.\n",
    "\n",
    "### **Cross-Validation**\n",
    "- Perform 5-fold CV:\n",
    "  - Train the stacked model on folds.\n",
    "  - Use its predictions as inputs for the final model.\n",
    "  - Reverse scaling to compute metrics (RMSE, R²).\n",
    "- Average metrics across folds for final evaluation.\n"
   ]
  },
  {
   "cell_type": "code",
   "execution_count": null,
   "metadata": {
    "colab": {
     "base_uri": "https://localhost:8080/"
    },
    "id": "I1H-hpFOSBYs",
    "outputId": "82dec357-874c-4956-c676-4f65cc6b16ee"
   },
   "outputs": [
    {
     "name": "stdout",
     "output_type": "stream",
     "text": [
      "Average Root Mean Squared Error across folds: 67085.59544441997\n",
      "Average R-squared Score across folds: 0.14894297585146282\n"
     ]
    }
   ],
   "source": [
    "# Convert all columns in X and y to float32\n",
    "X = df.drop(columns=['price']).astype('float32')\n",
    "y = df['price'].astype('float32')\n",
    "X_train, X_test, y_train, y_test = train_test_split(X, y, test_size=0.2, random_state=33)\n",
    "\n",
    "# Define base-level models\n",
    "base_learners = [\n",
    "    ('decision_tree', DecisionTreeRegressor()),\n",
    "    ('linear', LinearRegression()),\n",
    "    ('ridge', Ridge())\n",
    "]\n",
    "\n",
    "# Meta model for stacking\n",
    "meta_model = GradientBoostingRegressor()\n",
    "\n",
    "# Define the stacked model\n",
    "stacked_model = StackingRegressor(\n",
    "    estimators=base_learners,\n",
    "    final_estimator=meta_model,\n",
    "    passthrough=True  # Pass the original features along with predictions from base models\n",
    ")\n",
    "\n",
    "# Final Decision Tree model to use output from the stacked model\n",
    "final_model = Ridge()\n",
    "\n",
    "# Initialize k-fold cross-validation\n",
    "k = 5\n",
    "kf = KFold(n_splits=k, shuffle=True, random_state=33)\n",
    "rmse_list = []\n",
    "r2_list = []\n",
    "\n",
    "# Loop over each fold\n",
    "for train_index, test_index in kf.split(X):\n",
    "    X_train, X_test = X.iloc[train_index], X.iloc[test_index]\n",
    "    y_train, y_test = y.iloc[train_index], y.iloc[test_index]\n",
    "\n",
    "    # Train the stacked model\n",
    "    stacked_model.fit(X_train, y_train)\n",
    "\n",
    "    # Predict with the stacked model to use as inputs for the final model\n",
    "    stacked_train_pred = stacked_model.predict(X_train).reshape(-1, 1)\n",
    "    stacked_test_pred = stacked_model.predict(X_test).reshape(-1, 1)\n",
    "\n",
    "    # Train the final Decision Tree model on the stacked model's predictions\n",
    "    final_model.fit(stacked_train_pred, y_train)\n",
    "\n",
    "    # Predict with the final model on the test data\n",
    "    y_pred = final_model.predict(stacked_test_pred)\n",
    "\n",
    "    # Decode (inverse transform) y_test and y_pred for 'price' using the original scale and mean for 'price'\n",
    "    price_index = cols_to_scale.index('price')\n",
    "    y_test_original = (y_test * scaler.scale_[price_index]) + scaler.mean_[price_index]\n",
    "    y_pred_original = (y_pred * scaler.scale_[price_index]) + scaler.mean_[price_index]\n",
    "\n",
    "    # Transform predictions back from log scale\n",
    "    y_pred_original = 10 ** y_pred_original\n",
    "    y_test_original = 10 ** y_test_original\n",
    "\n",
    "    # Calculate RMSE and R² for the current fold\n",
    "    mse = mean_squared_error(y_test_original, y_pred_original)\n",
    "    rmse = np.sqrt(mse)\n",
    "    r2 = r2_score(y_test_original, y_pred_original)\n",
    "\n",
    "    # Append the results for each fold\n",
    "    rmse_list.append(rmse)\n",
    "    r2_list.append(r2)\n",
    "\n",
    "# Calculate the average RMSE and R² over all folds\n",
    "average_rmse = np.mean(rmse_list)\n",
    "average_r2 = np.mean(r2_list)\n",
    "\n",
    "print(\"Average Root Mean Squared Error across folds:\", average_rmse)\n",
    "print(\"Average R-squared Score across folds:\", average_r2)\n"
   ]
  },
  {
   "cell_type": "markdown",
   "metadata": {
    "id": "w45DoB91-ZcU"
   },
   "source": [
    "### **Model Performance Evaluation**\n",
    "\n",
    "- **Average Root Mean Squared Error (RMSE)**: 66,085.98. This shows the average error in prediction magnitude. A higher value indicates more significant prediction errors, meaning the model might be struggling to accurately predict the target values.\n",
    "\n",
    "- **Average R-squared Score (R²)**: 0.1575. This suggests that the model only explains around 15.75% of the variance in the data, which is quite low. It indicates that the model isn't capturing the underlying patterns well and might require improvements.\n",
    "\n",
    "### **Model Explanation**\n",
    "The **stacking model** incorporates multiple base models (Decision Tree, Linear Regression, Ridge) with a **Gradient Boosting** meta-model. Despite this combined approach, the performance might be limited by the base model choices, hyperparameters, or the complexity of the dataset."
   ]
  },
  {
   "cell_type": "markdown",
   "metadata": {
    "id": "UF6g3hFb-pYt"
   },
   "source": [
    "### **Model Explanation**\n",
    "This model is a **stacking ensemble** approach:\n",
    "- **Base Models**: Decision Tree, Linear Regression, Ridge, and Lasso regression are used to make predictions based on the input data.\n",
    "- **Intermediate Model**: A Random Forest Regressor is used to learn from the predictions made by the base models.\n",
    "- **Meta Model**: A Gradient Boosting Regressor learns from the intermediate model's predictions, along with the original features.\n"
   ]
  },
  {
   "cell_type": "code",
   "execution_count": null,
   "metadata": {
    "colab": {
     "base_uri": "https://localhost:8080/"
    },
    "id": "Qd-wQCQJOJjG",
    "outputId": "5cbb9dcd-fb5a-4318-86ce-6948aee2a4f1"
   },
   "outputs": [
    {
     "name": "stdout",
     "output_type": "stream",
     "text": [
      "Average Root Mean Squared Error across folds: 97495.38233331204\n",
      "Average R-squared Score across folds: 0.3063946503661155\n"
     ]
    }
   ],
   "source": [
    "# Convert all columns in X and y to float32\n",
    "X = df.drop(columns=['price']).astype('float32')\n",
    "y = df['price'].astype('float32')\n",
    "X_train, X_test, y_train, y_test = train_test_split(X, y, test_size=0.2, random_state=33)\n",
    "\n",
    "# Define base-level models\n",
    "base_learners = [\n",
    "    ('decision_tree', DecisionTreeRegressor()),\n",
    "    ('linear', LinearRegression()),\n",
    "    ('ridge', Ridge()),\n",
    "    ('lasso', Lasso())\n",
    "]\n",
    "\n",
    "# Intermediate model\n",
    "intermediate_model = RandomForestRegressor()\n",
    "\n",
    "# Meta model\n",
    "meta_model = GradientBoostingRegressor()\n",
    "\n",
    "# Initialize k-fold cross-validation\n",
    "k = 5\n",
    "kf = KFold(n_splits=k, shuffle=True, random_state=1)\n",
    "rmse_list = []\n",
    "r2_list = []\n",
    "\n",
    "# Loop over each fold\n",
    "for train_index, test_index in kf.split(X):\n",
    "    X_train, X_test = X.iloc[train_index], X.iloc[test_index]\n",
    "    y_train, y_test = y.iloc[train_index], y.iloc[test_index]\n",
    "\n",
    "    # Base level predictions\n",
    "    base_predictions = np.zeros((X_train.shape[0], len(base_learners)))\n",
    "    base_test_predictions = np.zeros((X_test.shape[0], len(base_learners)))\n",
    "\n",
    "    for idx, (name, model) in enumerate(base_learners):\n",
    "        # Train each base model and get predictions for train and test\n",
    "        model.fit(X_train, y_train)\n",
    "        base_predictions[:, idx] = model.predict(X_train)\n",
    "        base_test_predictions[:, idx] = model.predict(X_test)\n",
    "\n",
    "    # Train the intermediate model on base model predictions\n",
    "    intermediate_model.fit(base_predictions, y_train)\n",
    "\n",
    "    # Get intermediate predictions for train and test\n",
    "    intermediate_train_pred = intermediate_model.predict(base_predictions)\n",
    "    intermediate_test_pred = intermediate_model.predict(base_test_predictions)\n",
    "\n",
    "    # Concatenate intermediate predictions with original features\n",
    "    meta_train_input = np.column_stack((intermediate_train_pred, X_train))\n",
    "    meta_test_input = np.column_stack((intermediate_test_pred, X_test))\n",
    "\n",
    "    # Train the meta model\n",
    "    meta_model.fit(meta_train_input, y_train)\n",
    "\n",
    "    # Predict with the meta model on the test data\n",
    "    y_pred = meta_model.predict(meta_test_input)\n",
    "\n",
    "    # Decode (inverse transform) y_test and y_pred for 'price' using the original scale and mean for 'price'\n",
    "    price_index = cols_to_scale.index('price')\n",
    "    y_test_original = (y_test * scaler.scale_[price_index]) + scaler.mean_[price_index]\n",
    "    y_pred_original = (y_pred * scaler.scale_[price_index]) + scaler.mean_[price_index]\n",
    "\n",
    "    # Transform predictions back from log scale\n",
    "    y_pred_original = 10 ** y_pred_original\n",
    "    y_test_original = 10 ** y_test_original\n",
    "\n",
    "    # Calculate RMSE and R² for the current fold\n",
    "    mse = mean_squared_error(y_test_original, y_pred_original)\n",
    "    rmse = np.sqrt(mse)\n",
    "    r2 = r2_score(y_test, y_pred)\n",
    "\n",
    "    # Append the results for each fold\n",
    "    rmse_list.append(rmse)\n",
    "    r2_list.append(r2)\n",
    "\n",
    "# Calculate the average RMSE and R² over all folds\n",
    "average_rmse = np.mean(rmse_list)\n",
    "average_r2 = np.mean(r2_list)\n",
    "\n",
    "print(\"Average Root Mean Squared Error across folds:\", average_rmse)\n",
    "print(\"Average R-squared Score across folds:\", average_r2)\n"
   ]
  },
  {
   "cell_type": "markdown",
   "metadata": {
    "id": "t_hs9t2o-v_7"
   },
   "source": [
    "### **Model Performance Evaluation**\n",
    "\n",
    "- **Average Root Mean Squared Error (RMSE)**: The RMSE of **97,495** indicates that the model's predictions deviate significantly from the actual prices. This means the model is making relatively large errors in predicting the target variable.\n",
    "\n",
    "- **Average R-squared Score (R²)**: The R² score of **0.306** suggests that the model explains only **31%** of the variance in the target variable. This is relatively low, indicating that the model is not capturing much of the underlying patterns in the data.\n"
   ]
  },
  {
   "cell_type": "markdown",
   "metadata": {
    "id": "4T7SZJ80_Ird"
   },
   "source": [
    "### **Model Explanation**\n",
    "This model uses **stacked generalization**:\n",
    "1. **Base Models**:\n",
    "   - **CatBoostRegressor**: A gradient boosting algorithm that handles categorical features efficiently.\n",
    "   - **RandomForestRegressor**: A random forest model used to provide a strong baseline with its ensemble approach.\n",
    "   - **Linear Regression**: A simple linear model to capture the overall relationship between features and the target.\n",
    "   \n",
    "2. **Meta Model**: A second **CatBoostRegressor** model takes the predictions from the base models and refines them to produce final predictions.\n"
   ]
  },
  {
   "cell_type": "code",
   "execution_count": null,
   "metadata": {
    "colab": {
     "base_uri": "https://localhost:8080/"
    },
    "id": "lwfKHu6kkN2C",
    "outputId": "b93e092b-03ff-4a63-92dc-dbdb1c8fd9d5"
   },
   "outputs": [
    {
     "name": "stdout",
     "output_type": "stream",
     "text": [
      "Root Mean Squared Error: 53817.76305407528\n",
      "R-squared Score: 0.6132882719831485\n",
      "       Actual Price  Predicted Price\n",
      "11939   9449.997070     11194.334614\n",
      "13314  65899.984375     37977.990802\n",
      "13032  43998.980469     48698.748382\n",
      "14729  86899.984375     85994.214099\n"
     ]
    }
   ],
   "source": [
    "# Convert all columns in X and y to float32\n",
    "X = df.drop(columns=['price']).astype('float32')\n",
    "y = df['price'].astype('float32')\n",
    "X_train, X_test, y_train, y_test = train_test_split(X, y, test_size=0.2, random_state=33)\n",
    "\n",
    "# Step 2: Define Base Models\n",
    "base_models = [\n",
    "    ('catboost', CatBoostRegressor(iterations=500, depth=6, learning_rate=0.05, verbose=0)),\n",
    "    ('random_forest', RandomForestRegressor(n_estimators=100, random_state=42)),\n",
    "    ('linear_regression', LinearRegression())\n",
    "]\n",
    "\n",
    "# Step 3: Train Base Models and Collect Predictions\n",
    "train_meta_features = np.zeros((X_train.shape[0], len(base_models)))\n",
    "test_meta_features = np.zeros((X_test.shape[0], len(base_models)))\n",
    "\n",
    "for i, (name, model) in enumerate(base_models):\n",
    "    model.fit(X_train, y_train)  # Train each base model\n",
    "    train_meta_features[:, i] = model.predict(X_train)  # Predictions on train set\n",
    "    test_meta_features[:, i] = model.predict(X_test)    # Predictions on test set\n",
    "\n",
    "# Step 4: Train a Meta-Model on Top of the Base Model Predictions\n",
    "meta_model = CatBoostRegressor(iterations=500, depth=6, learning_rate=0.05, verbose=0)\n",
    "meta_model.fit(train_meta_features, y_train)\n",
    "\n",
    "# Step 5: Make Predictions with the Stacked Model\n",
    "final_predictions = meta_model.predict(test_meta_features)\n",
    "y_pred = final_predictions\n",
    "r2=r2_score(y_test, y_pred)\n",
    "\n",
    "# Decode (inverse transform) y_test and y_pred for 'price' only using the original scale and mean for 'price'\n",
    "price_index = cols_to_scale.index('price')\n",
    "\n",
    "y_test_original = (y_test * scaler.scale_[price_index]) + scaler.mean_[price_index]\n",
    "y_pred_original = (y_pred * scaler.scale_[price_index]) + scaler.mean_[price_index]\n",
    "\n",
    "y_pred_original=10**y_pred_original\n",
    "y_test_original=10**y_test_original\n",
    "\n",
    "# Now, calculate RMSE and R^2 on the original scale\n",
    "mse = mean_squared_error(y_test_original, y_pred_original)\n",
    "rmse = np.sqrt(mse)\n",
    "\n",
    "print(\"Root Mean Squared Error:\", rmse)\n",
    "print(\"R-squared Score:\", r2)\n",
    "\n",
    "# Compare the predicted and actual prices\n",
    "comparison_df = pd.DataFrame({'Actual Price': y_test_original, 'Predicted Price': y_pred_original})\n",
    "print(comparison_df.iloc[1:5])\n"
   ]
  },
  {
   "cell_type": "markdown",
   "metadata": {
    "id": "qoc8y6rB_uVD"
   },
   "source": [
    "### **Model Performance Evaluation**\n",
    "\n",
    "- **Root Mean Squared Error (RMSE)**: The RMSE of **53817.76** indicates that on average, the predicted prices deviate from the actual prices by this amount in the original scale.\n",
    "\n",
    "- **R-squared Score (R²)**: The model has an R² of **0.613**, meaning it explains about 61.3% of the variance in the target variable (price). This is a decent fit but leaves room for improvement."
   ]
  },
  {
   "cell_type": "markdown",
   "metadata": {
    "id": "juwSJVOnACU2"
   },
   "source": [
    "### 1. **Stacking Model 1: RF + GB + Ridge**\n",
    "   - **Base Models**: Random Forest, Gradient Boosting\n",
    "   - **Meta Model**: Ridge Regression\n",
    "   - **Purpose**: Combines the strengths of tree-based models and regularization.\n",
    "\n",
    "### 2. **Stacking Model 2: CatBoost + XGB + Lasso**\n",
    "   - **Base Models**: CatBoost, XGBoost, Lasso\n",
    "   - **Meta Model**: Ridge Regression\n",
    "   - **Purpose**: Leverages advanced gradient boosting techniques and regularization.\n",
    "\n",
    "### 3. **Stacking Model 3: LightGBM + Extra Trees + Linear**\n",
    "   - **Base Models**: LightGBM, Extra Trees\n",
    "   - **Meta Model**: Linear Regression\n",
    "   - **Purpose**: Combines boosted tree methods with linear regression for simplicity and power.\n",
    "\n",
    "### 4. **Stacking Model 4: NN + RF + ElasticNet**\n",
    "   - **Base Models**: Neural Network, Random Forest, ElasticNet\n",
    "   - **Meta Model**: Linear Regression\n",
    "   - **Purpose**: Integrates deep learning, ensemble trees, and regularization.\n",
    "\n",
    "### 5. **Voting Model: XGB + CatBoost + Linear**\n",
    "   - **Base Models**: XGBoost, CatBoost, Linear Regression\n",
    "   - **Meta Model**: Voting Regressor (combines predictions)\n",
    "   - **Purpose**: Combines diverse models for a more robust prediction.\n"
   ]
  },
  {
   "cell_type": "code",
   "execution_count": null,
   "metadata": {
    "id": "U7ykSTGrWxvi"
   },
   "outputs": [],
   "source": [
    "import logging\n",
    "df.columns = df.columns.str.replace(' ', '_')\n",
    "warnings.filterwarnings(\"ignore\", message=\"Found whitespace in feature_names\")\n",
    "logging.getLogger('lightgbm').setLevel(logging.CRITICAL)\n"
   ]
  },
  {
   "cell_type": "code",
   "execution_count": null,
   "metadata": {
    "colab": {
     "base_uri": "https://localhost:8080/"
    },
    "id": "BRARl3P7nSen",
    "outputId": "42378893-3e5e-4e7c-f966-4f6a80945958"
   },
   "outputs": [
    {
     "name": "stdout",
     "output_type": "stream",
     "text": [
      "Model Evaluation Results:\n",
      "\n",
      "Stacking Model 1: RF + GB + Ridge\n",
      "Root Mean Squared Error: 51018.343976384815\n",
      "R-squared Score: 0.6794009014671418\n",
      "\n",
      "\n",
      "Stacking Model 2: CatBoost + XGB + Lasso\n",
      "Root Mean Squared Error: 51276.94616865542\n",
      "R-squared Score: 0.678709267100509\n",
      "\n",
      "\n",
      "[LightGBM] [Info] Total Bins 1222\n",
      "[LightGBM] [Info] Number of data points in the train set: 39995, number of used features: 18\n",
      "[LightGBM] [Info] Start training from score 0.001000\n",
      "[LightGBM] [Info] Total Bins 1204\n",
      "[LightGBM] [Info] Number of data points in the train set: 31996, number of used features: 18\n",
      "[LightGBM] [Info] Start training from score 0.001908\n",
      "[LightGBM] [Info] Total Bins 1206\n",
      "[LightGBM] [Info] Number of data points in the train set: 31996, number of used features: 18\n",
      "[LightGBM] [Info] Start training from score -0.001883\n",
      "[LightGBM] [Info] Total Bins 1203\n",
      "[LightGBM] [Info] Number of data points in the train set: 31996, number of used features: 18\n",
      "[LightGBM] [Info] Start training from score 0.002549\n",
      "[LightGBM] [Info] Total Bins 1194\n",
      "[LightGBM] [Info] Number of data points in the train set: 31996, number of used features: 18\n",
      "[LightGBM] [Info] Start training from score -0.000002\n",
      "[LightGBM] [Info] Total Bins 1199\n",
      "[LightGBM] [Info] Number of data points in the train set: 31996, number of used features: 18\n",
      "[LightGBM] [Info] Start training from score 0.002430\n",
      "Stacking Model 3: LightGBM + Extra Trees + Linear\n",
      "Root Mean Squared Error: 50771.66394297933\n",
      "R-squared Score: 0.6800609522525418\n",
      "\n",
      "\n",
      "Stacking Model 4: Neural Network + RF + ElasticNet\n",
      "Root Mean Squared Error: 48787.40650725665\n",
      "R-squared Score: 0.6743713168734604\n",
      "\n",
      "\n",
      "Voting Model: XGB + CatBoost + Linear\n",
      "Root Mean Squared Error: 49378.54458309857\n",
      "R-squared Score: 0.6783491597425408\n",
      "\n",
      "\n"
     ]
    }
   ],
   "source": [
    "# Convert all columns in X and y to float32\n",
    "X = df.drop(columns=['price']).astype('float32')\n",
    "y = df['price'].astype('float32')\n",
    "X_train, X_test, y_train, y_test = train_test_split(X, y, test_size=0.2, random_state=33)\n",
    "\n",
    "# Define function to evaluate models\n",
    "def evaluate_model(model, model_name):\n",
    "    # Train the model\n",
    "    model.fit(X_train, y_train)\n",
    "\n",
    "    # Predict in log-transformed scale\n",
    "    y_pred = model.predict(X_test)\n",
    "    r2 = r2_score(y_test, y_pred)\n",
    "\n",
    "    # Decode (inverse transform) y_test and y_pred for 'price' only using the original scale and mean for 'price'\n",
    "    price_index = cols_to_scale.index('price')\n",
    "\n",
    "    y_test_original = (y_test * scaler.scale_[price_index]) + scaler.mean_[price_index]\n",
    "    y_pred_original = (y_pred * scaler.scale_[price_index]) + scaler.mean_[price_index]\n",
    "\n",
    "    y_pred_original=10**y_pred_original\n",
    "    y_test_original=10**y_test_original\n",
    "\n",
    "    # Now, calculate RMSE and R^2 on the original scale\n",
    "    mse = mean_squared_error(y_test_original, y_pred_original)\n",
    "    rmse = np.sqrt(mse)\n",
    "\n",
    "    print(f\"{model_name}\")\n",
    "    print(\"Root Mean Squared Error:\", rmse)\n",
    "    print(\"R-squared Score:\", r2)\n",
    "    print(\"\\n\")\n",
    "\n",
    "\n",
    "# Ensemble Models\n",
    "\n",
    "# Model 1: Random Forest + Gradient Boosting + Ridge Regression (Stacking)\n",
    "stacking_model_1 = StackingRegressor(\n",
    "    estimators=[\n",
    "        ('rf', RandomForestRegressor(n_estimators=100, random_state=42)),\n",
    "        ('gb', GradientBoostingRegressor(n_estimators=100, random_state=42)),\n",
    "        ('ridge', Ridge())\n",
    "    ],\n",
    "    final_estimator=Ridge()\n",
    ")\n",
    "\n",
    "# Model 2: CatBoost + XGBoost + Lasso Regression (Stacking)\n",
    "stacking_model_2 = StackingRegressor(\n",
    "    estimators=[\n",
    "        ('catboost', CatBoostRegressor(iterations=500, depth=6, learning_rate=0.1, verbose=0, random_state=42)),\n",
    "        ('xgb', XGBRegressor(objective='reg:squarederror', random_state=42)),\n",
    "        ('lasso', Lasso(alpha=0.1))\n",
    "    ],\n",
    "    final_estimator=Ridge()\n",
    ")\n",
    "\n",
    "# Model 3: LightGBM + Extra Trees + Linear Regression (Stacking)\n",
    "stacking_model_3 = StackingRegressor(\n",
    "    estimators=[\n",
    "        ('lgbm', LGBMRegressor(n_estimators=500, learning_rate=0.05, random_state=42,force_col_wise=True)),\n",
    "        ('extra_trees', ExtraTreesRegressor(n_estimators=100, random_state=42)),\n",
    "        ('linear', LinearRegression())\n",
    "    ],\n",
    "    final_estimator=LinearRegression()\n",
    ")\n",
    "\n",
    "# Model 4: Neural Network + Random Forest + ElasticNet (Stacking)\n",
    "stacking_model_4 = StackingRegressor(\n",
    "    estimators=[\n",
    "        ('nn', MLPRegressor(hidden_layer_sizes=(64, 32), max_iter=500, random_state=42)),\n",
    "        ('rf', RandomForestRegressor(n_estimators=100, random_state=42)),\n",
    "        ('elasticnet', ElasticNet(alpha=0.1, l1_ratio=0.5))\n",
    "    ],\n",
    "    final_estimator=LinearRegression()\n",
    ")\n",
    "\n",
    "# Model 5: Voting Regressor with XGBoost + CatBoost + Linear Regression\n",
    "voting_model = VotingRegressor(\n",
    "    estimators=[\n",
    "        ('xgb', XGBRegressor(objective='reg:squarederror', random_state=42)),\n",
    "        ('catboost', CatBoostRegressor(iterations=500, depth=6, learning_rate=0.1, verbose=0, random_state=42)),\n",
    "        ('linear', LinearRegression())\n",
    "    ]\n",
    ")\n",
    "\n",
    "# Evaluate Each Model\n",
    "print(\"Model Evaluation Results:\\n\")\n",
    "evaluate_model(stacking_model_1, \"Stacking Model 1: RF + GB + Ridge\")\n",
    "evaluate_model(stacking_model_2, \"Stacking Model 2: CatBoost + XGB + Lasso\")\n",
    "evaluate_model(stacking_model_3, \"Stacking Model 3: LightGBM + Extra Trees + Linear\")\n",
    "evaluate_model(stacking_model_4, \"Stacking Model 4: Neural Network + RF + ElasticNet\")\n",
    "evaluate_model(voting_model, \"Voting Model: XGB + CatBoost + Linear\")\n"
   ]
  },
  {
   "cell_type": "markdown",
   "metadata": {
    "id": "2tJViHPDAlgK"
   },
   "source": [
    "### Model Evaluation Results (Updated):\n",
    "\n",
    "#### **Stacking Model 1: RF + GB + Ridge**\n",
    "- **RMSE**: 51,018.34\n",
    "- **R-squared**: 0.6794\n",
    "\n",
    "#### **Stacking Model 2: CatBoost + XGB + Lasso**\n",
    "- **RMSE**: 51,276.95\n",
    "- **R-squared**: 0.6787\n",
    "\n",
    "#### **Stacking Model 3: LightGBM + Extra Trees + Linear**\n",
    "- **RMSE**: 50,771.66\n",
    "- **R-squared**: 0.6801\n",
    "\n",
    "#### **Stacking Model 4: Neural Network + RF + ElasticNet**\n",
    "- **RMSE**: 48,787.41\n",
    "- **R-squared**: 0.6744\n",
    "\n",
    "#### **Voting Model: XGB + CatBoost + Linear**\n",
    "- **RMSE**: 49,378.54\n",
    "- **R-squared**: 0.6783\n",
    "\n",
    "Each model was evaluated using **Root Mean Squared Error (RMSE)** and **R-squared**. Training logs for LightGBM indicate consistent data handling with used features across subsets. The results showcase improvement, particularly in **Stacking Model 4**, which exhibits the lowest RMSE.\n"
   ]
  },
  {
   "cell_type": "markdown",
   "metadata": {
    "id": "8tYad76FCJXZ"
   },
   "source": [
    "### Models:\n",
    "\n",
    "- **Linear Regression**: Fits a linear relationship between input variables and the target variable.\n",
    "- **Ridge Regression**: A type of linear regression with L2 regularization to prevent overfitting.\n",
    "- **Lasso Regression**: Linear regression with L1 regularization, encouraging sparsity in the coefficients.\n",
    "- **ElasticNet Regression**: Combines both L1 and L2 regularization, balancing Ridge and Lasso.\n",
    "- **Random Forest**: Ensemble model using multiple decision trees to improve prediction accuracy.\n",
    "- **Gradient Boosting**: Sequential ensemble technique where each model corrects the errors of the previous one.\n",
    "- **K-Nearest Neighbors**: A non-parametric algorithm that predicts based on the k-nearest data points.\n",
    "- **Support Vector Regressor**: A model that uses a hyperplane to fit the data in high-dimensional space.\n",
    "- **Neural Network**: A computational model inspired by the human brain to model complex relationships.\n",
    "- **XGBoost**: Optimized boosting algorithm that focuses on performance and speed.\n"
   ]
  },
  {
   "cell_type": "code",
   "execution_count": null,
   "metadata": {
    "colab": {
     "base_uri": "https://localhost:8080/"
    },
    "id": "gnWpM-wQvBEp",
    "outputId": "fa03ea32-abc6-4f90-a569-97475f2acb12"
   },
   "outputs": [
    {
     "name": "stdout",
     "output_type": "stream",
     "text": [
      "Linear Regression\n",
      "Root Mean Squared Error: 47934.797\n",
      "R-squared Score: 0.6281751394271851\n",
      "\n",
      "Ridge Regression\n",
      "Root Mean Squared Error: 47935.37\n",
      "R-squared Score: 0.6281453371047974\n",
      "\n",
      "Lasso Regression\n",
      "Root Mean Squared Error: 55333.6\n",
      "R-squared Score: -2.2292137145996094e-05\n",
      "\n",
      "ElasticNet Regression\n",
      "Root Mean Squared Error: 54363.55\n",
      "R-squared Score: 0.18111765384674072\n",
      "\n",
      "Random Forest\n",
      "Root Mean Squared Error: 48467.45000729604\n",
      "R-squared Score: 0.6345903663258341\n",
      "\n",
      "Gradient Boosting\n",
      "Root Mean Squared Error: 48068.26159969255\n",
      "R-squared Score: 0.6593694984882976\n",
      "\n",
      "K-Nearest Neighbors\n",
      "Root Mean Squared Error: 49066.617\n",
      "R-squared Score: 0.592215895652771\n",
      "\n",
      "Support Vector Regressor\n",
      "Root Mean Squared Error: 48969.456347459294\n",
      "R-squared Score: 0.6531553469466719\n",
      "\n",
      "Neural Network\n",
      "Root Mean Squared Error: 48521.117\n",
      "R-squared Score: 0.6525853872299194\n",
      "\n",
      "XGBoost\n",
      "Root Mean Squared Error: 48275.637\n",
      "R-squared Score: 0.6505571603775024\n",
      "\n",
      "\n",
      "Summary of Model Performance:\n",
      "                                  RMSE       R^2\n",
      "Linear Regression         47934.796875  0.628175\n",
      "Ridge Regression          47935.371094  0.628145\n",
      "Lasso Regression          55333.601562 -0.000022\n",
      "ElasticNet Regression     54363.550781  0.181118\n",
      "Random Forest             48467.450007  0.634590\n",
      "Gradient Boosting         48068.261600  0.659369\n",
      "K-Nearest Neighbors       49066.617188  0.592216\n",
      "Support Vector Regressor  48969.456347  0.653155\n",
      "Neural Network            48521.117188  0.652585\n",
      "XGBoost                   48275.636719  0.650557\n"
     ]
    }
   ],
   "source": [
    "# Convert all columns in X and y to float32\n",
    "X = df.drop(columns=['price']).astype('float32')\n",
    "y = df['price'].astype('float32')\n",
    "X_train, X_test, y_train, y_test = train_test_split(X, y, test_size=0.2, random_state=35)\n",
    "\n",
    "# Define models\n",
    "models = {\n",
    "    \"Linear Regression\": LinearRegression(),\n",
    "    \"Ridge Regression\": Ridge(),\n",
    "    \"Lasso Regression\": Lasso(),\n",
    "    \"ElasticNet Regression\": ElasticNet(),\n",
    "    \"Random Forest\": RandomForestRegressor(random_state=42),\n",
    "    \"Gradient Boosting\": GradientBoostingRegressor(random_state=42),\n",
    "    \"K-Nearest Neighbors\": KNeighborsRegressor(),\n",
    "    \"Support Vector Regressor\": SVR(),\n",
    "    \"Neural Network\": MLPRegressor(random_state=42),\n",
    "    \"XGBoost\": XGBRegressor(objective='reg:squarederror', random_state=42)\n",
    "}\n",
    "\n",
    "# Initialize dictionary to store results\n",
    "results = {}\n",
    "\n",
    "# Iterate over each model\n",
    "for model_name, model in models.items():\n",
    "    # Train the model\n",
    "    model.fit(X_train, y_train)\n",
    "\n",
    "        # Predict in the log-transformed scale\n",
    "    y_pred = model.predict(X_test)\n",
    "    r2 = r2_score(y_test, y_pred)\n",
    "\n",
    "    # Decode (inverse transform) y_test and y_pred for 'price' only using the original scale and mean for 'price'\n",
    "    price_index = cols_to_scale.index('price')\n",
    "\n",
    "    y_test_original = (y_test * scaler.scale_[price_index]) + scaler.mean_[price_index]\n",
    "    y_pred_original = (y_pred * scaler.scale_[price_index]) + scaler.mean_[price_index]\n",
    "\n",
    "    y_pred_original=10**y_pred_original\n",
    "    y_test_original=10**y_test_original\n",
    "\n",
    "    # Now, calculate RMSE and R^2 on the original scale\n",
    "    mse = mean_squared_error(y_test_original, y_pred_original)\n",
    "    rmse = np.sqrt(mse)\n",
    "\n",
    "    # Print the results for each model\n",
    "    print(f\"{model_name}\")\n",
    "    print(\"Root Mean Squared Error:\", rmse)\n",
    "    print(\"R-squared Score:\", r2)\n",
    "    print()\n",
    "    # Compare the predicted and actual prices\n",
    "    # comparison_df = pd.DataFrame({'Actual Price': y_test_original, 'Predicted Price': y_pred_original})\n",
    "    # print(comparison_df.iloc[1:5])\n",
    "    # Store the results\n",
    "    results[model_name] = {\n",
    "        \"RMSE\": rmse,\n",
    "        \"R^2\": r2\n",
    "    }\n",
    "\n",
    "\n",
    "# Convert results to DataFrame for better readability\n",
    "results_df = pd.DataFrame(results).T\n",
    "print(\"\\nSummary of Model Performance:\")\n",
    "print(results_df)\n"
   ]
  },
  {
   "cell_type": "markdown",
   "metadata": {
    "id": "TBYg0k4OCg5L"
   },
   "source": [
    "### Model Performance Summary (Updated)\n",
    "\n",
    "1. **Linear Regression**:  \n",
    "   - **RMSE**: 47,934.80  \n",
    "   - **R²**: 0.6282  \n",
    "   - Model fits decently, but there is room for improvement.\n",
    "\n",
    "2. **Ridge Regression**:  \n",
    "   - **RMSE**: 47,935.37  \n",
    "   - **R²**: 0.6281  \n",
    "   - Very similar to Linear Regression with minimal effect of regularization.\n",
    "\n",
    "3. **Lasso Regression**:  \n",
    "   - **RMSE**: 55,333.60  \n",
    "   - **R²**: -0.0000  \n",
    "   - Performs poorly, likely due to excessive regularization causing underfitting.\n",
    "\n",
    "4. **ElasticNet Regression**:  \n",
    "   - **RMSE**: 54,363.55  \n",
    "   - **R²**: 0.1811  \n",
    "   - Shows weak performance, indicating that the L1 and L2 regularization balance is suboptimal.\n",
    "\n",
    "5. **Random Forest**:  \n",
    "   - **RMSE**: 48,467.45  \n",
    "   - **R²**: 0.6346  \n",
    "   - Good performance with some improvement over simpler regression models.\n",
    "\n",
    "6. **Gradient Boosting**:  \n",
    "   - **RMSE**: 48,068.26  \n",
    "   - **R²**: 0.6594  \n",
    "   - Outperforms Random Forest, benefiting from sequential learning.\n",
    "\n",
    "7. **K-Nearest Neighbors**:  \n",
    "   - **RMSE**: 49,066.62  \n",
    "   - **R²**: 0.5922  \n",
    "   - Relatively weaker performance, likely due to sensitivity to outliers.\n",
    "\n",
    "8. **Support Vector Regressor**:  \n",
    "   - **RMSE**: 48,969.46  \n",
    "   - **R²**: 0.6532  \n",
    "   - Competitive performance, slightly worse than Gradient Boosting but still strong.\n",
    "\n",
    "9. **Neural Network**:  \n",
    "   - **RMSE**: 48,521.12  \n",
    "   - **R²**: 0.6526  \n",
    "   - Performs comparably to Gradient Boosting and Random Forest.\n",
    "\n",
    "10. **XGBoost**:  \n",
    "    - **RMSE**: 48,275.64  \n",
    "    - **R²**: 0.6506  \n",
    "    - Good performance, slightly behind Gradient Boosting and Random Forest.\n",
    "\n",
    "### Key Takeaways:\n",
    "- **Best Performance**: Gradient Boosting achieves the highest R² (0.659) with the lowest RMSE.  \n",
    "- **Worst Performance**: Lasso Regression, with a negative R², indicating significant underfitting.  \n",
    "- **General Trend**: Ensemble methods like **Random Forest** and **Gradient Boosting** outperform simpler models like **Linear Regression** and **Lasso**. Neural Networks, **XGBoost**, and **Support Vector Regressor** are also competitive but not the top performers in this dataset.\n"
   ]
  },
  {
   "cell_type": "markdown",
   "metadata": {
    "id": "VFIwMOCxCvlV"
   },
   "source": [
    "### Stacking Model Explanation:\n",
    "\n",
    "1. **Base Models**:  \n",
    "   A variety of models are defined to be used as base models:\n",
    "   - Linear Regression, Ridge, Lasso, ElasticNet (Linear models)\n",
    "   - Random Forest, Gradient Boosting (Ensemble models)\n",
    "   - K-Nearest Neighbors, Support Vector Regressor (Instance-based models)\n",
    "   - XGBoost (Boosting method)\n",
    "   \n",
    "   These base models will be trained on the data and their predictions will serve as features for the meta-model.\n",
    "\n",
    "2. **Meta Model**:  \n",
    "   - A **Linear Regression** model is chosen as the meta-model, which will be trained on the predictions of the base models.\n",
    "\n",
    "3. **StackingRegressor Class**:  \n",
    "   - A custom class that performs stacking, where:\n",
    "     - **KFold Cross-validation** is used to train base models on different folds of the data and collect out-of-fold predictions.\n",
    "     - These out-of-fold predictions are used as inputs to train the meta-model.\n",
    "     - The meta-model is then used to make final predictions by combining the base model outputs.\n",
    "\n",
    "\n",
    "   \n",
    "### Summary:\n",
    "- **Stacked Model** utilizes the strengths of various models by combining their predictions using a meta-model, potentially improving performance compared to individual models.\n"
   ]
  },
  {
   "cell_type": "code",
   "execution_count": 29,
   "metadata": {
    "colab": {
     "base_uri": "https://localhost:8080/"
    },
    "id": "6APTymHwv3XU",
    "outputId": "fc8a2181-5a83-4f26-b5b5-20e7fe1589df"
   },
   "outputs": [
    {
     "name": "stdout",
     "output_type": "stream",
     "text": [
      "Root Mean Squared Error: 48054.23633838259\n",
      "R-squared Score: 0.664184864498512\n",
      "       Actual Price  Predicted Price\n",
      "31769  22389.000000     41943.627510\n",
      "27105   8249.998047      6958.763484\n",
      "22278  13700.002930     21906.364223\n",
      "5822    4899.999512      8485.527426\n",
      "Stacked Model - RMSE: 48054.24, R^2: 0.6642\n"
     ]
    }
   ],
   "source": [
    "# Convert all columns in X and y to float32\n",
    "X = df.drop(columns=['price']).astype('float32')\n",
    "y = df['price'].astype('float32')\n",
    "X_train, X_test, y_train, y_test = train_test_split(X, y, test_size=0.2, random_state=35)\n",
    "\n",
    "# Define base models\n",
    "base_models = [\n",
    "    (\"Linear Regression\", LinearRegression()),\n",
    "    (\"Ridge Regression\", Ridge()),\n",
    "    (\"Lasso Regression\", Lasso()),\n",
    "    (\"ElasticNet\", ElasticNet()),\n",
    "    (\"Random Forest\", RandomForestRegressor(random_state=42)),\n",
    "    (\"Gradient Boosting\", GradientBoostingRegressor(random_state=42)),\n",
    "    (\"K-Nearest Neighbors\", KNeighborsRegressor()),\n",
    "    (\"Support Vector Regressor\", SVR()),\n",
    "    (\"XGBoost\", XGBRegressor(objective='reg:squarederror', random_state=42))\n",
    "]\n",
    "\n",
    "# Meta model (to be trained on predictions of base models)\n",
    "meta_model = LinearRegression()\n",
    "\n",
    "# Class for stacking model\n",
    "class StackingRegressor(BaseEstimator, RegressorMixin):\n",
    "    def __init__(self, base_models, meta_model, n_folds=5):\n",
    "        self.base_models = base_models\n",
    "        self.meta_model = meta_model\n",
    "        self.n_folds = n_folds\n",
    "\n",
    "    def fit(self, X, y):\n",
    "        self.base_models_ = [list() for x in self.base_models]\n",
    "        self.meta_features = np.zeros((X.shape[0], len(self.base_models)))\n",
    "\n",
    "        # Train each base model and collect out-of-fold predictions\n",
    "        kfold = KFold(n_splits=self.n_folds, shuffle=True, random_state=42)\n",
    "\n",
    "        for i, (name, model) in enumerate(self.base_models):\n",
    "            for train_idx, holdout_idx in kfold.split(X, y):\n",
    "                instance = model\n",
    "                instance.fit(X[train_idx], y[train_idx])\n",
    "                self.base_models_[i].append(instance)\n",
    "                self.meta_features[holdout_idx, i] = instance.predict(X[holdout_idx])\n",
    "\n",
    "        # Fit meta-model on out-of-fold predictions of base models\n",
    "        self.meta_model.fit(self.meta_features, y)\n",
    "        return self\n",
    "\n",
    "    def predict(self, X):\n",
    "        meta_features_test = np.zeros((X.shape[0], len(self.base_models)))\n",
    "\n",
    "        # Generate predictions for each base model and average them\n",
    "        for i, base_models in enumerate(self.base_models_):\n",
    "            meta_features_test[:, i] = np.column_stack([\n",
    "                model.predict(X) for model in base_models\n",
    "            ]).mean(axis=1)\n",
    "\n",
    "        # Final prediction using meta-model\n",
    "        return self.meta_model.predict(meta_features_test)\n",
    "\n",
    "# Initialize the stacked model\n",
    "stacked_model = StackingRegressor(base_models=base_models, meta_model=meta_model)\n",
    "\n",
    "# Train the stacked model\n",
    "stacked_model.fit(X_train.values, y_train.values)\n",
    "\n",
    "# Predict and invert the log transformation\n",
    "y_pred = stacked_model.predict(X_test)\n",
    "r2 = r2_score(y_test, y_pred)\n",
    "\n",
    "\n",
    "# Decode (inverse transform) y_test and y_pred for 'price' only using the original scale and mean for 'price'\n",
    "price_index = cols_to_scale.index('price')\n",
    "\n",
    "y_test_original = (y_test * scaler.scale_[price_index]) + scaler.mean_[price_index]\n",
    "y_pred_original = (y_pred * scaler.scale_[price_index]) + scaler.mean_[price_index]\n",
    "\n",
    "y_pred_original=10**y_pred_original\n",
    "y_test_original=10**y_test_original\n",
    "\n",
    "# Now, calculate RMSE and R^2 on the original scale\n",
    "mse = mean_squared_error(y_test_original, y_pred_original)\n",
    "rmse = np.sqrt(mse)\n",
    "\n",
    "print(\"Root Mean Squared Error:\", rmse)\n",
    "print(\"R-squared Score:\", r2)\n",
    "\n",
    "# Compare the predicted and actual prices\n",
    "comparison_df = pd.DataFrame({'Actual Price': y_test_original, 'Predicted Price': y_pred_original})\n",
    "print(comparison_df.iloc[1:5])\n",
    "\n",
    "print(f\"Stacked Model - RMSE: {rmse:.2f}, R^2: {r2:.4f}\")\n"
   ]
  },
  {
   "cell_type": "markdown",
   "metadata": {
    "id": "6nE4phn7iHlU"
   },
   "source": [
    "### Model Evaluation Metrics\n",
    "\n",
    "1. **Root Mean Squared Error (RMSE):**  \n",
    "   - The RMSE value of **48054.24** indicates the standard deviation of prediction errors (residuals). A lower RMSE signifies better predictive accuracy.\n",
    "\n",
    "2. **R-squared (R²) Score:**  \n",
    "   - The R² value of **0.6642** suggests that approximately **66.42%** of the variance in the target variable is explained by the model. Higher values closer to 1 indicate better fit.\n"
   ]
  },
  {
   "cell_type": "markdown",
   "metadata": {
    "id": "Ki-4DpfV4jIi"
   },
   "source": [
    "### Preparation for submission.csv"
   ]
  },
  {
   "cell_type": "code",
   "execution_count": 181,
   "metadata": {
    "colab": {
     "base_uri": "https://localhost:8080/"
    },
    "id": "iOi5D_jdsPMj",
    "outputId": "13b5e241-5c54-4817-ef95-a41e76c652bb"
   },
   "outputs": [
    {
     "name": "stdout",
     "output_type": "stream",
     "text": [
      "+---+--------------+------------+-------+--------+--------------------------------------------+------------+--------+-----------+-----------------------------------------------+--------------------------------+---------+---------+----------------------------------------+-------------+\n",
      "|   | Unnamed: 0.1 | Unnamed: 0 |  id   | brand  |                   model                    | model_year | milage | fuel_type |                    engine                     |          transmission          | ext_col | int_col |                accident                | clean_title |\n",
      "+---+--------------+------------+-------+--------+--------------------------------------------+------------+--------+-----------+-----------------------------------------------+--------------------------------+---------+---------+----------------------------------------+-------------+\n",
      "| 0 |      0       |   50001    | 50001 | Nissan |                  Xterra S                  |    2008    | 167000 | Gasoline  | 261.0HP 4.0L V6 Cylinder Engine Gasoline Fuel |              A/T               | Silver  |  Gray   | At least 1 accident or damage reported |     Yes     |\n",
      "| 1 |      1       |   50002    | 50002 |  Audi  |            Q5 2.0T Premium Plus            |    2018    | 52500  | Gasoline  | 252.0HP 2.0L 4 Cylinder Engine Gasoline Fuel  | Transmission w/Dual Shift Mode |  Gray   |  White  | At least 1 accident or damage reported |     Yes     |\n",
      "| 2 |      2       |   50003    | 50003 | Acura  | MDX Sport Hybrid 3.0L w/Technology Package |    2019    | 56778  |  Hybrid   |  321.0HP Electric Motor Electric Fuel System  |          7-Speed A/T           |  Black  |  Black  |             None reported              |     Yes     |\n",
      "| 3 |      3       |   50004    | 50004 |  GMC   |                Yukon XL SLT                |    2017    | 110000 | Gasoline  | 355.0HP 5.3L 8 Cylinder Engine Gasoline Fuel  |              A/T               |  Blue   |  Black  |             None reported              |     Yes     |\n",
      "| 4 |      4       |   50005    | 50005 |  BMW   |                  M3 Base                   |    2008    | 57500  | Gasoline  | 414.0HP 4.0L 8 Cylinder Engine Gasoline Fuel  |          6-Speed M/T           |  White  |  White  |             None reported              |     Yes     |\n",
      "+---+--------------+------------+-------+--------+--------------------------------------------+------------+--------+-----------+-----------------------------------------------+--------------------------------+---------+---------+----------------------------------------+-------------+\n"
     ]
    }
   ],
   "source": [
    "# Load the testing dataset\n",
    "data_url_final = '/content/Used_car_prediction/testing_data.csv'\n",
    "df_test = pd.read_csv(data_url_final)\n",
    "\n",
    "# Load the training dataset\n",
    "data_url_train = '/content/Used_car_prediction/training_data.csv'\n",
    "df_train = pd.read_csv(data_url_train)\n",
    "\n",
    "id_start_test = df_test['id'].iloc[0]\n",
    "\n",
    "# Display the first few rows in a tabular format\n",
    "print(tabulate(df_test.head(), headers='keys', tablefmt='pretty'))"
   ]
  },
  {
   "cell_type": "code",
   "execution_count": 182,
   "metadata": {
    "colab": {
     "base_uri": "https://localhost:8080/"
    },
    "id": "j-vsNE62UZjB",
    "outputId": "88cfcbf7-be15-48c4-e288-967b187f7394"
   },
   "outputs": [
    {
     "name": "stdout",
     "output_type": "stream",
     "text": [
      "Number of NaN values present in df_test:\n",
      "id               0\n",
      "brand            0\n",
      "model            0\n",
      "model_year       0\n",
      "milage           0\n",
      "fuel_type       16\n",
      "engine          23\n",
      "transmission     1\n",
      "ext_col          1\n",
      "int_col         91\n",
      "accident         0\n",
      "clean_title      0\n",
      "dtype: int64\n"
     ]
    }
   ],
   "source": [
    "if 'Unnamed: 0.1' in df_test.columns:\n",
    "    df_test = df_test.drop(columns='Unnamed: 0.1')\n",
    "if 'Unnamed: 0' in df_test.columns:\n",
    "    df_test = df_test.drop(columns='Unnamed: 0')\n",
    "\n",
    "if 'Unnamed: 0' in df_train.columns:\n",
    "    df_train = df_train.drop(columns='Unnamed: 0')\n",
    "\n",
    "# Replace '–' and None with NaN\n",
    "df_test.replace('–', np.nan, inplace=True)\n",
    "df_test.replace([None], np.nan, inplace=True)\n",
    "\n",
    "# Replace '–' and None with NaN (if '–' or 'None' is used as a placeholder for missing data)\n",
    "df_train.replace('–', np.nan, inplace=True)\n",
    "df_train.replace([None], np.nan, inplace=True)\n",
    "\n",
    "# Check for any missing values in df_test\n",
    "print(\"Number of NaN values present in df_test:\")\n",
    "print(df_test.isna().sum())  # Count all NaN values in each column\n"
   ]
  },
  {
   "cell_type": "code",
   "execution_count": 183,
   "metadata": {
    "id": "g76gM8UjUvrM"
   },
   "outputs": [],
   "source": [
    "def fill_nan_with_train_statistics(df, train_means_modes):\n",
    "    # Replace placeholders with NaN\n",
    "    df.replace([-1, None, '–'], np.nan, inplace=True)\n",
    "\n",
    "    # Fill NaN using provided statistics\n",
    "    for col, value in train_means_modes.items():\n",
    "        if col not in df.columns:\n",
    "          continue\n",
    "        df[col] = df[col].fillna(value)\n",
    "    return df\n",
    "\n",
    "\n",
    "# Replace placeholders in df_train\n",
    "df_train.replace([-1, None, '–'], np.nan, inplace=True)\n",
    "\n",
    "# Compute mean/mode for df_train\n",
    "train_means_modes = {}\n",
    "for col in df_train.columns:\n",
    "    if df_train[col].dtype in ['float64', 'int64']:\n",
    "        train_means_modes[col] = df_train[col].mean()\n",
    "    else:\n",
    "        train_means_modes[col] = df_train[col].mode()[0]\n",
    "\n",
    "# Fill NaN in df_train using its own statistics\n",
    "df_train = fill_nan_with_train_statistics(df_train, train_means_modes)\n",
    "\n",
    "# Fill NaN in df_test using df_train's statistics\n",
    "df_test = fill_nan_with_train_statistics(df_test, train_means_modes)\n"
   ]
  },
  {
   "cell_type": "code",
   "execution_count": 184,
   "metadata": {
    "colab": {
     "base_uri": "https://localhost:8080/"
    },
    "id": "S_Zb6v9WXLXG",
    "outputId": "1bd17136-f841-43c6-cc5b-a6cb4f294444"
   },
   "outputs": [
    {
     "name": "stdout",
     "output_type": "stream",
     "text": [
      "+--------------+----------------------+\n",
      "|    Column    | No. of Unique Values |\n",
      "+--------------+----------------------+\n",
      "|      id      |         4272         |\n",
      "|    brand     |          48          |\n",
      "|    model     |         1129         |\n",
      "|  model_year  |          33          |\n",
      "|    milage    |         1634         |\n",
      "|  fuel_type   |          5           |\n",
      "|    engine    |         699          |\n",
      "| transmission |          35          |\n",
      "|   ext_col    |         100          |\n",
      "|   int_col    |          54          |\n",
      "|   accident   |          2           |\n",
      "| clean_title  |          1           |\n",
      "+--------------+----------------------+\n"
     ]
    }
   ],
   "source": [
    "# Collect unique values information in a list of lists\n",
    "unique_values_info = []\n",
    "\n",
    "for col in df_test.columns:\n",
    "    unique_count = len(df_test[col].unique())\n",
    "    unique_values_info.append([col, unique_count])\n",
    "\n",
    "# Print the unique values information in tabular format\n",
    "print(tabulate(unique_values_info, headers=[\"Column\", \"No. of Unique Values\"], tablefmt=\"pretty\"))\n"
   ]
  },
  {
   "cell_type": "code",
   "execution_count": 185,
   "metadata": {
    "id": "g8dGvcBCXr5-"
   },
   "outputs": [],
   "source": [
    "# Drop the 'clean_title' column\n",
    "df_test.drop(['clean_title'], axis=1, inplace=True)\n",
    "df_train.drop(['clean_title'], axis=1, inplace=True)\n",
    "\n",
    "# Drop the 'id' column\n",
    "df_test.drop(columns=['id'],inplace=True)\n",
    "df_train.drop(columns=['id'],inplace=True)\n",
    "\n",
    "df_train = df_train[df_train['model_year'] >= 1990]"
   ]
  },
  {
   "cell_type": "code",
   "execution_count": 186,
   "metadata": {
    "colab": {
     "base_uri": "https://localhost:8080/"
    },
    "id": "JGcO1mwrXwrl",
    "outputId": "3594836b-fa56-4d9e-9163-bad4b8bf09c6"
   },
   "outputs": [
    {
     "name": "stdout",
     "output_type": "stream",
     "text": [
      "+---+--------------------+--------------------+------------+--------+-----------+-----------------------------------------------+--------------------+--------------------+--------------------+----------------------------------------+\n",
      "|   |       brand        |       model        | model_year | milage | fuel_type |                    engine                     |    transmission    |      ext_col       |      int_col       |                accident                |\n",
      "+---+--------------------+--------------------+------------+--------+-----------+-----------------------------------------------+--------------------+--------------------+--------------------+----------------------------------------+\n",
      "| 0 | 24153.342036553524 | 14257.45871559633  |    2008    | 167000 | Gasoline  | 261.0HP 4.0L V6 Cylinder Engine Gasoline Fuel | 30210.755710865204 | 30863.676513723025 | 26823.721317157713 | At least 1 accident or damage reported |\n",
      "| 1 | 37397.35101289135  | 34056.566666666666 |    2018    | 52500  | Gasoline  | 252.0HP 2.0L 4 Cylinder Engine Gasoline Fuel  | 45805.58195336262  | 45251.596185510425 | 55500.30193905817  | At least 1 accident or damage reported |\n",
      "| 2 | 28356.28966789668  |      41899.0       |    2019    | 56778  |  Hybrid   |  321.0HP Electric Motor Electric Fuel System  | 47891.41901408451  | 38909.767581905515 | 41152.29103293215  |             None reported              |\n",
      "| 3 | 41316.61201629328  | 34890.67424242424  |    2017    | 110000 | Gasoline  | 355.0HP 5.3L 8 Cylinder Engine Gasoline Fuel  | 30210.755710865204 | 37618.94097141529  | 41152.29103293215  |             None reported              |\n",
      "| 4 | 40425.07809495637  | 37500.58064516129  |    2008    | 57500  | Gasoline  | 414.0HP 4.0L 8 Cylinder Engine Gasoline Fuel  | 33160.34606205251  | 37761.35863746959  | 55500.30193905817  |             None reported              |\n",
      "+---+--------------------+--------------------+------------+--------+-----------+-----------------------------------------------+--------------------+--------------------+--------------------+----------------------------------------+\n"
     ]
    }
   ],
   "source": [
    "# Target Encoding\n",
    "\n",
    "# For 'brand'\n",
    "mean_price_by_brand = df_train.groupby('brand')['price'].mean()\n",
    "brand_mapping = mean_price_by_brand.to_dict()\n",
    "df_train['brand'] = df_train['brand'].map(brand_mapping)\n",
    "\n",
    "# For 'model'\n",
    "mean_price_by_model = df_train.groupby('model')['price'].mean()\n",
    "model_mapping = mean_price_by_model.to_dict()\n",
    "df_train['model'] = df_train['model'].map(model_mapping)\n",
    "\n",
    "# For 'transmission'\n",
    "mean_price_by_transmission = df_train.groupby('transmission')['price'].mean()\n",
    "transmission_mapping = mean_price_by_transmission.to_dict()\n",
    "df_train['transmission'] = df_train['transmission'].map(transmission_mapping)\n",
    "\n",
    "# For 'ext_col' and 'int_col'\n",
    "ext_col_avg_price = df_train.groupby('ext_col')['price'].mean().sort_values()\n",
    "int_col_avg_price = df_train.groupby('int_col')['price'].mean().sort_values()\n",
    "\n",
    "ext_col_mapping = ext_col_avg_price.to_dict()\n",
    "int_col_mapping = int_col_avg_price.to_dict()\n",
    "\n",
    "df_train['ext_col'] = df_train['ext_col'].map(ext_col_mapping)\n",
    "df_train['int_col'] = df_train['int_col'].map(int_col_mapping)\n",
    "\n",
    "# Apply the stored mappings to df_test\n",
    "df_test['brand'] = df_test['brand'].map(brand_mapping)\n",
    "df_test['model'] = df_test['model'].map(model_mapping)\n",
    "df_test['transmission'] = df_test['transmission'].map(transmission_mapping)\n",
    "df_test['ext_col'] = df_test['ext_col'].map(ext_col_mapping)\n",
    "df_test['int_col'] = df_test['int_col'].map(int_col_mapping)\n",
    "\n",
    "# Verify changes\n",
    "print(tabulate(df_test.head(), headers='keys', tablefmt='pretty'))\n"
   ]
  },
  {
   "cell_type": "code",
   "execution_count": 187,
   "metadata": {
    "id": "5-lBsKAZYIx_"
   },
   "outputs": [],
   "source": [
    "df_test['model_year'] = current_year - df_test['model_year'] + 1\n",
    "df_test.rename(columns={'model_year': 'age'}, inplace=True)\n",
    "\n",
    "df_train['model_year'] = current_year - df_train['model_year'] + 1\n",
    "df_train.rename(columns={'model_year': 'age'}, inplace=True)\n"
   ]
  },
  {
   "cell_type": "code",
   "execution_count": 188,
   "metadata": {
    "colab": {
     "base_uri": "https://localhost:8080/"
    },
    "id": "8vIIJnIGZY4_",
    "outputId": "65394bdf-8243-49f6-8a97-ba6abde8f28e"
   },
   "outputs": [
    {
     "name": "stdout",
     "output_type": "stream",
     "text": [
      "+---+--------------------+--------------------+-----+--------+-----------+--------------------+--------------------+--------------------+----------------------------------------+-------+-------+-----------+------+-------+------------+\n",
      "|   |       brand        |       model        | age | milage | fuel_type |    transmission    |      ext_col       |      int_col       |                accident                |  HP   | Litre | Cylinders | DOHC | Turbo | Twin Turbo |\n",
      "+---+--------------------+--------------------+-----+--------+-----------+--------------------+--------------------+--------------------+----------------------------------------+-------+-------+-----------+------+-------+------------+\n",
      "| 0 | 24153.342036553524 | 14257.45871559633  | 17  | 167000 | Gasoline  | 30210.755710865204 | 30863.676513723025 | 26823.721317157713 | At least 1 accident or damage reported | 261.0 |  4.0  |    V6     | 0.0  |  0.0  |    0.0     |\n",
      "| 1 | 37397.35101289135  | 34056.566666666666 |  7  | 52500  | Gasoline  | 45805.58195336262  | 45251.596185510425 | 55500.30193905817  | At least 1 accident or damage reported | 252.0 |  2.0  |    4.0    | 0.0  |  0.0  |    0.0     |\n",
      "| 2 | 28356.28966789668  |      41899.0       |  6  | 56778  |  Hybrid   | 47891.41901408451  | 38909.767581905515 | 41152.29103293215  |             None reported              | 321.0 |  nan  |   -1.0    | 0.0  |  0.0  |    0.0     |\n",
      "| 3 | 41316.61201629328  | 34890.67424242424  |  8  | 110000 | Gasoline  | 30210.755710865204 | 37618.94097141529  | 41152.29103293215  |             None reported              | 355.0 |  5.3  |    8.0    | 0.0  |  0.0  |    0.0     |\n",
      "| 4 | 40425.07809495637  | 37500.58064516129  | 17  | 57500  | Gasoline  | 33160.34606205251  | 37761.35863746959  | 55500.30193905817  |             None reported              | 414.0 |  4.0  |    8.0    | 0.0  |  0.0  |    0.0     |\n",
      "+---+--------------------+--------------------+-----+--------+-----------+--------------------+--------------------+--------------------+----------------------------------------+-------+-------+-----------+------+-------+------------+\n"
     ]
    }
   ],
   "source": [
    "df_test[['HP', 'Litre', 'Cylinders', 'DOHC', 'Turbo', 'Twin Turbo']] = df_test['engine'].apply(lambda x: extract_engine_info(x))\n",
    "df_test=df_test.drop(['engine'],axis=1)\n",
    "# Verify changes\n",
    "print(tabulate(df_test.head(), headers='keys', tablefmt='pretty'))"
   ]
  },
  {
   "cell_type": "code",
   "execution_count": 189,
   "metadata": {
    "id": "kA9a3FBrZJFK"
   },
   "outputs": [],
   "source": [
    "df_train[['HP', 'Litre', 'Cylinders', 'DOHC', 'Turbo', 'Twin Turbo']] = df_train['engine'].apply(lambda x: extract_engine_info(x))\n",
    "df_train=df_train.drop(['engine'],axis=1)\n",
    "\n",
    "# Replace placeholders in df_train\n",
    "df_train.replace([-1, None, '–'], np.nan, inplace=True)\n",
    "\n",
    "# Compute mean/mode for df_train\n",
    "train_means_modes = {}\n",
    "for col in df_train.columns:\n",
    "    if df_train[col].dtype in ['float64', 'int64']:\n",
    "        train_means_modes[col] = df_train[col].mean()\n",
    "    else:\n",
    "        train_means_modes[col] = df_train[col].mode()[0]\n",
    "\n",
    "# Fill NaN in df_train using its own statistics\n",
    "df_train = fill_nan_with_train_statistics(df_train, train_means_modes)\n",
    "\n",
    "# Fill NaN in df_test using df_train's statistics\n",
    "df_test = fill_nan_with_train_statistics(df_test, train_means_modes)\n"
   ]
  },
  {
   "cell_type": "code",
   "execution_count": 190,
   "metadata": {
    "colab": {
     "base_uri": "https://localhost:8080/"
    },
    "id": "d0iJS9Ykbx2t",
    "outputId": "f8d74056-def2-4d4b-a3fe-b8cdf5b0e5ec"
   },
   "outputs": [
    {
     "name": "stdout",
     "output_type": "stream",
     "text": [
      "No. of Unique values in 'Cylinders' column: 14\n",
      "['V6' 4.0 8.0 'Straight 6' 'V8' 'I4' 5.0 6.0 12.0 3.0 10.0 'V1' 'I6' 'I3']\n"
     ]
    }
   ],
   "source": [
    "my_list=df_test['Cylinders'].unique()\n",
    "print(f\"No. of Unique values in '{'Cylinders'}' column:\",len(my_list))\n",
    "print(my_list)\n"
   ]
  },
  {
   "cell_type": "code",
   "execution_count": 191,
   "metadata": {
    "id": "RqhpbPxPb7y7"
   },
   "outputs": [],
   "source": [
    "# Target Encoding For Cylinders\n",
    "\n",
    "mean_price_by_Cylinders = df_train.groupby('Cylinders')['price'].mean()\n",
    "Cylinders_mapping = mean_price_by_Cylinders.to_dict()\n",
    "df_train['Cylinders'] = df_train['Cylinders'].map(Cylinders_mapping)\n",
    "\n",
    "df_test['Cylinders'] = df_test['Cylinders'].map(Cylinders_mapping)"
   ]
  },
  {
   "cell_type": "code",
   "execution_count": 192,
   "metadata": {
    "id": "GMJpz75-cS8A"
   },
   "outputs": [],
   "source": [
    "# Label encoding for 'accident'and one hot encoding for 'fuel_type'\n",
    "df_test['accident'] = df_test['accident'].map({'At least 1 accident or damage reported': 1, 'None reported': 0})\n",
    "df_test = pd.get_dummies(df_test, columns=['fuel_type'], prefix=['fuel_type'], drop_first=True)\n",
    "\n",
    "df_train['accident'] = df_train['accident'].map({'At least 1 accident or damage reported': 1, 'None reported': 0})\n",
    "df_train = pd.get_dummies(df_train, columns=['fuel_type'], prefix=['fuel_type'], drop_first=True)\n",
    "\n",
    "df_train['price']=np.log(df_train['price'])/np.log(10)\n"
   ]
  },
  {
   "cell_type": "code",
   "execution_count": 193,
   "metadata": {
    "colab": {
     "base_uri": "https://localhost:8080/"
    },
    "id": "bGCqtWTQcWrA",
    "outputId": "23f5ba4f-b966-46c5-e78f-308cb6754c71"
   },
   "outputs": [
    {
     "name": "stdout",
     "output_type": "stream",
     "text": [
      "Index(['brand', 'model', 'age', 'milage', 'transmission', 'ext_col', 'int_col',\n",
      "       'accident', 'HP', 'Litre', 'Cylinders', 'DOHC', 'Turbo', 'Twin Turbo',\n",
      "       'fuel_type_E85 Flex Fuel', 'fuel_type_Gasoline', 'fuel_type_Hybrid',\n",
      "       'fuel_type_Plug-In Hybrid'],\n",
      "      dtype='object')\n",
      "\n",
      "Index(['brand', 'model', 'age', 'milage', 'transmission', 'ext_col', 'int_col',\n",
      "       'accident', 'price', 'HP', 'Litre', 'Cylinders', 'DOHC', 'Turbo',\n",
      "       'Twin Turbo', 'fuel_type_E85 Flex Fuel', 'fuel_type_Gasoline',\n",
      "       'fuel_type_Hybrid', 'fuel_type_Plug-In Hybrid',\n",
      "       'fuel_type_not supported'],\n",
      "      dtype='object')\n"
     ]
    }
   ],
   "source": [
    "print(df_test.columns)\n",
    "print()\n",
    "print(df_train.columns)"
   ]
  },
  {
   "cell_type": "code",
   "execution_count": 194,
   "metadata": {
    "colab": {
     "base_uri": "https://localhost:8080/"
    },
    "id": "3jFOcOHPptnS",
    "outputId": "b71f8c80-405b-4b1c-d311-ab06cc9c286e"
   },
   "outputs": [
    {
     "name": "stderr",
     "output_type": "stream",
     "text": [
      "<ipython-input-194-a921c02b3402>:2: FutureWarning: DataFrame.applymap has been deprecated. Use DataFrame.map instead.\n",
      "  df_train = df_train.applymap(lambda x: 1 if x is True else (0 if x is False else x))\n",
      "<ipython-input-194-a921c02b3402>:5: FutureWarning: DataFrame.applymap has been deprecated. Use DataFrame.map instead.\n",
      "  df_test = df_test.applymap(lambda x: 1 if x is True else (0 if x is False else x))\n"
     ]
    }
   ],
   "source": [
    "# Convert all boolean columns to integers (0 and 1) in df_train\n",
    "df_train = df_train.applymap(lambda x: 1 if x is True else (0 if x is False else x))\n",
    "\n",
    "# Convert all boolean columns to integers (0 and 1) in df_test\n",
    "df_test = df_test.applymap(lambda x: 1 if x is True else (0 if x is False else x))"
   ]
  },
  {
   "cell_type": "code",
   "execution_count": 195,
   "metadata": {
    "colab": {
     "base_uri": "https://localhost:8080/"
    },
    "id": "JM5nnDwKchZ-",
    "outputId": "e9e6415c-5a4d-4330-972c-3044f498eff8"
   },
   "outputs": [
    {
     "name": "stdout",
     "output_type": "stream",
     "text": [
      "['brand', 'model', 'age', 'milage', 'transmission', 'ext_col', 'int_col', 'HP', 'Litre', 'Cylinders']\n",
      "Scaled df_test:\n",
      "+---+----------------------+----------------------+---------------------+---------------------+----------------------+-----------------------+---------------------+----------+----------------------+-----------------------+----------------------+------+-------+------------+-------------------------+--------------------+------------------+--------------------------+\n",
      "|   |        brand         |        model         |         age         |       milage        |     transmission     |        ext_col        |       int_col       | accident |          HP          |         Litre         |      Cylinders       | DOHC | Turbo | Twin Turbo | fuel_type_E85 Flex Fuel | fuel_type_Gasoline | fuel_type_Hybrid | fuel_type_Plug-In Hybrid |\n",
      "+---+----------------------+----------------------+---------------------+---------------------+----------------------+-----------------------+---------------------+----------+----------------------+-----------------------+----------------------+------+-------+------------+-------------------------+--------------------+------------------+--------------------------+\n",
      "| 0 | -0.9033155862183802  |  -0.86517320870223   |  1.271806673186556  | 1.8659431306732144  | -0.5201699082748451  |  -0.7845038969565993  | -1.1740153821514945 |   1.0    | -0.6758433911063902  |  0.21741771709115207  | -0.37065372645765066 | 0.0  |  0.0  |    0.0     |           0.0           |        1.0         |       0.0        |           0.0            |\n",
      "| 1 | -0.11093806159422252 | -0.17982626972814428 | -0.5214228736539662 | -0.402936638006298  |  0.3770869946082866  |  0.5611664570028466   | 1.5349544637146433  |   1.0    | -0.7623197892158395  |  -1.2860044354987812  | -1.0473640819967251  | 0.0  |  0.0  |    0.0     |           0.0           |        1.0         |       0.0        |           0.0            |\n",
      "| 2 | -0.6518568892181957  | 0.09163988381731265  | -0.7007458283380185 | -0.3181657414961586 | 0.49709677682195896  | -0.031970767588217895 | 0.17955127233240753 |   0.0    | -0.09933407037672845 | 6.676535558147438e-16 | -0.37065372645765066 | 0.0  |  0.0  |    0.0     |           0.0           |        0.0         |       1.0        |           0.0            |\n",
      "| 3 | 0.12354791148085337  | -0.15095360156383714 | -0.342099918969914  | 0.7364571322912737  | -0.5201699082748451  | -0.15269892992600903  | 0.17955127233240753 |   0.0    |  0.2273545447034132  |  1.1946421162746086   |  0.5823539848369421  | 0.0  |  0.0  |    0.0     |           0.0           |        1.0         |       0.0        |           0.0            |\n",
      "| 4 | 0.07020821328451864  | -0.06061158370398668 |  1.271806673186556  | -0.3038589188499874 | -0.35046360554809786 |  -0.1393789201218709  | 1.5349544637146433  |   0.0    |  0.7942553767542473  |  0.21741771709115207  |  0.5823539848369421  | 0.0  |  0.0  |    0.0     |           0.0           |        1.0         |       0.0        |           0.0            |\n",
      "+---+----------------------+----------------------+---------------------+---------------------+----------------------+-----------------------+---------------------+----------+----------------------+-----------------------+----------------------+------+-------+------------+-------------------------+--------------------+------------------+--------------------------+\n"
     ]
    }
   ],
   "source": [
    "# Define columns to scale, excluding 'price'\n",
    "cols_to_scale = [\n",
    "    col for col in df_train.select_dtypes(include=['number']).columns\n",
    "    if df_train[col].nunique() > 2 and col != 'price'\n",
    "]\n",
    "\n",
    "print(cols_to_scale)\n",
    "\n",
    "# Fit the scaler on df (excluding 'price')\n",
    "scaler = StandardScaler()\n",
    "df_train[cols_to_scale] = scaler.fit_transform(df_train[cols_to_scale])\n",
    "\n",
    "# Handle 'price' scaling separately\n",
    "price_scaler = StandardScaler()\n",
    "df_train[['price']] = price_scaler.fit_transform(df_train[['price']])\n",
    "\n",
    "# Apply the same scaler to df_test (same cols_to_scale)\n",
    "df_test[cols_to_scale] = scaler.transform(df_test[cols_to_scale])\n",
    "\n",
    "print(\"Scaled df_test:\")\n",
    "print(tabulate(df_test.head(), headers='keys', tablefmt='pretty'))\n",
    "\n"
   ]
  },
  {
   "cell_type": "code",
   "execution_count": 205,
   "metadata": {
    "id": "5fcfhCbRp2PM"
   },
   "outputs": [],
   "source": [
    "df_train = df_train.drop(columns=['fuel_type_not supported'])\n",
    "X_train = df_train.drop(columns=['price']).astype('float32')\n",
    "y_train = df_train['price'].astype('float32')\n",
    "X_test = df_test.astype('float32')"
   ]
  },
  {
   "cell_type": "code",
   "execution_count": 208,
   "metadata": {
    "colab": {
     "base_uri": "https://localhost:8080/"
    },
    "id": "u2NVndV0rrnu",
    "outputId": "b15ac986-012c-4069-9229-27a6cf7cbdbc"
   },
   "outputs": [
    {
     "name": "stdout",
     "output_type": "stream",
     "text": [
      "Model Prepared Sucessfully\n"
     ]
    }
   ],
   "source": [
    "stacking_model_final = StackingRegressor(\n",
    "    estimators=[\n",
    "        ('nn', MLPRegressor(hidden_layer_sizes=(64, 32), max_iter=500, random_state=42)),\n",
    "        ('rf', RandomForestRegressor(n_estimators=100, random_state=42)),\n",
    "        ('elasticnet', ElasticNet(alpha=0.1, l1_ratio=0.5))\n",
    "    ],\n",
    "    final_estimator=LinearRegression()\n",
    ")\n",
    "\n",
    "\n",
    "def fit_my_model(model, model_name):\n",
    "    # Train the model\n",
    "    model.fit(X_train, y_train)\n",
    "    y_pred = model.predict(X_test)\n",
    "    return y_pred\n",
    "\n",
    "y_pred=fit_my_model(stacking_model_final, \"Stacking Model Final : Neural Network + RF + ElasticNet\")\n",
    "\n",
    "print(\"Model Prepared Sucessfully\")"
   ]
  },
  {
   "cell_type": "code",
   "execution_count": null,
   "metadata": {
    "colab": {
     "base_uri": "https://localhost:8080/"
    },
    "id": "DBZhVaEmub_8",
    "outputId": "b3fc3924-19b7-4102-93ed-eaf4b7360471"
   },
   "outputs": [
    {
     "name": "stdout",
     "output_type": "stream",
     "text": [
      "Submission file created successfully.\n"
     ]
    }
   ],
   "source": [
    "y_pred = y_pred.reshape(-1, 1)\n",
    "y_pred_original = price_scaler.inverse_transform(y_pred)\n",
    "price_prediction = 10 ** y_pred_original\n",
    "price_prediction = price_prediction.flatten()\n",
    "\n",
    "n_samples = len(price_prediction)\n",
    "\n",
    "# Create a DataFrame for submission\n",
    "submission = pd.DataFrame({\n",
    "    'id': range(id_start_test, id_start_test + n_samples),\n",
    "    'price': price_prediction\n",
    "})\n",
    "\n",
    "# Save to CSV\n",
    "submission.to_csv('submission.csv', index=False)\n",
    "\n",
    "print(\"Submission file created successfully.\")\n"
   ]
  }
 ],
 "metadata": {
  "accelerator": "TPU",
  "colab": {
   "gpuType": "V28",
   "provenance": []
  },
  "kernelspec": {
   "display_name": "Python 3",
   "name": "python3"
  },
  "language_info": {
   "codemirror_mode": {
    "name": "ipython",
    "version": 3
   },
   "file_extension": ".py",
   "mimetype": "text/x-python",
   "name": "python",
   "nbconvert_exporter": "python",
   "pygments_lexer": "ipython3",
   "version": "3.11.9"
  }
 },
 "nbformat": 4,
 "nbformat_minor": 0
}
